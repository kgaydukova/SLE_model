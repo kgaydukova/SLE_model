{
 "cells": [
  {
   "cell_type": "code",
   "execution_count": 1,
   "id": "2c6297ba",
   "metadata": {},
   "outputs": [],
   "source": [
    "import pandas as pd\n",
    "import numpy as np"
   ]
  },
  {
   "cell_type": "code",
   "execution_count": 2,
   "id": "c5029aa8",
   "metadata": {},
   "outputs": [],
   "source": [
    "from sklearn.model_selection import train_test_split\n",
    "from sklearn.tree import DecisionTreeClassifier\n",
    "from sklearn.metrics import accuracy_score\n",
    "\n",
    "from sklearn.tree import export_graphviz\n",
    "import graphviz\n",
    "\n",
    "import matplotlib.pyplot as plt # to draw graphs\n",
    "from sklearn.tree import plot_tree # to draw a classification tree\n",
    "from sklearn.model_selection import train_test_split # to split data into training and testing sets\n",
    "from sklearn.model_selection import cross_val_score # for cross validation\n",
    "from sklearn.metrics import ConfusionMatrixDisplay # creates and draws a confusion matrix"
   ]
  },
  {
   "cell_type": "code",
   "execution_count": 3,
   "id": "fbd39106",
   "metadata": {},
   "outputs": [],
   "source": [
    "# Load data\n",
    "df = pd.read_csv('sle_many_values.csv', sep = ';')"
   ]
  },
  {
   "cell_type": "code",
   "execution_count": 4,
   "id": "f544afae",
   "metadata": {},
   "outputs": [
    {
     "data": {
      "text/plain": [
       "Index(['Age', 'Age of SLE debut', 'Age at diagnosis', 'Disease duration',\n",
       "       'Height', 'Weight', 'BMI', 'PRE (in the debut of SLE)',\n",
       "       'PRE (currently)', 'CYC (total dose in grams)', 'SLEDAI-2K', 'SDI',\n",
       "       'Number of exacerbations of SLE', 'SF-36 (mental)', 'SF-36  (physical)',\n",
       "       'LupusQol', 'Hb (in debut)', 'Hb (currently)', 'Er (in debut)',\n",
       "       'Er  (currently)', 'Leu  (in debut)', 'Leu (currently)',\n",
       "       'Tr (in debut)', 'Tr (currently)', 'ESR (in debut)', 'ESR (currently)',\n",
       "       'Complement c3 (g/l)', 'Complement C4 (g/l)', 'ANF (in debut)',\n",
       "       'ANF (currently)', 'Anti-dsDNA (in debut)', 'Anti-dsDNA (currently)',\n",
       "       'CCI', 'CiRS (general)', 'CIRS (severity index)', 'Class'],\n",
       "      dtype='object')"
      ]
     },
     "execution_count": 4,
     "metadata": {},
     "output_type": "execute_result"
    }
   ],
   "source": [
    "df.columns"
   ]
  },
  {
   "cell_type": "code",
   "execution_count": 5,
   "id": "3a2387c7",
   "metadata": {},
   "outputs": [],
   "source": [
    "columns_for_new_df = ['Age at diagnosis', 'PRE (currently)', 'SLEDAI-2K', 'ANF (currently)']"
   ]
  },
  {
   "cell_type": "code",
   "execution_count": 9,
   "id": "15defa8f",
   "metadata": {},
   "outputs": [],
   "source": [
    "new_df = df[columns_for_new_df]"
   ]
  },
  {
   "cell_type": "code",
   "execution_count": 10,
   "id": "f2c78983",
   "metadata": {},
   "outputs": [
    {
     "data": {
      "text/html": [
       "<div>\n",
       "<style scoped>\n",
       "    .dataframe tbody tr th:only-of-type {\n",
       "        vertical-align: middle;\n",
       "    }\n",
       "\n",
       "    .dataframe tbody tr th {\n",
       "        vertical-align: top;\n",
       "    }\n",
       "\n",
       "    .dataframe thead th {\n",
       "        text-align: right;\n",
       "    }\n",
       "</style>\n",
       "<table border=\"1\" class=\"dataframe\">\n",
       "  <thead>\n",
       "    <tr style=\"text-align: right;\">\n",
       "      <th></th>\n",
       "      <th>Age at diagnosis</th>\n",
       "      <th>PRE (currently)</th>\n",
       "      <th>SLEDAI-2K</th>\n",
       "      <th>ANF (currently)</th>\n",
       "    </tr>\n",
       "  </thead>\n",
       "  <tbody>\n",
       "    <tr>\n",
       "      <th>0</th>\n",
       "      <td>32</td>\n",
       "      <td>10.0</td>\n",
       "      <td>0</td>\n",
       "      <td>320</td>\n",
       "    </tr>\n",
       "    <tr>\n",
       "      <th>1</th>\n",
       "      <td>28</td>\n",
       "      <td>20.0</td>\n",
       "      <td>6</td>\n",
       "      <td>1280</td>\n",
       "    </tr>\n",
       "    <tr>\n",
       "      <th>2</th>\n",
       "      <td>20</td>\n",
       "      <td>10.0</td>\n",
       "      <td>10</td>\n",
       "      <td>320</td>\n",
       "    </tr>\n",
       "    <tr>\n",
       "      <th>3</th>\n",
       "      <td>16</td>\n",
       "      <td>5.0</td>\n",
       "      <td>2</td>\n",
       "      <td>640</td>\n",
       "    </tr>\n",
       "    <tr>\n",
       "      <th>4</th>\n",
       "      <td>14</td>\n",
       "      <td>5.0</td>\n",
       "      <td>2</td>\n",
       "      <td>1280</td>\n",
       "    </tr>\n",
       "    <tr>\n",
       "      <th>...</th>\n",
       "      <td>...</td>\n",
       "      <td>...</td>\n",
       "      <td>...</td>\n",
       "      <td>...</td>\n",
       "    </tr>\n",
       "    <tr>\n",
       "      <th>124</th>\n",
       "      <td>40</td>\n",
       "      <td>10.0</td>\n",
       "      <td>7</td>\n",
       "      <td>640</td>\n",
       "    </tr>\n",
       "    <tr>\n",
       "      <th>125</th>\n",
       "      <td>47</td>\n",
       "      <td>12.5</td>\n",
       "      <td>4</td>\n",
       "      <td>160</td>\n",
       "    </tr>\n",
       "    <tr>\n",
       "      <th>126</th>\n",
       "      <td>34</td>\n",
       "      <td>15.0</td>\n",
       "      <td>2</td>\n",
       "      <td>0</td>\n",
       "    </tr>\n",
       "    <tr>\n",
       "      <th>127</th>\n",
       "      <td>34</td>\n",
       "      <td>30.0</td>\n",
       "      <td>12</td>\n",
       "      <td>160</td>\n",
       "    </tr>\n",
       "    <tr>\n",
       "      <th>128</th>\n",
       "      <td>32</td>\n",
       "      <td>5.0</td>\n",
       "      <td>4</td>\n",
       "      <td>320</td>\n",
       "    </tr>\n",
       "  </tbody>\n",
       "</table>\n",
       "<p>129 rows × 4 columns</p>\n",
       "</div>"
      ],
      "text/plain": [
       "     Age at diagnosis  PRE (currently)  SLEDAI-2K  ANF (currently)\n",
       "0                  32             10.0          0              320\n",
       "1                  28             20.0          6             1280\n",
       "2                  20             10.0         10              320\n",
       "3                  16              5.0          2              640\n",
       "4                  14              5.0          2             1280\n",
       "..                ...              ...        ...              ...\n",
       "124                40             10.0          7              640\n",
       "125                47             12.5          4              160\n",
       "126                34             15.0          2                0\n",
       "127                34             30.0         12              160\n",
       "128                32              5.0          4              320\n",
       "\n",
       "[129 rows x 4 columns]"
      ]
     },
     "execution_count": 10,
     "metadata": {},
     "output_type": "execute_result"
    }
   ],
   "source": [
    "new_df"
   ]
  },
  {
   "cell_type": "code",
   "execution_count": 11,
   "id": "67014fda",
   "metadata": {},
   "outputs": [
    {
     "name": "stderr",
     "output_type": "stream",
     "text": [
      "<ipython-input-11-24def4f0dc82>:1: SettingWithCopyWarning: \n",
      "A value is trying to be set on a copy of a slice from a DataFrame.\n",
      "Try using .loc[row_indexer,col_indexer] = value instead\n",
      "\n",
      "See the caveats in the documentation: https://pandas.pydata.org/pandas-docs/stable/user_guide/indexing.html#returning-a-view-versus-a-copy\n",
      "  new_df['Class'] = [0 if x <=7.5 else 1 for x in new_df['PRE (currently)']]\n"
     ]
    }
   ],
   "source": [
    "new_df['Class'] = [0 if x <=7.5 else 1 for x in new_df['PRE (currently)']]"
   ]
  },
  {
   "cell_type": "code",
   "execution_count": 13,
   "id": "47b64a26",
   "metadata": {},
   "outputs": [],
   "source": [
    "new_df = new_df.drop(columns=['PRE (currently)'])"
   ]
  },
  {
   "cell_type": "code",
   "execution_count": 14,
   "id": "b6d169cb",
   "metadata": {},
   "outputs": [
    {
     "data": {
      "text/html": [
       "<div>\n",
       "<style scoped>\n",
       "    .dataframe tbody tr th:only-of-type {\n",
       "        vertical-align: middle;\n",
       "    }\n",
       "\n",
       "    .dataframe tbody tr th {\n",
       "        vertical-align: top;\n",
       "    }\n",
       "\n",
       "    .dataframe thead th {\n",
       "        text-align: right;\n",
       "    }\n",
       "</style>\n",
       "<table border=\"1\" class=\"dataframe\">\n",
       "  <thead>\n",
       "    <tr style=\"text-align: right;\">\n",
       "      <th></th>\n",
       "      <th>Age at diagnosis</th>\n",
       "      <th>SLEDAI-2K</th>\n",
       "      <th>ANF (currently)</th>\n",
       "      <th>Class</th>\n",
       "    </tr>\n",
       "  </thead>\n",
       "  <tbody>\n",
       "    <tr>\n",
       "      <th>0</th>\n",
       "      <td>32</td>\n",
       "      <td>0</td>\n",
       "      <td>320</td>\n",
       "      <td>1</td>\n",
       "    </tr>\n",
       "    <tr>\n",
       "      <th>1</th>\n",
       "      <td>28</td>\n",
       "      <td>6</td>\n",
       "      <td>1280</td>\n",
       "      <td>1</td>\n",
       "    </tr>\n",
       "    <tr>\n",
       "      <th>2</th>\n",
       "      <td>20</td>\n",
       "      <td>10</td>\n",
       "      <td>320</td>\n",
       "      <td>1</td>\n",
       "    </tr>\n",
       "    <tr>\n",
       "      <th>3</th>\n",
       "      <td>16</td>\n",
       "      <td>2</td>\n",
       "      <td>640</td>\n",
       "      <td>0</td>\n",
       "    </tr>\n",
       "    <tr>\n",
       "      <th>4</th>\n",
       "      <td>14</td>\n",
       "      <td>2</td>\n",
       "      <td>1280</td>\n",
       "      <td>0</td>\n",
       "    </tr>\n",
       "    <tr>\n",
       "      <th>...</th>\n",
       "      <td>...</td>\n",
       "      <td>...</td>\n",
       "      <td>...</td>\n",
       "      <td>...</td>\n",
       "    </tr>\n",
       "    <tr>\n",
       "      <th>124</th>\n",
       "      <td>40</td>\n",
       "      <td>7</td>\n",
       "      <td>640</td>\n",
       "      <td>1</td>\n",
       "    </tr>\n",
       "    <tr>\n",
       "      <th>125</th>\n",
       "      <td>47</td>\n",
       "      <td>4</td>\n",
       "      <td>160</td>\n",
       "      <td>1</td>\n",
       "    </tr>\n",
       "    <tr>\n",
       "      <th>126</th>\n",
       "      <td>34</td>\n",
       "      <td>2</td>\n",
       "      <td>0</td>\n",
       "      <td>1</td>\n",
       "    </tr>\n",
       "    <tr>\n",
       "      <th>127</th>\n",
       "      <td>34</td>\n",
       "      <td>12</td>\n",
       "      <td>160</td>\n",
       "      <td>1</td>\n",
       "    </tr>\n",
       "    <tr>\n",
       "      <th>128</th>\n",
       "      <td>32</td>\n",
       "      <td>4</td>\n",
       "      <td>320</td>\n",
       "      <td>0</td>\n",
       "    </tr>\n",
       "  </tbody>\n",
       "</table>\n",
       "<p>129 rows × 4 columns</p>\n",
       "</div>"
      ],
      "text/plain": [
       "     Age at diagnosis  SLEDAI-2K  ANF (currently)  Class\n",
       "0                  32          0              320      1\n",
       "1                  28          6             1280      1\n",
       "2                  20         10              320      1\n",
       "3                  16          2              640      0\n",
       "4                  14          2             1280      0\n",
       "..                ...        ...              ...    ...\n",
       "124                40          7              640      1\n",
       "125                47          4              160      1\n",
       "126                34          2                0      1\n",
       "127                34         12              160      1\n",
       "128                32          4              320      0\n",
       "\n",
       "[129 rows x 4 columns]"
      ]
     },
     "execution_count": 14,
     "metadata": {},
     "output_type": "execute_result"
    }
   ],
   "source": [
    "new_df"
   ]
  },
  {
   "cell_type": "code",
   "execution_count": 17,
   "id": "1b6ea63f",
   "metadata": {},
   "outputs": [
    {
     "data": {
      "text/plain": [
       "45"
      ]
     },
     "execution_count": 17,
     "metadata": {},
     "output_type": "execute_result"
    }
   ],
   "source": [
    "len(new_df.loc[(new_df['Class'] == 0)])"
   ]
  },
  {
   "cell_type": "code",
   "execution_count": 18,
   "id": "1458edb2",
   "metadata": {},
   "outputs": [],
   "source": [
    "df = new_df"
   ]
  },
  {
   "cell_type": "code",
   "execution_count": 19,
   "id": "0aab5453",
   "metadata": {},
   "outputs": [
    {
     "data": {
      "text/html": [
       "<div>\n",
       "<style scoped>\n",
       "    .dataframe tbody tr th:only-of-type {\n",
       "        vertical-align: middle;\n",
       "    }\n",
       "\n",
       "    .dataframe tbody tr th {\n",
       "        vertical-align: top;\n",
       "    }\n",
       "\n",
       "    .dataframe thead th {\n",
       "        text-align: right;\n",
       "    }\n",
       "</style>\n",
       "<table border=\"1\" class=\"dataframe\">\n",
       "  <thead>\n",
       "    <tr style=\"text-align: right;\">\n",
       "      <th></th>\n",
       "      <th>Age at diagnosis</th>\n",
       "      <th>SLEDAI-2K</th>\n",
       "      <th>ANF (currently)</th>\n",
       "      <th>Class</th>\n",
       "    </tr>\n",
       "  </thead>\n",
       "  <tbody>\n",
       "    <tr>\n",
       "      <th>0</th>\n",
       "      <td>32</td>\n",
       "      <td>0</td>\n",
       "      <td>320</td>\n",
       "      <td>1</td>\n",
       "    </tr>\n",
       "    <tr>\n",
       "      <th>1</th>\n",
       "      <td>28</td>\n",
       "      <td>6</td>\n",
       "      <td>1280</td>\n",
       "      <td>1</td>\n",
       "    </tr>\n",
       "    <tr>\n",
       "      <th>2</th>\n",
       "      <td>20</td>\n",
       "      <td>10</td>\n",
       "      <td>320</td>\n",
       "      <td>1</td>\n",
       "    </tr>\n",
       "    <tr>\n",
       "      <th>3</th>\n",
       "      <td>16</td>\n",
       "      <td>2</td>\n",
       "      <td>640</td>\n",
       "      <td>0</td>\n",
       "    </tr>\n",
       "    <tr>\n",
       "      <th>4</th>\n",
       "      <td>14</td>\n",
       "      <td>2</td>\n",
       "      <td>1280</td>\n",
       "      <td>0</td>\n",
       "    </tr>\n",
       "    <tr>\n",
       "      <th>...</th>\n",
       "      <td>...</td>\n",
       "      <td>...</td>\n",
       "      <td>...</td>\n",
       "      <td>...</td>\n",
       "    </tr>\n",
       "    <tr>\n",
       "      <th>124</th>\n",
       "      <td>40</td>\n",
       "      <td>7</td>\n",
       "      <td>640</td>\n",
       "      <td>1</td>\n",
       "    </tr>\n",
       "    <tr>\n",
       "      <th>125</th>\n",
       "      <td>47</td>\n",
       "      <td>4</td>\n",
       "      <td>160</td>\n",
       "      <td>1</td>\n",
       "    </tr>\n",
       "    <tr>\n",
       "      <th>126</th>\n",
       "      <td>34</td>\n",
       "      <td>2</td>\n",
       "      <td>0</td>\n",
       "      <td>1</td>\n",
       "    </tr>\n",
       "    <tr>\n",
       "      <th>127</th>\n",
       "      <td>34</td>\n",
       "      <td>12</td>\n",
       "      <td>160</td>\n",
       "      <td>1</td>\n",
       "    </tr>\n",
       "    <tr>\n",
       "      <th>128</th>\n",
       "      <td>32</td>\n",
       "      <td>4</td>\n",
       "      <td>320</td>\n",
       "      <td>0</td>\n",
       "    </tr>\n",
       "  </tbody>\n",
       "</table>\n",
       "<p>129 rows × 4 columns</p>\n",
       "</div>"
      ],
      "text/plain": [
       "     Age at diagnosis  SLEDAI-2K  ANF (currently)  Class\n",
       "0                  32          0              320      1\n",
       "1                  28          6             1280      1\n",
       "2                  20         10              320      1\n",
       "3                  16          2              640      0\n",
       "4                  14          2             1280      0\n",
       "..                ...        ...              ...    ...\n",
       "124                40          7              640      1\n",
       "125                47          4              160      1\n",
       "126                34          2                0      1\n",
       "127                34         12              160      1\n",
       "128                32          4              320      0\n",
       "\n",
       "[129 rows x 4 columns]"
      ]
     },
     "execution_count": 19,
     "metadata": {},
     "output_type": "execute_result"
    }
   ],
   "source": [
    "df"
   ]
  },
  {
   "cell_type": "code",
   "execution_count": 34,
   "id": "c1c6ec18",
   "metadata": {},
   "outputs": [],
   "source": [
    "trees = []\n",
    "xtest = []\n",
    "ytest = []\n",
    "\n",
    "for i in range(100):\n",
    "    # Split the dataframe into training and testing sets\n",
    "    X_train, X_test, y_train, y_test = train_test_split(df.drop('Class', axis=1), df['Class'], test_size=0.25)\n",
    "\n",
    "    # Fit a decision tree classifier on the training data with max_depth = 4\n",
    "    tree = DecisionTreeClassifier(max_depth=3)\n",
    "    tree.fit(X_train, y_train)\n",
    "    \n",
    "    trees.append(tree)\n",
    "    xtest.append(X_test)\n",
    "    ytest.append(y_test)\n",
    "    \n",
    "    # Make predictions on the testing data\n",
    "    y_pred = tree.predict(X_test)\n",
    "    \n",
    "    # Calculate the accuracy of the classifier\n",
    "    accuracy = accuracy_score(y_test, y_pred)\n",
    "    #print(f\"Accuracy: {accuracy:.2f}\")\n",
    "    if accuracy > 0.8:\n",
    "        tree_save = tree\n",
    "        name = str(i) + ' ' + str(accuracy)\n",
    "        # Export the decision tree to a dot file\n",
    "        dot_data = export_graphviz(tree, out_file=None, filled=True, rounded=True, feature_names=X_train.columns, class_names=['Low', 'Hight'], impurity=False, proportion=False, precision=0, node_ids=False)\n",
    "\n",
    "        # Convert the dot file to PDF using Graphviz\n",
    "        graph = graphviz.Source(dot_data)\n",
    "        graph.render(name)"
   ]
  },
  {
   "cell_type": "code",
   "execution_count": 35,
   "id": "77b38089",
   "metadata": {},
   "outputs": [
    {
     "data": {
      "text/plain": [
       "<sklearn.metrics._plot.confusion_matrix.ConfusionMatrixDisplay at 0x7fa1e8f41a00>"
      ]
     },
     "execution_count": 35,
     "metadata": {},
     "output_type": "execute_result"
    },
    {
     "data": {
      "image/png": "[encoded data removed]",
      "text/plain": [
       "<Figure size 432x288 with 2 Axes>"
      ]
     },
     "metadata": {
      "needs_background": "light"
     },
     "output_type": "display_data"
    }
   ],
   "source": [
    "## plot_confusion_matrix() will run the test data down the tree and draw\n",
    "## a confusion matrix.\n",
    "n_tree = 8\n",
    "ConfusionMatrixDisplay.from_estimator(trees[n_tree], \n",
    "                                      xtest[n_tree], \n",
    "                                      ytest[n_tree], \n",
    "                                      display_labels=[\"Low\", \"High\"])"
   ]
  },
  {
   "cell_type": "code",
   "execution_count": null,
   "id": "84fcd0f0",
   "metadata": {},
   "outputs": [],
   "source": []
  }
 ],
 "metadata": {
  "kernelspec": {
   "display_name": "Python 3",
   "language": "python",
   "name": "python3"
  },
  "language_info": {
   "codemirror_mode": {
    "name": "ipython",
    "version": 3
   },
   "file_extension": ".py",
   "mimetype": "text/x-python",
   "name": "python",
   "nbconvert_exporter": "python",
   "pygments_lexer": "ipython3",
   "version": "3.8.8"
  }
 },
 "nbformat": 4,
 "nbformat_minor": 5
}
