{
 "cells": [
  {
   "cell_type": "code",
   "execution_count": 1,
   "id": "5d767604",
   "metadata": {},
   "outputs": [],
   "source": [
    "import pandas as pd\n",
    "import numpy as np"
   ]
  },
  {
   "cell_type": "markdown",
   "id": "cdfa80b8",
   "metadata": {},
   "source": [
    "# SLE_juniors "
   ]
  },
  {
   "cell_type": "code",
   "execution_count": 45,
   "id": "f5fe282a",
   "metadata": {},
   "outputs": [],
   "source": [
    "SLE = pd.read_csv('SLE_juniors.csv', sep = ';')"
   ]
  },
  {
   "cell_type": "code",
   "execution_count": 46,
   "id": "81182382",
   "metadata": {},
   "outputs": [],
   "source": [
    "# Remove newline characters from column names\n",
    "SLE.columns = SLE.columns.str.replace('\\n', '')"
   ]
  },
  {
   "cell_type": "code",
   "execution_count": 47,
   "id": "dea16382",
   "metadata": {},
   "outputs": [],
   "source": [
    "# select columns with different dtype\n",
    "int_cols = SLE.select_dtypes(include=['int64']).columns.tolist()\n",
    "float_cols = SLE.select_dtypes(include=['float']).columns.tolist()\n",
    "object_cols = SLE.select_dtypes(include=['object']).columns.tolist()"
   ]
  },
  {
   "cell_type": "code",
   "execution_count": 49,
   "id": "82a09c51",
   "metadata": {},
   "outputs": [],
   "source": [
    "# changing for float columns (they are int, but with a few missed values)\n",
    "for x in float_cols:\n",
    "    # Mode in the column\n",
    "    mode_x = SLE[x].mode()[0]\n",
    "    \n",
    "    # Replace NaN values in column with mode of the column\n",
    "    SLE.loc[SLE[x].isna(), x] = mode_x\n",
    "    \n",
    "    # Convert the data type of column  to int\n",
    "    SLE[x] = SLE[x].astype('int')"
   ]
  },
  {
   "cell_type": "code",
   "execution_count": 50,
   "id": "2b4f713c",
   "metadata": {},
   "outputs": [],
   "source": [
    "# Convert the data type of column to float\n",
    "for x in object_cols:\n",
    "    if (x != 'Full name'):\n",
    "        #print (x, ' - ', SLE[x].isna().sum())\n",
    "        # replace comma with period in column \n",
    "        SLE[x] = SLE[x].str.replace(',', '.')\n",
    "        SLE[x] = SLE[x].astype(float)"
   ]
  },
  {
   "cell_type": "code",
   "execution_count": 51,
   "id": "0370e633",
   "metadata": {},
   "outputs": [
    {
     "name": "stdout",
     "output_type": "stream",
     "text": [
      "We have deleted next parameters : \n"
     ]
    }
   ],
   "source": [
    "# delete float columns with many NaN values\n",
    "float_cols = SLE.select_dtypes(include=['float']).columns.tolist()\n",
    "for x in float_cols:\n",
    "    #message = 'We have deleted next parameters : '\n",
    "    if (SLE[x].isna().sum() != 0):\n",
    "        SLE = SLE.drop(columns=[x])\n",
    "        message += (x + ' ')\n",
    "print (message)"
   ]
  },
  {
   "cell_type": "code",
   "execution_count": 52,
   "id": "4c67f9a7",
   "metadata": {},
   "outputs": [
    {
     "data": {
      "text/plain": [
       "int64      216\n",
       "float64     15\n",
       "object       1\n",
       "dtype: int64"
      ]
     },
     "execution_count": 52,
     "metadata": {},
     "output_type": "execute_result"
    }
   ],
   "source": [
    "SLE.dtypes.value_counts() "
   ]
  },
  {
   "cell_type": "code",
   "execution_count": 54,
   "id": "b3b5b232",
   "metadata": {},
   "outputs": [
    {
     "name": "stdout",
     "output_type": "stream",
     "text": [
      "int =  216\n",
      "float =  ['BMI', 'PRE (currently)', 'CYC (total dose in grams)', 'SF-36 (mental)', 'SF-36  (physical)', 'LupusQol', 'Er (in debut)', 'Er  (currently)', 'Leu  (in debut)', 'Leu (currently)', 'Complement c3 (g/l)', 'Complement C4 (g/l)', 'Anti-dsDNA (in debut)', 'Anti-dsDNA (currently)', 'CIRS (severity index)']\n",
      "object =  ['Full name']\n"
     ]
    }
   ],
   "source": [
    "# select columns with different dtype\n",
    "int_cols = SLE.select_dtypes(include=['int64']).columns.tolist()\n",
    "float_cols = SLE.select_dtypes(include=['float']).columns.tolist()\n",
    "object_cols = SLE.select_dtypes(include=['object']).columns.tolist()\n",
    "\n",
    "# Print the float and object columns\n",
    "print('int = ', len(int_cols))\n",
    "print('float = ', float_cols)\n",
    "print('object = ', object_cols)"
   ]
  },
  {
   "cell_type": "code",
   "execution_count": 55,
   "id": "ca94e2fa",
   "metadata": {},
   "outputs": [],
   "source": [
    "SLE.to_csv('SLE_juniors_fixed.csv', index=False, sep = ';')"
   ]
  },
  {
   "cell_type": "markdown",
   "id": "6db04590",
   "metadata": {},
   "source": [
    "# SLA_adults"
   ]
  },
  {
   "cell_type": "code",
   "execution_count": 50,
   "id": "1948ef12",
   "metadata": {},
   "outputs": [],
   "source": [
    "SLE_adults = pd.read_csv('SLE_adults.csv', sep = ';')"
   ]
  },
  {
   "cell_type": "code",
   "execution_count": 51,
   "id": "dd01b9a5",
   "metadata": {},
   "outputs": [],
   "source": [
    "# Remove newline characters from column names\n",
    "SLE_adults.columns = SLE_adults.columns.str.replace('\\n', '')"
   ]
  },
  {
   "cell_type": "code",
   "execution_count": 70,
   "id": "5c7bc7af",
   "metadata": {},
   "outputs": [
    {
     "data": {
      "text/plain": [
       "int64      212\n",
       "float64     13\n",
       "object       1\n",
       "dtype: int64"
      ]
     },
     "execution_count": 70,
     "metadata": {},
     "output_type": "execute_result"
    }
   ],
   "source": [
    "SLE_adults.dtypes.value_counts() "
   ]
  },
  {
   "cell_type": "code",
   "execution_count": 53,
   "id": "f0a82716",
   "metadata": {},
   "outputs": [],
   "source": [
    "# select columns with different dtype\n",
    "int_cols_adults = SLE_adults.select_dtypes(include=['int64']).columns.tolist()\n",
    "float_cols_adults = SLE_adults.select_dtypes(include=['float']).columns.tolist()\n",
    "object_cols_adults = SLE_adults.select_dtypes(include=['object']).columns.tolist()"
   ]
  },
  {
   "cell_type": "code",
   "execution_count": 54,
   "id": "541d0266",
   "metadata": {},
   "outputs": [
    {
     "name": "stdout",
     "output_type": "stream",
     "text": [
      "PRE (in the debut of SLE)  -  1\n",
      "GFR <50%  -  1\n",
      "Hb (in debut)  -  24\n",
      "Tr (in debut)  -  24\n",
      "ESR (in debut)  -  24\n",
      "ANF (in debut)  -  13\n",
      "Z-score Total  -  57\n",
      "Heredity for CVD  -  3\n"
     ]
    }
   ],
   "source": [
    "for x in float_cols_adults:\n",
    "    print (x, ' - ', SLE_adults[x].isna().sum())"
   ]
  },
  {
   "cell_type": "code",
   "execution_count": 55,
   "id": "f8cfca6e",
   "metadata": {},
   "outputs": [],
   "source": [
    "# delete float columns with many missed values \n",
    "for x in float_cols_adults:\n",
    "    if SLE_adults[x].isna().sum() > 15:\n",
    "        SLE_adults = SLE_adults.drop(columns=[x])"
   ]
  },
  {
   "cell_type": "code",
   "execution_count": 56,
   "id": "da946c16",
   "metadata": {},
   "outputs": [],
   "source": [
    "# select float types after drop \n",
    "float_cols_adults = SLE_adults.select_dtypes(include=['float']).columns.tolist()\n",
    "\n",
    "# fill missed values by median or mode and change type of column to int \n",
    "for x in float_cols_adults:\n",
    "    if (x == 'PRE (in the debut of SLE)') or (x == 'ANF (in debut)'):\n",
    "        # Median in the column\n",
    "        median_x = SLE_adults[x].median()\n",
    "        SLE_adults.loc[SLE_adults[x].isna(), x] = median_x\n",
    "    else:\n",
    "        # Mode in the column\n",
    "        mode_x = SLE_adults[x].mode()[0]\n",
    "        SLE_adults.loc[SLE_adults[x].isna(), x] = mode_x\n",
    "    \n",
    "    # Convert the data type of column  to int\n",
    "    SLE_adults[x] = SLE_adults[x].astype('int')"
   ]
  },
  {
   "cell_type": "code",
   "execution_count": 57,
   "id": "0c82e4ae",
   "metadata": {},
   "outputs": [
    {
     "name": "stdout",
     "output_type": "stream",
     "text": [
      "Full name  -  0\n",
      "Weight  -  0\n",
      "BMI  -  0\n",
      "PRE (currently)  -  0\n",
      "CYC (total dose in grams)  -  0\n",
      "SF-36 (mental)  -  4\n",
      "SF-36  (physical)  -  4\n",
      "LupusQol  -  5\n",
      "Er (in debut)  -  25\n",
      "Er  (currently)  -  1\n",
      "Leu  (in debut)  -  24\n",
      "Leu (currently)  -  0\n",
      "Complement c3 (g/l)  -  0\n",
      "Complement C4 (g/l)  -  0\n",
      "Anti-dsDNA (in debut)  -  17\n",
      "Anti-dsDNA (currently)  -  0\n",
      "IFN-α  -  19\n",
      "TBS  L1-4  -  34\n",
      "HDL  -  17\n",
      "LDL  -  17\n",
      "AC  -  17\n",
      "CIRS (severity index)  -  0\n"
     ]
    }
   ],
   "source": [
    "# select columns with object dtype\n",
    "object_cols_adults = SLE_adults.select_dtypes(include=['object']).columns.tolist()\n",
    "\n",
    "for x in object_cols_adults:\n",
    "    print (x, ' - ', SLE_adults[x].isna().sum())"
   ]
  },
  {
   "cell_type": "code",
   "execution_count": 68,
   "id": "666887df",
   "metadata": {},
   "outputs": [
    {
     "name": "stderr",
     "output_type": "stream",
     "text": [
      "<ipython-input-68-5adf24e77adc>:13: SettingWithCopyWarning: \n",
      "A value is trying to be set on a copy of a slice from a DataFrame.\n",
      "Try using .loc[row_indexer,col_indexer] = value instead\n",
      "\n",
      "See the caveats in the documentation: https://pandas.pydata.org/pandas-docs/stable/user_guide/indexing.html#returning-a-view-versus-a-copy\n",
      "  SLE_adults[x] = SLE_adults[x].str.replace(',', '.')\n",
      "<ipython-input-68-5adf24e77adc>:14: SettingWithCopyWarning: \n",
      "A value is trying to be set on a copy of a slice from a DataFrame.\n",
      "Try using .loc[row_indexer,col_indexer] = value instead\n",
      "\n",
      "See the caveats in the documentation: https://pandas.pydata.org/pandas-docs/stable/user_guide/indexing.html#returning-a-view-versus-a-copy\n",
      "  SLE_adults[x] = SLE_adults[x].astype(float)\n",
      "/opt/anaconda3/lib/python3.8/site-packages/pandas/core/indexing.py:1720: SettingWithCopyWarning: \n",
      "A value is trying to be set on a copy of a slice from a DataFrame.\n",
      "Try using .loc[row_indexer,col_indexer] = value instead\n",
      "\n",
      "See the caveats in the documentation: https://pandas.pydata.org/pandas-docs/stable/user_guide/indexing.html#returning-a-view-versus-a-copy\n",
      "  self._setitem_single_column(loc, value, pi)\n"
     ]
    }
   ],
   "source": [
    "# select columns with object dtype\n",
    "object_cols_adults = SLE_adults.select_dtypes(include=['object']).columns.tolist()\n",
    "\n",
    "for x in object_cols_adults:\n",
    "    \n",
    "    sum_nan_for_column = SLE_adults[x].isna().sum()\n",
    "    \n",
    "    if (sum_nan_for_column >= 17):\n",
    "        SLE_adults = SLE_adults.drop(columns=[x])\n",
    "        \n",
    "    elif (sum_nan_for_column != 0):\n",
    "        # convert column 'A' to numeric data type\n",
    "        SLE_adults[x] = SLE_adults[x].str.replace(',', '.')\n",
    "        SLE_adults[x] = SLE_adults[x].astype(float)\n",
    "\n",
    "        # calculate median of column 'A'\n",
    "        median_x = np.nanmedian(SLE_adults[x])\n",
    "\n",
    "        # fill missing float values with median\n",
    "        SLE_adults.loc[SLE_adults[x].isna(), x] = median_x\n",
    "        \n",
    "    elif (x != 'Full name'):\n",
    "        # convert column 'A' to numeric data type\n",
    "        SLE_adults[x] = SLE_adults[x].str.replace(',', '.')\n",
    "        SLE_adults[x] = SLE_adults[x].astype(float)"
   ]
  },
  {
   "cell_type": "code",
   "execution_count": 71,
   "id": "d583b115",
   "metadata": {},
   "outputs": [
    {
     "name": "stdout",
     "output_type": "stream",
     "text": [
      "int =  212\n",
      "float =  ['Weight', 'BMI', 'PRE (currently)', 'CYC (total dose in grams)', 'SF-36 (mental)', 'SF-36  (physical)', 'LupusQol', 'Er  (currently)', 'Leu (currently)', 'Complement c3 (g/l)', 'Complement C4 (g/l)', 'Anti-dsDNA (currently)', 'CIRS (severity index)']\n",
      "object =  ['Full name']\n"
     ]
    }
   ],
   "source": [
    "# select columns with different dtype\n",
    "int_cols = SLE_adults.select_dtypes(include=['int64']).columns.tolist()\n",
    "float_cols = SLE_adults.select_dtypes(include=['float']).columns.tolist()\n",
    "object_cols = SLE_adults.select_dtypes(include=['object']).columns.tolist()\n",
    "\n",
    "# Print the float and object columns\n",
    "print('int = ', len(int_cols))\n",
    "print('float = ', float_cols)\n",
    "print('object = ', object_cols)"
   ]
  },
  {
   "cell_type": "code",
   "execution_count": 72,
   "id": "d93b70b8",
   "metadata": {},
   "outputs": [],
   "source": [
    "SLE_adults.to_csv('SLE_adults_fixed.csv', index=False, sep = ';')"
   ]
  },
  {
   "cell_type": "code",
   "execution_count": null,
   "id": "c42072d0",
   "metadata": {},
   "outputs": [],
   "source": []
  }
 ],
 "metadata": {
  "kernelspec": {
   "display_name": "Python 3",
   "language": "python",
   "name": "python3"
  },
  "language_info": {
   "codemirror_mode": {
    "name": "ipython",
    "version": 3
   },
   "file_extension": ".py",
   "mimetype": "text/x-python",
   "name": "python",
   "nbconvert_exporter": "python",
   "pygments_lexer": "ipython3",
   "version": "3.8.8"
  }
 },
 "nbformat": 4,
 "nbformat_minor": 5
}
