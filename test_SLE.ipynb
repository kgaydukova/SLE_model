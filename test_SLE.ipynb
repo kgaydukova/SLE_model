{
 "cells": [
  {
   "cell_type": "code",
   "execution_count": 2,
   "id": "5d767604",
   "metadata": {},
   "outputs": [],
   "source": [
    "import pandas as pd\n",
    "import numpy as np"
   ]
  },
  {
   "cell_type": "markdown",
   "id": "cdfa80b8",
   "metadata": {},
   "source": [
    "# SLE_juniors "
   ]
  },
  {
   "cell_type": "code",
   "execution_count": 3,
   "id": "f5fe282a",
   "metadata": {},
   "outputs": [],
   "source": [
    "SLE = pd.read_csv('SLE_juniors.csv', sep = ';')"
   ]
  },
  {
   "cell_type": "code",
   "execution_count": 4,
   "id": "81182382",
   "metadata": {},
   "outputs": [],
   "source": [
    "# Remove newline characters from column names\n",
    "SLE.columns = SLE.columns.str.replace('\\n', '')"
   ]
  },
  {
   "cell_type": "code",
   "execution_count": 5,
   "id": "dea16382",
   "metadata": {},
   "outputs": [],
   "source": [
    "# select columns with different dtype\n",
    "int_cols = SLE.select_dtypes(include=['int64']).columns.tolist()\n",
    "float_cols = SLE.select_dtypes(include=['float']).columns.tolist()\n",
    "object_cols = SLE.select_dtypes(include=['object']).columns.tolist()"
   ]
  },
  {
   "cell_type": "code",
   "execution_count": 6,
   "id": "3e273246",
   "metadata": {},
   "outputs": [
    {
     "data": {
      "text/plain": [
       "['Full name',\n",
       " 'BMI',\n",
       " 'PRE (currently)',\n",
       " 'CYC (total dose in grams)',\n",
       " 'SF-36 (mental)',\n",
       " 'SF-36  (physical)',\n",
       " 'LupusQol',\n",
       " 'Er (in debut)',\n",
       " 'Er  (currently)',\n",
       " 'Leu  (in debut)',\n",
       " 'Leu (currently)',\n",
       " 'Complement c3 (g/l)',\n",
       " 'Complement C4 (g/l)',\n",
       " 'Anti-dsDNA (in debut)',\n",
       " 'Anti-dsDNA (currently)',\n",
       " 'IFN-α',\n",
       " 'TBS  L1-4',\n",
       " 'HDL',\n",
       " 'LDL',\n",
       " 'AC',\n",
       " 'CIRS (severity index)']"
      ]
     },
     "execution_count": 6,
     "metadata": {},
     "output_type": "execute_result"
    }
   ],
   "source": [
    "object_cols"
   ]
  },
  {
   "cell_type": "code",
   "execution_count": 7,
   "id": "258c0f24",
   "metadata": {},
   "outputs": [],
   "source": [
    "nan_rows = SLE[SLE['IFN-α'].isna()]"
   ]
  },
  {
   "cell_type": "code",
   "execution_count": 8,
   "id": "82a09c51",
   "metadata": {},
   "outputs": [],
   "source": [
    "# changing for float columns (they are int, but with a few missed values)\n",
    "for x in float_cols:\n",
    "    # Mode in the column\n",
    "    mode_x = SLE[x].mode()[0]\n",
    "    \n",
    "    # Replace NaN values in column with mode of the column\n",
    "    SLE.loc[SLE[x].isna(), x] = mode_x\n",
    "    \n",
    "    # Convert the data type of column  to int\n",
    "    SLE[x] = SLE[x].astype('int')"
   ]
  },
  {
   "cell_type": "code",
   "execution_count": 9,
   "id": "2b4f713c",
   "metadata": {},
   "outputs": [],
   "source": [
    "# Convert the data type of column to float\n",
    "for x in object_cols:\n",
    "    if (x != 'Full name'):\n",
    "        #print (x, ' - ', SLE[x].isna().sum())\n",
    "        # replace comma with period in column \n",
    "        SLE[x] = SLE[x].str.replace(',', '.')\n",
    "        SLE[x] = SLE[x].astype(float)"
   ]
  },
  {
   "cell_type": "code",
   "execution_count": 10,
   "id": "0370e633",
   "metadata": {},
   "outputs": [
    {
     "name": "stdout",
     "output_type": "stream",
     "text": [
      "IFN-α  -  23\n",
      "TBS  L1-4  -  28\n",
      "HDL  -  32\n",
      "LDL  -  31\n",
      "AC  -  30\n"
     ]
    }
   ],
   "source": [
    "# delete float columns with many NaN values\n",
    "float_cols = SLE.select_dtypes(include=['float']).columns.tolist()\n",
    "for x in float_cols:\n",
    "    if (SLE[x].isna().sum() != 0):\n",
    "        print (x, ' - ', SLE[x].isna().sum())\n",
    "        SLE = SLE.drop(columns=[x])"
   ]
  },
  {
   "cell_type": "code",
   "execution_count": 11,
   "id": "4c67f9a7",
   "metadata": {},
   "outputs": [
    {
     "data": {
      "text/plain": [
       "int64      216\n",
       "float64     15\n",
       "object       1\n",
       "dtype: int64"
      ]
     },
     "execution_count": 11,
     "metadata": {},
     "output_type": "execute_result"
    }
   ],
   "source": [
    "SLE.dtypes.value_counts() "
   ]
  },
  {
   "cell_type": "code",
   "execution_count": 12,
   "id": "b3b5b232",
   "metadata": {},
   "outputs": [
    {
     "name": "stdout",
     "output_type": "stream",
     "text": [
      "int =  216\n",
      "float =  ['BMI', 'PRE (currently)', 'CYC (total dose in grams)', 'SF-36 (mental)', 'SF-36  (physical)', 'LupusQol', 'Er (in debut)', 'Er  (currently)', 'Leu  (in debut)', 'Leu (currently)', 'Complement c3 (g/l)', 'Complement C4 (g/l)', 'Anti-dsDNA (in debut)', 'Anti-dsDNA (currently)', 'CIRS (severity index)']\n",
      "object =  ['Full name']\n"
     ]
    }
   ],
   "source": [
    "# select columns with different dtype\n",
    "int_cols = SLE.select_dtypes(include=['int64']).columns.tolist()\n",
    "float_cols = SLE.select_dtypes(include=['float']).columns.tolist()\n",
    "object_cols = SLE.select_dtypes(include=['object']).columns.tolist()\n",
    "\n",
    "# Print the float and object columns\n",
    "print('int = ', len(int_cols))\n",
    "print('float = ', float_cols)\n",
    "print('object = ', object_cols)"
   ]
  },
  {
   "cell_type": "code",
   "execution_count": 13,
   "id": "ca94e2fa",
   "metadata": {},
   "outputs": [],
   "source": [
    "SLE.to_csv('SLE_juniors_fixed.csv', index=False, sep = ';')"
   ]
  },
  {
   "cell_type": "markdown",
   "id": "6db04590",
   "metadata": {},
   "source": [
    "# SLA_adults"
   ]
  },
  {
   "cell_type": "code",
   "execution_count": 14,
   "id": "1948ef12",
   "metadata": {},
   "outputs": [],
   "source": [
    "SLE_adults = pd.read_csv('SLE_adults.csv', sep = ';')"
   ]
  },
  {
   "cell_type": "code",
   "execution_count": 15,
   "id": "dd01b9a5",
   "metadata": {},
   "outputs": [],
   "source": [
    "# Remove newline characters from column names\n",
    "SLE_adults.columns = SLE_adults.columns.str.replace('\\n', '')"
   ]
  },
  {
   "cell_type": "code",
   "execution_count": 16,
   "id": "5c7bc7af",
   "metadata": {},
   "outputs": [
    {
     "data": {
      "text/plain": [
       "int64      208\n",
       "object      22\n",
       "float64      8\n",
       "dtype: int64"
      ]
     },
     "execution_count": 16,
     "metadata": {},
     "output_type": "execute_result"
    }
   ],
   "source": [
    "SLE_adults.dtypes.value_counts() "
   ]
  },
  {
   "cell_type": "code",
   "execution_count": 17,
   "id": "f0a82716",
   "metadata": {},
   "outputs": [],
   "source": [
    "# select columns with different dtype\n",
    "int_cols_adults = SLE_adults.select_dtypes(include=['int64']).columns.tolist()\n",
    "float_cols_adults = SLE_adults.select_dtypes(include=['float']).columns.tolist()\n",
    "object_cols_adults = SLE_adults.select_dtypes(include=['object']).columns.tolist()"
   ]
  },
  {
   "cell_type": "code",
   "execution_count": 18,
   "id": "541d0266",
   "metadata": {},
   "outputs": [
    {
     "name": "stdout",
     "output_type": "stream",
     "text": [
      "PRE (in the debut of SLE)  -  1\n",
      "GFR <50%  -  1\n",
      "Hb (in debut)  -  24\n",
      "Tr (in debut)  -  24\n",
      "ESR (in debut)  -  24\n",
      "ANF (in debut)  -  13\n",
      "Z-score Total  -  57\n",
      "Heredity for CVD  -  3\n"
     ]
    }
   ],
   "source": [
    "for x in float_cols_adults:\n",
    "    print (x, ' - ', SLE_adults[x].isna().sum())"
   ]
  },
  {
   "cell_type": "code",
   "execution_count": 19,
   "id": "f8cfca6e",
   "metadata": {},
   "outputs": [],
   "source": [
    "# delete float columns with many missed values \n",
    "for x in float_cols_adults:\n",
    "    if SLE_adults[x].isna().sum() > 15:\n",
    "        SLE_adults = SLE_adults.drop(columns=[x])"
   ]
  },
  {
   "cell_type": "code",
   "execution_count": 20,
   "id": "da946c16",
   "metadata": {},
   "outputs": [],
   "source": [
    "# select float types after drop \n",
    "float_cols_adults = SLE_adults.select_dtypes(include=['float']).columns.tolist()\n",
    "\n",
    "# fill missed values by median or mode and change type of column to int \n",
    "for x in float_cols_adults:\n",
    "    if (x == 'PRE (in the debut of SLE)') or (x == 'ANF (in debut)'):\n",
    "        # Median in the column\n",
    "        median_x = SLE_adults[x].median()\n",
    "        SLE_adults.loc[SLE_adults[x].isna(), x] = median_x\n",
    "    else:\n",
    "        # Mode in the column\n",
    "        mode_x = SLE_adults[x].mode()[0]\n",
    "        SLE_adults.loc[SLE_adults[x].isna(), x] = mode_x\n",
    "    \n",
    "    # Convert the data type of column  to int\n",
    "    SLE_adults[x] = SLE_adults[x].astype('int')"
   ]
  },
  {
   "cell_type": "code",
   "execution_count": 21,
   "id": "99e2b059",
   "metadata": {},
   "outputs": [
    {
     "name": "stdout",
     "output_type": "stream",
     "text": [
      "Full name  -  0\n",
      "Weight  -  0\n",
      "BMI  -  0\n",
      "PRE (currently)  -  0\n",
      "CYC (total dose in grams)  -  0\n",
      "SF-36 (mental)  -  4\n",
      "SF-36  (physical)  -  4\n",
      "LupusQol  -  5\n",
      "Er (in debut)  -  25\n",
      "Er  (currently)  -  1\n",
      "Leu  (in debut)  -  24\n",
      "Leu (currently)  -  0\n",
      "Complement c3 (g/l)  -  0\n",
      "Complement C4 (g/l)  -  0\n",
      "Anti-dsDNA (in debut)  -  17\n",
      "Anti-dsDNA (currently)  -  0\n",
      "IFN-α  -  19\n",
      "TBS  L1-4  -  34\n",
      "HDL  -  17\n",
      "LDL  -  17\n",
      "AC  -  17\n",
      "CIRS (severity index)  -  0\n"
     ]
    }
   ],
   "source": [
    "# select columns with object dtype\n",
    "object_cols_adults = SLE_adults.select_dtypes(include=['object']).columns.tolist()\n",
    "\n",
    "for x in object_cols_adults:\n",
    "    print (x, ' - ', SLE_adults[x].isna().sum())"
   ]
  },
  {
   "cell_type": "code",
   "execution_count": 31,
   "id": "cf0a3ea7",
   "metadata": {},
   "outputs": [],
   "source": [
    "nan_rows = SLE_adults[SLE_adults['IFN-α'].isna()]"
   ]
  },
  {
   "cell_type": "code",
   "execution_count": 33,
   "id": "664a9e72",
   "metadata": {},
   "outputs": [
    {
     "data": {
      "text/plain": [
       "0     Матвеева Екатерина Владимировна\n",
       "6        Меркулова Регина Геннадьевна\n",
       "8              Аладжян Гаяне Вагинаки\n",
       "10          Ундасова Наталия Сргеевна\n",
       "11              Парий Иван Михайлович\n",
       "16         Клешнина Оксана Дмитриевна\n",
       "21        Сычева Полина Александровна\n",
       "22      Дидык Елизавета Александровна\n",
       "24       Михайлова Марина геннадьевна\n",
       "26      Бовсуновская татьяна ивановна\n",
       "27                   Сейдиева Мухубат\n",
       "35          Чучина Ольга Владимировна\n",
       "41      Молокова Анастасия Алексеевна\n",
       "43             Щелкова Анна Андреевна\n",
       "49    Головащенко Светлана Викторовна\n",
       "53         Омельчишина ЕленаСергеевна\n",
       "54            Гордеева Елена Павловна\n",
       "55    Старкова Александра Владимровна\n",
       "56            Воронина Юлия Сергеевна\n",
       "Name: Full name, dtype: object"
      ]
     },
     "execution_count": 33,
     "metadata": {},
     "output_type": "execute_result"
    }
   ],
   "source": [
    "nan_rows['Full name']"
   ]
  },
  {
   "cell_type": "code",
   "execution_count": 22,
   "id": "673c8418",
   "metadata": {},
   "outputs": [],
   "source": [
    "# select columns with object dtype\n",
    "object_cols_adults = SLE_adults.select_dtypes(include=['object']).columns.tolist()\n",
    "\n",
    "for x in object_cols_adults:\n",
    "    \n",
    "    sum_nan_for_column = SLE_adults[x].isna().sum()\n",
    "    \n",
    "    if (sum_nan_for_column >= 17):\n",
    "        SLE_adults = SLE_adults.drop(columns=[x])\n",
    "        \n",
    "    elif (sum_nan_for_column != 0):\n",
    "        # convert column 'A' to numeric data type\n",
    "        SLE_adults[x] = SLE_adults[x].str.replace(',', '.')\n",
    "        SLE_adults[x] = SLE_adults[x].astype(float)\n",
    "\n",
    "        # calculate median of column 'A'\n",
    "        median_x = np.nanmedian(SLE_adults[x])\n",
    "\n",
    "        # fill missing float values with median\n",
    "        SLE_adults.loc[SLE_adults[x].isna(), x] = median_x\n",
    "        \n",
    "    elif (x != 'Full name'):\n",
    "        # convert column 'A' to numeric data type\n",
    "        SLE_adults[x] = SLE_adults[x].str.replace(',', '.')\n",
    "        SLE_adults[x] = SLE_adults[x].astype(float)"
   ]
  },
  {
   "cell_type": "code",
   "execution_count": 23,
   "id": "72510e2a",
   "metadata": {},
   "outputs": [
    {
     "name": "stdout",
     "output_type": "stream",
     "text": [
      "int =  212\n",
      "float =  ['Weight', 'BMI', 'PRE (currently)', 'CYC (total dose in grams)', 'SF-36 (mental)', 'SF-36  (physical)', 'LupusQol', 'Er  (currently)', 'Leu (currently)', 'Complement c3 (g/l)', 'Complement C4 (g/l)', 'Anti-dsDNA (currently)', 'CIRS (severity index)']\n",
      "object =  ['Full name']\n"
     ]
    }
   ],
   "source": [
    "# select columns with different dtype\n",
    "int_cols = SLE_adults.select_dtypes(include=['int64']).columns.tolist()\n",
    "float_cols = SLE_adults.select_dtypes(include=['float']).columns.tolist()\n",
    "object_cols = SLE_adults.select_dtypes(include=['object']).columns.tolist()\n",
    "\n",
    "# Print the float and object columns\n",
    "print('int = ', len(int_cols))\n",
    "print('float = ', float_cols)\n",
    "print('object = ', object_cols)"
   ]
  },
  {
   "cell_type": "code",
   "execution_count": 24,
   "id": "f9777a00",
   "metadata": {},
   "outputs": [],
   "source": [
    "SLE_adults.to_csv('SLE_adults_fixed.csv', index=False, sep = ';')"
   ]
  },
  {
   "cell_type": "markdown",
   "id": "f4871644",
   "metadata": {},
   "source": [
    "# Add classes and join two tables"
   ]
  },
  {
   "cell_type": "code",
   "execution_count": 28,
   "id": "c6b02316",
   "metadata": {},
   "outputs": [],
   "source": [
    "SLE_juniors = pd.read_csv('SLE_juniors_fixed.csv', sep = ';')\n",
    "SLE_adults = pd.read_csv('SLE_adults_fixed.csv', sep = ';')"
   ]
  },
  {
   "cell_type": "code",
   "execution_count": 33,
   "id": "622c36f2",
   "metadata": {},
   "outputs": [
    {
     "name": "stdout",
     "output_type": "stream",
     "text": [
      "Columns only in juniors: {'Anti-dsDNA (in debut)', 'Er (in debut)', 'Leu  (in debut)', 'Tr (in debut)', 'Hb (in debut)', 'ESR (in debut)'}\n",
      "Columns only in adults: set()\n"
     ]
    }
   ],
   "source": [
    "# get the set of column names for each dataframe\n",
    "cols_juniors = set(SLE_juniors.columns)\n",
    "cols_adults = set(SLE_adults.columns)\n",
    "\n",
    "# find columns that exist only in one of the dataframes\n",
    "only_in_juniors = cols_juniors - cols_adults\n",
    "only_in_adults = cols_adults - cols_juniors\n",
    "\n",
    "print(f\"Columns only in juniors: {only_in_juniors}\")\n",
    "print(f\"Columns only in adults: {only_in_adults}\")"
   ]
  },
  {
   "cell_type": "code",
   "execution_count": 37,
   "id": "32880900",
   "metadata": {},
   "outputs": [],
   "source": [
    "for x in only_in_juniors:\n",
    "    SLE_juniors = SLE_juniors.drop(columns=[x])"
   ]
  },
  {
   "cell_type": "code",
   "execution_count": 51,
   "id": "3fa542a6",
   "metadata": {},
   "outputs": [
    {
     "data": {
      "text/plain": [
       "int64      213\n",
       "float64     13\n",
       "object       1\n",
       "dtype: int64"
      ]
     },
     "execution_count": 51,
     "metadata": {},
     "output_type": "execute_result"
    }
   ],
   "source": [
    "SLE_juniors.dtypes.value_counts() "
   ]
  },
  {
   "cell_type": "code",
   "execution_count": 52,
   "id": "3df7f295",
   "metadata": {},
   "outputs": [
    {
     "data": {
      "text/plain": [
       "int64      213\n",
       "float64     13\n",
       "object       1\n",
       "dtype: int64"
      ]
     },
     "execution_count": 52,
     "metadata": {},
     "output_type": "execute_result"
    }
   ],
   "source": [
    "SLE_adults.dtypes.value_counts() "
   ]
  },
  {
   "cell_type": "code",
   "execution_count": 40,
   "id": "63003dea",
   "metadata": {},
   "outputs": [],
   "source": [
    "# add a column with the same value\n",
    "SLE_juniors['Class'] = 0\n",
    "SLE_adults['Class'] = 1"
   ]
  },
  {
   "cell_type": "code",
   "execution_count": 47,
   "id": "31bacb01",
   "metadata": {},
   "outputs": [],
   "source": [
    "SLE_juniors['Weight'] = SLE_juniors['Weight'].astype(float)"
   ]
  },
  {
   "cell_type": "code",
   "execution_count": 48,
   "id": "fc52d183",
   "metadata": {},
   "outputs": [],
   "source": [
    "float_cols_j = SLE_juniors.select_dtypes(include=['float']).columns.tolist()\n",
    "float_cols_a = SLE_adults.select_dtypes(include=['float']).columns.tolist()"
   ]
  },
  {
   "cell_type": "code",
   "execution_count": 49,
   "id": "842cdf7e",
   "metadata": {},
   "outputs": [
    {
     "data": {
      "text/plain": [
       "['Weight',\n",
       " 'BMI',\n",
       " 'PRE (currently)',\n",
       " 'CYC (total dose in grams)',\n",
       " 'SF-36 (mental)',\n",
       " 'SF-36  (physical)',\n",
       " 'LupusQol',\n",
       " 'Er  (currently)',\n",
       " 'Leu (currently)',\n",
       " 'Complement c3 (g/l)',\n",
       " 'Complement C4 (g/l)',\n",
       " 'Anti-dsDNA (currently)',\n",
       " 'CIRS (severity index)']"
      ]
     },
     "execution_count": 49,
     "metadata": {},
     "output_type": "execute_result"
    }
   ],
   "source": [
    "float_cols_j"
   ]
  },
  {
   "cell_type": "code",
   "execution_count": 50,
   "id": "1b8c79fe",
   "metadata": {},
   "outputs": [
    {
     "data": {
      "text/plain": [
       "['Weight',\n",
       " 'BMI',\n",
       " 'PRE (currently)',\n",
       " 'CYC (total dose in grams)',\n",
       " 'SF-36 (mental)',\n",
       " 'SF-36  (physical)',\n",
       " 'LupusQol',\n",
       " 'Er  (currently)',\n",
       " 'Leu (currently)',\n",
       " 'Complement c3 (g/l)',\n",
       " 'Complement C4 (g/l)',\n",
       " 'Anti-dsDNA (currently)',\n",
       " 'CIRS (severity index)']"
      ]
     },
     "execution_count": 50,
     "metadata": {},
     "output_type": "execute_result"
    }
   ],
   "source": [
    "float_cols_a"
   ]
  },
  {
   "cell_type": "code",
   "execution_count": 53,
   "id": "da88eff7",
   "metadata": {},
   "outputs": [],
   "source": [
    "# concatenate the dataframes and reset the indexes\n",
    "SLE_all = pd.concat([SLE_juniors, SLE_adults], ignore_index=True)"
   ]
  },
  {
   "cell_type": "code",
   "execution_count": 55,
   "id": "fe4548fc",
   "metadata": {},
   "outputs": [],
   "source": [
    "SLE_all.to_csv('SLE_all_fixed.csv', index=False, sep = ';')"
   ]
  },
  {
   "cell_type": "markdown",
   "id": "e94a0d40",
   "metadata": {},
   "source": [
    "# Start with PCA"
   ]
  },
  {
   "cell_type": "code",
   "execution_count": 92,
   "id": "c89bb455",
   "metadata": {},
   "outputs": [],
   "source": [
    "SLE_param = pd.read_csv('SLE_all_fixed.csv', sep = ';')"
   ]
  },
  {
   "cell_type": "code",
   "execution_count": 93,
   "id": "6da215a6",
   "metadata": {},
   "outputs": [
    {
     "data": {
      "text/plain": [
       "int64      213\n",
       "float64     13\n",
       "object       1\n",
       "dtype: int64"
      ]
     },
     "execution_count": 93,
     "metadata": {},
     "output_type": "execute_result"
    }
   ],
   "source": [
    "SLE_param.dtypes.value_counts() "
   ]
  },
  {
   "cell_type": "code",
   "execution_count": 94,
   "id": "eaf8a771",
   "metadata": {},
   "outputs": [],
   "source": [
    "delete_columns = ['Full name', 'DOB', 'card number']\n",
    "\n",
    "for x in delete_columns:\n",
    "    SLE_param = SLE_param.drop(columns = [x])"
   ]
  },
  {
   "cell_type": "code",
   "execution_count": 95,
   "id": "77b4d986",
   "metadata": {},
   "outputs": [],
   "source": [
    "SLE_param.to_csv('SLE_param.csv', index=False, sep = ';')"
   ]
  },
  {
   "cell_type": "code",
   "execution_count": 181,
   "id": "05f2aa85",
   "metadata": {},
   "outputs": [
    {
     "data": {
      "image/png": "[encoded data removed]",
      "text/plain": [
       "<Figure size 576x432 with 2 Axes>"
      ]
     },
     "metadata": {
      "needs_background": "light"
     },
     "output_type": "display_data"
    },
    {
     "name": "stdout",
     "output_type": "stream",
     "text": [
      "Explained variance ratio: [0.13422342 0.12055294 0.09445067]\n",
      "Cumulative explained variance ratio: [0.13422342 0.25477636 0.34922703]\n"
     ]
    }
   ],
   "source": [
    "import matplotlib.pyplot as plt\n",
    "from sklearn.decomposition import PCA\n",
    "from sklearn.preprocessing import StandardScaler\n",
    "\n",
    "# Load data\n",
    "df = pd.read_csv('sle_many_values.csv', sep = ';')\n",
    "\n",
    "# Separate the features and target class column\n",
    "X = df.drop('Class', axis=1)\n",
    "y = df['Class']\n",
    "\n",
    "# Standardize the features\n",
    "scaler = StandardScaler()\n",
    "X_std = scaler.fit_transform(X)\n",
    "\n",
    "# Perform PCA with 2 components\n",
    "pca = PCA(n_components=3)\n",
    "X_pca = pca.fit_transform(X_std)\n",
    "\n",
    "# Plot the results\n",
    "plt.figure(figsize=(8, 6))\n",
    "plt.scatter(X_pca[:, 0], X_pca[:, 1], c=y, cmap='viridis')\n",
    "plt.xlabel('Principal Component 1')\n",
    "plt.ylabel('Principal Component 2')\n",
    "plt.colorbar()\n",
    "plt.show()\n",
    "\n",
    "# Evaluate PCA\n",
    "print('Explained variance ratio:', pca.explained_variance_ratio_)\n",
    "print('Cumulative explained variance ratio:', np.cumsum(pca.explained_variance_ratio_))\n"
   ]
  },
  {
   "cell_type": "code",
   "execution_count": 180,
   "id": "074749a6",
   "metadata": {},
   "outputs": [
    {
     "data": {
      "image/png": "[encoded data removed]",
      "text/plain": [
       "<Figure size 432x288 with 1 Axes>"
      ]
     },
     "metadata": {
      "needs_background": "light"
     },
     "output_type": "display_data"
    }
   ],
   "source": [
    "# calculate cumulative explained variance ratio\n",
    "var_ratio = np.cumsum(pca.explained_variance_ratio_)\n",
    "\n",
    "# plot cumulative explained variance ratio\n",
    "plt.plot(range(1, len(var_ratio) + 1), var_ratio)\n",
    "plt.xlabel('Number of Principal Components')\n",
    "plt.ylabel('Cumulative Explained Variance Ratio')\n",
    "plt.show()"
   ]
  },
  {
   "cell_type": "code",
   "execution_count": 179,
   "id": "c99f1760",
   "metadata": {},
   "outputs": [
    {
     "name": "stdout",
     "output_type": "stream",
     "text": [
      "Top features for PC1:\n",
      "Index(['BMI', 'Weight', 'Age at diagnosis', 'Age', 'Complement c3 (g/l)',\n",
      "       'Age of SLE debut', 'Complement C4 (g/l)', 'Hb (currently)',\n",
      "       'SF-36  (physical)', 'Er  (currently)'],\n",
      "      dtype='object')\n",
      "Top features for PC2:\n",
      "Index(['CCI', 'Anti-dsDNA (currently)', 'LupusQol', 'ANF (currently)',\n",
      "       'CiRS (general)', 'Number of exacerbations of SLE', 'ANF (in debut)',\n",
      "       'Disease duration', 'Leu (currently)', 'SLEDAI-2K'],\n",
      "      dtype='object')\n"
     ]
    }
   ],
   "source": [
    "pc_loadings = pca.components_\n",
    "pc_df = pd.DataFrame(pc_loadings.T, columns=['PC1', 'PC2'], index=X.columns)\n",
    "\n",
    "pc_df['abs_PC1'] = pc_df['PC1'].abs()\n",
    "pc_df['abs_PC2'] = pc_df['PC2'].abs()\n",
    "pc_df = pc_df.sort_values(['abs_PC1', 'abs_PC2'], ascending=False)\n",
    "\n",
    "print('Top features for PC1:')\n",
    "print(pc_df.index[:10])\n",
    "\n",
    "print('Top features for PC2:')\n",
    "print(pc_df.index[10:20])"
   ]
  },
  {
   "cell_type": "code",
   "execution_count": 333,
   "id": "281c5c3a",
   "metadata": {},
   "outputs": [],
   "source": [
    "from sklearn.model_selection import train_test_split\n",
    "from sklearn.tree import DecisionTreeClassifier\n",
    "from sklearn.metrics import accuracy_score\n",
    "\n",
    "# Load data\n",
    "df = pd.read_csv('sle_many_values.csv', sep = ';')\n",
    "df = df.drop(columns=['Age of SLE debut'])\n",
    "df = df.drop(columns=['Age at diagnosis'])\n",
    "df = df.drop(columns=['Age'])\n",
    "\n",
    "for i in range(1000):\n",
    "    # Split the dataframe into training and testing sets\n",
    "    X_train, X_test, y_train, y_test = train_test_split(df.drop('Class', axis=1), df['Class'], test_size=0.2)\n",
    "\n",
    "    # Fit a decision tree classifier on the training data with max_depth = 4\n",
    "    tree = DecisionTreeClassifier(max_depth=4)\n",
    "    tree.fit(X_train, y_train)\n",
    "\n",
    "    # Make predictions on the testing data\n",
    "    y_pred = tree.predict(X_test)\n",
    "\n",
    "    # Calculate the accuracy of the classifier\n",
    "    accuracy = accuracy_score(y_test, y_pred)\n",
    "    #print(f\"Accuracy: {accuracy:.2f}\")\n",
    "    if accuracy > 0.75:\n",
    "        name = str(accuracy)\n",
    "        # Export the decision tree to a dot file\n",
    "        dot_data = export_graphviz(tree, out_file=None, filled=True, rounded=True, feature_names=X_train.columns, class_names=['junior', 'adult'], impurity=False, proportion=False, precision=0, node_ids=False)\n",
    "\n",
    "        # Convert the dot file to PDF using Graphviz\n",
    "        graph = graphviz.Source(dot_data)\n",
    "        graph.render(name)\n"
   ]
  },
  {
   "cell_type": "code",
   "execution_count": 326,
   "id": "376c87be",
   "metadata": {},
   "outputs": [
    {
     "data": {
      "text/plain": [
       "0.6923076923076923"
      ]
     },
     "execution_count": 326,
     "metadata": {},
     "output_type": "execute_result"
    }
   ],
   "source": [
    "accuracy"
   ]
  },
  {
   "cell_type": "code",
   "execution_count": 325,
   "id": "b86026bd",
   "metadata": {},
   "outputs": [
    {
     "data": {
      "text/plain": [
       "'decision_tree3.pdf'"
      ]
     },
     "execution_count": 325,
     "metadata": {},
     "output_type": "execute_result"
    }
   ],
   "source": [
    "from sklearn.tree import export_graphviz\n",
    "import graphviz\n",
    "\n",
    "# Export the decision tree to a dot file\n",
    "dot_data = export_graphviz(tree, out_file=None, filled=True, rounded=True, feature_names=X_train.columns, class_names=['junior', 'adult'], impurity=False, proportion=False, precision=0, node_ids=False)\n",
    "\n",
    "# Convert the dot file to PDF using Graphviz\n",
    "graph = graphviz.Source(dot_data)\n",
    "graph.render(\"decision_tree3\")"
   ]
  },
  {
   "cell_type": "markdown",
   "id": "30b530a0",
   "metadata": {},
   "source": [
    "# SLE_param dataset"
   ]
  },
  {
   "cell_type": "code",
   "execution_count": 99,
   "id": "d7ecb068",
   "metadata": {},
   "outputs": [],
   "source": [
    "# Load data\n",
    "df = pd.read_csv('SLE_param.csv', sep = ';')"
   ]
  },
  {
   "cell_type": "code",
   "execution_count": 153,
   "id": "a65e523c",
   "metadata": {},
   "outputs": [],
   "source": [
    "# dictionary about how many unique values of features\n",
    "# count_of_values : [names of features]\n",
    "\n",
    "different_values = {}\n",
    "\n",
    "for i in range(1, 130):\n",
    "    different_values[i] = df.columns[df.nunique() == i].tolist()\n",
    "    \n",
    "count_of_different_values = {}\n",
    "# count_of_values : [count of features]\n",
    "\n",
    "for i in range(1, 130):\n",
    "    if len(different_values[i]) != 0:\n",
    "        count_of_different_values[i] = len(different_values[i])"
   ]
  },
  {
   "cell_type": "code",
   "execution_count": 154,
   "id": "901eef78",
   "metadata": {},
   "outputs": [],
   "source": [
    "# delete Class from params\n",
    "different_values[2].remove('Class')\n",
    "count_of_different_values[2] = 162"
   ]
  },
  {
   "cell_type": "code",
   "execution_count": 337,
   "id": "85465790",
   "metadata": {},
   "outputs": [
    {
     "data": {
      "text/plain": [
       "['Constitutional', 'Hypertension', 'ENT', 'Peptic ulcer']"
      ]
     },
     "execution_count": 337,
     "metadata": {},
     "output_type": "execute_result"
    }
   ],
   "source": [
    "different_values[3]"
   ]
  },
  {
   "cell_type": "code",
   "execution_count": 161,
   "id": "9022238d",
   "metadata": {},
   "outputs": [],
   "source": [
    "cols_one_value = different_values[1]\n",
    "cols_binary_values = different_values[2]\n",
    "cols_many_values = []\n",
    "\n",
    "for key in different_values.keys():\n",
    "    if key not in [1, 2, 3]:\n",
    "        cols_many_values += different_values[key]\n",
    "        \n",
    "cols_one_value.append('Class')\n",
    "cols_binary_values.append('Class')\n",
    "cols_many_values.append('Class')"
   ]
  },
  {
   "cell_type": "code",
   "execution_count": 164,
   "id": "e1048515",
   "metadata": {},
   "outputs": [],
   "source": [
    "# select columns from dataframe using boolean mask\n",
    "sle_one_value = df.loc[:, df.columns.isin(cols_one_value)]\n",
    "sle_binary_values = df.loc[:, df.columns.isin(cols_binary_values)]\n",
    "sle_many_values = df.loc[:, df.columns.isin(cols_many_values)]"
   ]
  },
  {
   "cell_type": "code",
   "execution_count": 168,
   "id": "330a78ca",
   "metadata": {},
   "outputs": [],
   "source": [
    "# save csv with one value params, binary values and other as many values\n",
    "sle_one_value.to_csv('sle_one_value.csv', index=False, sep = ';')\n",
    "sle_binary_values.to_csv('sle_binary_values.csv', index=False, sep = ';')\n",
    "sle_many_values.to_csv('sle_many_values.csv', index=False, sep = ';')"
   ]
  },
  {
   "cell_type": "code",
   "execution_count": 166,
   "id": "e0fb8517",
   "metadata": {},
   "outputs": [
    {
     "data": {
      "text/html": [
       "<div>\n",
       "<style scoped>\n",
       "    .dataframe tbody tr th:only-of-type {\n",
       "        vertical-align: middle;\n",
       "    }\n",
       "\n",
       "    .dataframe tbody tr th {\n",
       "        vertical-align: top;\n",
       "    }\n",
       "\n",
       "    .dataframe thead th {\n",
       "        text-align: right;\n",
       "    }\n",
       "</style>\n",
       "<table border=\"1\" class=\"dataframe\">\n",
       "  <thead>\n",
       "    <tr style=\"text-align: right;\">\n",
       "      <th></th>\n",
       "      <th>Age</th>\n",
       "      <th>Gender</th>\n",
       "      <th>Age of SLE debut</th>\n",
       "      <th>Age at diagnosis</th>\n",
       "      <th>Disease duration</th>\n",
       "      <th>Heredity</th>\n",
       "      <th>Disability</th>\n",
       "      <th>Smoking</th>\n",
       "      <th>Height</th>\n",
       "      <th>Weight</th>\n",
       "      <th>...</th>\n",
       "      <th>Hypothyroidism</th>\n",
       "      <th>Migraine</th>\n",
       "      <th>Depression</th>\n",
       "      <th>Malignant tumors</th>\n",
       "      <th>Steroid osteoporosis</th>\n",
       "      <th>Heredity for CVD</th>\n",
       "      <th>CCI</th>\n",
       "      <th>CiRS (general)</th>\n",
       "      <th>CIRS (severity index)</th>\n",
       "      <th>Class</th>\n",
       "    </tr>\n",
       "  </thead>\n",
       "  <tbody>\n",
       "    <tr>\n",
       "      <th>33</th>\n",
       "      <td>25</td>\n",
       "      <td>0</td>\n",
       "      <td>17</td>\n",
       "      <td>19</td>\n",
       "      <td>6</td>\n",
       "      <td>0</td>\n",
       "      <td>0</td>\n",
       "      <td>0</td>\n",
       "      <td>170</td>\n",
       "      <td>45.0</td>\n",
       "      <td>...</td>\n",
       "      <td>0</td>\n",
       "      <td>0</td>\n",
       "      <td>0</td>\n",
       "      <td>0</td>\n",
       "      <td>1</td>\n",
       "      <td>0</td>\n",
       "      <td>2</td>\n",
       "      <td>5</td>\n",
       "      <td>3.0</td>\n",
       "      <td>0</td>\n",
       "    </tr>\n",
       "  </tbody>\n",
       "</table>\n",
       "<p>1 rows × 224 columns</p>\n",
       "</div>"
      ],
      "text/plain": [
       "    Age  Gender  Age of SLE debut  Age at diagnosis  Disease duration  \\\n",
       "33   25       0                17                19                 6   \n",
       "\n",
       "    Heredity  Disability  Smoking  Height  Weight  ...  Hypothyroidism  \\\n",
       "33         0           0        0     170    45.0  ...               0   \n",
       "\n",
       "    Migraine  Depression  Malignant tumors  Steroid osteoporosis  \\\n",
       "33         0           0                 0                     1   \n",
       "\n",
       "    Heredity for CVD  CCI  CiRS (general)  CIRS (severity index)  Class  \n",
       "33                 0    2               5                    3.0      0  \n",
       "\n",
       "[1 rows x 224 columns]"
      ]
     },
     "execution_count": 166,
     "metadata": {},
     "output_type": "execute_result"
    }
   ],
   "source": [
    "unique_values = df['Constitutional'].unique()\n",
    "df[df['Constitutional'] == 4]"
   ]
  },
  {
   "cell_type": "code",
   "execution_count": null,
   "id": "411008ec",
   "metadata": {},
   "outputs": [],
   "source": []
  }
 ],
 "metadata": {
  "kernelspec": {
   "display_name": "Python 3",
   "language": "python",
   "name": "python3"
  },
  "language_info": {
   "codemirror_mode": {
    "name": "ipython",
    "version": 3
   },
   "file_extension": ".py",
   "mimetype": "text/x-python",
   "name": "python",
   "nbconvert_exporter": "python",
   "pygments_lexer": "ipython3",
   "version": "3.8.8"
  }
 },
 "nbformat": 4,
 "nbformat_minor": 5
}
