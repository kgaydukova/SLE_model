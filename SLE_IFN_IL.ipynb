{
 "cells": [
  {
   "cell_type": "code",
   "execution_count": 1,
   "id": "cda4a8ce",
   "metadata": {},
   "outputs": [],
   "source": [
    "import numpy as np\n",
    "import pandas as pd\n",
    "import scipy.stats as stats\n",
    "import matplotlib.pyplot as plt\n",
    "import seaborn as sns"
   ]
  },
  {
   "cell_type": "code",
   "execution_count": 2,
   "id": "4f9f4a94",
   "metadata": {},
   "outputs": [],
   "source": [
    "# Load data\n",
    "df = pd.read_csv('sle_many_values.csv', sep = ';')"
   ]
  },
  {
   "cell_type": "code",
   "execution_count": 3,
   "id": "7e197c79",
   "metadata": {},
   "outputs": [
    {
     "data": {
      "text/plain": [
       "Index(['Age', 'Age of SLE debut', 'Age at diagnosis', 'Disease duration',\n",
       "       'Height', 'Weight', 'BMI', 'PRE (in the debut of SLE)',\n",
       "       'PRE (currently)', 'CYC (total dose in grams)', 'SLEDAI-2K', 'SDI',\n",
       "       'Number of exacerbations of SLE', 'SF-36 (mental)', 'SF-36  (physical)',\n",
       "       'LupusQol', 'Hb (in debut)', 'Hb (currently)', 'Er (in debut)',\n",
       "       'Er  (currently)', 'Leu  (in debut)', 'Leu (currently)',\n",
       "       'Tr (in debut)', 'Tr (currently)', 'ESR (in debut)', 'ESR (currently)',\n",
       "       'Complement c3 (g/l)', 'Complement C4 (g/l)', 'ANF (in debut)',\n",
       "       'ANF (currently)', 'Anti-dsDNA (in debut)', 'Anti-dsDNA (currently)',\n",
       "       'IFN-α', 'IL-18', 'IL-6', 'CCI', 'CiRS (general)',\n",
       "       'CIRS (severity index)', 'Class'],\n",
       "      dtype='object')"
      ]
     },
     "execution_count": 3,
     "metadata": {},
     "output_type": "execute_result"
    }
   ],
   "source": [
    "df.columns"
   ]
  },
  {
   "cell_type": "code",
   "execution_count": 4,
   "id": "2e53d2a0",
   "metadata": {},
   "outputs": [
    {
     "data": {
      "text/html": [
       "<div>\n",
       "<style scoped>\n",
       "    .dataframe tbody tr th:only-of-type {\n",
       "        vertical-align: middle;\n",
       "    }\n",
       "\n",
       "    .dataframe tbody tr th {\n",
       "        vertical-align: top;\n",
       "    }\n",
       "\n",
       "    .dataframe thead th {\n",
       "        text-align: right;\n",
       "    }\n",
       "</style>\n",
       "<table border=\"1\" class=\"dataframe\">\n",
       "  <thead>\n",
       "    <tr style=\"text-align: right;\">\n",
       "      <th></th>\n",
       "      <th>Age</th>\n",
       "      <th>Age of SLE debut</th>\n",
       "      <th>Age at diagnosis</th>\n",
       "      <th>Disease duration</th>\n",
       "      <th>Height</th>\n",
       "      <th>Weight</th>\n",
       "      <th>BMI</th>\n",
       "      <th>PRE (in the debut of SLE)</th>\n",
       "      <th>PRE (currently)</th>\n",
       "      <th>CYC (total dose in grams)</th>\n",
       "      <th>...</th>\n",
       "      <th>ANF (currently)</th>\n",
       "      <th>Anti-dsDNA (in debut)</th>\n",
       "      <th>Anti-dsDNA (currently)</th>\n",
       "      <th>IFN-α</th>\n",
       "      <th>IL-18</th>\n",
       "      <th>IL-6</th>\n",
       "      <th>CCI</th>\n",
       "      <th>CiRS (general)</th>\n",
       "      <th>CIRS (severity index)</th>\n",
       "      <th>Class</th>\n",
       "    </tr>\n",
       "  </thead>\n",
       "  <tbody>\n",
       "    <tr>\n",
       "      <th>0</th>\n",
       "      <td>46</td>\n",
       "      <td>9</td>\n",
       "      <td>32</td>\n",
       "      <td>14</td>\n",
       "      <td>152.0</td>\n",
       "      <td>62.0</td>\n",
       "      <td>26.8</td>\n",
       "      <td>15</td>\n",
       "      <td>10.0</td>\n",
       "      <td>12.0</td>\n",
       "      <td>...</td>\n",
       "      <td>320</td>\n",
       "      <td>48.5</td>\n",
       "      <td>4.2</td>\n",
       "      <td>3.16</td>\n",
       "      <td>618.540</td>\n",
       "      <td>0.40</td>\n",
       "      <td>2</td>\n",
       "      <td>7</td>\n",
       "      <td>1.75</td>\n",
       "      <td>0</td>\n",
       "    </tr>\n",
       "    <tr>\n",
       "      <th>1</th>\n",
       "      <td>51</td>\n",
       "      <td>12</td>\n",
       "      <td>28</td>\n",
       "      <td>23</td>\n",
       "      <td>162.0</td>\n",
       "      <td>78.0</td>\n",
       "      <td>29.7</td>\n",
       "      <td>30</td>\n",
       "      <td>20.0</td>\n",
       "      <td>100.0</td>\n",
       "      <td>...</td>\n",
       "      <td>1280</td>\n",
       "      <td>8.2</td>\n",
       "      <td>60.0</td>\n",
       "      <td>5.02</td>\n",
       "      <td>467.830</td>\n",
       "      <td>3.70</td>\n",
       "      <td>3</td>\n",
       "      <td>6</td>\n",
       "      <td>1.50</td>\n",
       "      <td>0</td>\n",
       "    </tr>\n",
       "    <tr>\n",
       "      <th>2</th>\n",
       "      <td>40</td>\n",
       "      <td>7</td>\n",
       "      <td>20</td>\n",
       "      <td>20</td>\n",
       "      <td>158.0</td>\n",
       "      <td>80.0</td>\n",
       "      <td>32.0</td>\n",
       "      <td>60</td>\n",
       "      <td>10.0</td>\n",
       "      <td>26.0</td>\n",
       "      <td>...</td>\n",
       "      <td>320</td>\n",
       "      <td>150.7</td>\n",
       "      <td>130.0</td>\n",
       "      <td>4.44</td>\n",
       "      <td>114.250</td>\n",
       "      <td>1.40</td>\n",
       "      <td>4</td>\n",
       "      <td>7</td>\n",
       "      <td>1.17</td>\n",
       "      <td>0</td>\n",
       "    </tr>\n",
       "    <tr>\n",
       "      <th>3</th>\n",
       "      <td>36</td>\n",
       "      <td>15</td>\n",
       "      <td>16</td>\n",
       "      <td>20</td>\n",
       "      <td>159.0</td>\n",
       "      <td>58.0</td>\n",
       "      <td>22.9</td>\n",
       "      <td>20</td>\n",
       "      <td>5.0</td>\n",
       "      <td>0.0</td>\n",
       "      <td>...</td>\n",
       "      <td>640</td>\n",
       "      <td>67.0</td>\n",
       "      <td>0.0</td>\n",
       "      <td>3.19</td>\n",
       "      <td>433.300</td>\n",
       "      <td>0.30</td>\n",
       "      <td>1</td>\n",
       "      <td>3</td>\n",
       "      <td>3.00</td>\n",
       "      <td>0</td>\n",
       "    </tr>\n",
       "    <tr>\n",
       "      <th>4</th>\n",
       "      <td>38</td>\n",
       "      <td>17</td>\n",
       "      <td>20</td>\n",
       "      <td>18</td>\n",
       "      <td>165.0</td>\n",
       "      <td>77.0</td>\n",
       "      <td>28.3</td>\n",
       "      <td>120</td>\n",
       "      <td>10.0</td>\n",
       "      <td>24.0</td>\n",
       "      <td>...</td>\n",
       "      <td>320</td>\n",
       "      <td>232.0</td>\n",
       "      <td>200.0</td>\n",
       "      <td>2.78</td>\n",
       "      <td>393.836</td>\n",
       "      <td>7.82</td>\n",
       "      <td>1</td>\n",
       "      <td>8</td>\n",
       "      <td>1.60</td>\n",
       "      <td>0</td>\n",
       "    </tr>\n",
       "    <tr>\n",
       "      <th>...</th>\n",
       "      <td>...</td>\n",
       "      <td>...</td>\n",
       "      <td>...</td>\n",
       "      <td>...</td>\n",
       "      <td>...</td>\n",
       "      <td>...</td>\n",
       "      <td>...</td>\n",
       "      <td>...</td>\n",
       "      <td>...</td>\n",
       "      <td>...</td>\n",
       "      <td>...</td>\n",
       "      <td>...</td>\n",
       "      <td>...</td>\n",
       "      <td>...</td>\n",
       "      <td>...</td>\n",
       "      <td>...</td>\n",
       "      <td>...</td>\n",
       "      <td>...</td>\n",
       "      <td>...</td>\n",
       "      <td>...</td>\n",
       "      <td>...</td>\n",
       "    </tr>\n",
       "    <tr>\n",
       "      <th>115</th>\n",
       "      <td>41</td>\n",
       "      <td>39</td>\n",
       "      <td>40</td>\n",
       "      <td>1</td>\n",
       "      <td>180.0</td>\n",
       "      <td>73.0</td>\n",
       "      <td>22.5</td>\n",
       "      <td>15</td>\n",
       "      <td>10.0</td>\n",
       "      <td>0.0</td>\n",
       "      <td>...</td>\n",
       "      <td>640</td>\n",
       "      <td>21.0</td>\n",
       "      <td>70.0</td>\n",
       "      <td>2.82</td>\n",
       "      <td>333.000</td>\n",
       "      <td>1.54</td>\n",
       "      <td>2</td>\n",
       "      <td>3</td>\n",
       "      <td>3.00</td>\n",
       "      <td>1</td>\n",
       "    </tr>\n",
       "    <tr>\n",
       "      <th>116</th>\n",
       "      <td>49</td>\n",
       "      <td>20</td>\n",
       "      <td>47</td>\n",
       "      <td>2</td>\n",
       "      <td>172.0</td>\n",
       "      <td>62.0</td>\n",
       "      <td>20.9</td>\n",
       "      <td>15</td>\n",
       "      <td>12.5</td>\n",
       "      <td>0.0</td>\n",
       "      <td>...</td>\n",
       "      <td>160</td>\n",
       "      <td>12.0</td>\n",
       "      <td>189.0</td>\n",
       "      <td>1.16</td>\n",
       "      <td>296.034</td>\n",
       "      <td>1.47</td>\n",
       "      <td>2</td>\n",
       "      <td>7</td>\n",
       "      <td>2.33</td>\n",
       "      <td>1</td>\n",
       "    </tr>\n",
       "    <tr>\n",
       "      <th>117</th>\n",
       "      <td>38</td>\n",
       "      <td>29</td>\n",
       "      <td>34</td>\n",
       "      <td>4</td>\n",
       "      <td>172.0</td>\n",
       "      <td>148.0</td>\n",
       "      <td>50.0</td>\n",
       "      <td>50</td>\n",
       "      <td>15.0</td>\n",
       "      <td>1.0</td>\n",
       "      <td>...</td>\n",
       "      <td>0</td>\n",
       "      <td>32.0</td>\n",
       "      <td>12.0</td>\n",
       "      <td>0.58</td>\n",
       "      <td>99.182</td>\n",
       "      <td>1.05</td>\n",
       "      <td>1</td>\n",
       "      <td>4</td>\n",
       "      <td>2.00</td>\n",
       "      <td>1</td>\n",
       "    </tr>\n",
       "    <tr>\n",
       "      <th>118</th>\n",
       "      <td>35</td>\n",
       "      <td>34</td>\n",
       "      <td>34</td>\n",
       "      <td>1</td>\n",
       "      <td>164.0</td>\n",
       "      <td>65.0</td>\n",
       "      <td>24.1</td>\n",
       "      <td>60</td>\n",
       "      <td>30.0</td>\n",
       "      <td>0.0</td>\n",
       "      <td>...</td>\n",
       "      <td>160</td>\n",
       "      <td>305.0</td>\n",
       "      <td>17.7</td>\n",
       "      <td>1.16</td>\n",
       "      <td>987.533</td>\n",
       "      <td>0.77</td>\n",
       "      <td>1</td>\n",
       "      <td>4</td>\n",
       "      <td>2.00</td>\n",
       "      <td>1</td>\n",
       "    </tr>\n",
       "    <tr>\n",
       "      <th>119</th>\n",
       "      <td>34</td>\n",
       "      <td>32</td>\n",
       "      <td>32</td>\n",
       "      <td>2</td>\n",
       "      <td>167.0</td>\n",
       "      <td>57.0</td>\n",
       "      <td>20.4</td>\n",
       "      <td>20</td>\n",
       "      <td>5.0</td>\n",
       "      <td>0.0</td>\n",
       "      <td>...</td>\n",
       "      <td>320</td>\n",
       "      <td>81.0</td>\n",
       "      <td>105.0</td>\n",
       "      <td>0.07</td>\n",
       "      <td>202.709</td>\n",
       "      <td>1.47</td>\n",
       "      <td>1</td>\n",
       "      <td>3</td>\n",
       "      <td>3.00</td>\n",
       "      <td>1</td>\n",
       "    </tr>\n",
       "  </tbody>\n",
       "</table>\n",
       "<p>120 rows × 39 columns</p>\n",
       "</div>"
      ],
      "text/plain": [
       "     Age  Age of SLE debut  Age at diagnosis  Disease duration  Height  \\\n",
       "0     46                 9                32                14   152.0   \n",
       "1     51                12                28                23   162.0   \n",
       "2     40                 7                20                20   158.0   \n",
       "3     36                15                16                20   159.0   \n",
       "4     38                17                20                18   165.0   \n",
       "..   ...               ...               ...               ...     ...   \n",
       "115   41                39                40                 1   180.0   \n",
       "116   49                20                47                 2   172.0   \n",
       "117   38                29                34                 4   172.0   \n",
       "118   35                34                34                 1   164.0   \n",
       "119   34                32                32                 2   167.0   \n",
       "\n",
       "     Weight   BMI  PRE (in the debut of SLE)  PRE (currently)  \\\n",
       "0      62.0  26.8                         15             10.0   \n",
       "1      78.0  29.7                         30             20.0   \n",
       "2      80.0  32.0                         60             10.0   \n",
       "3      58.0  22.9                         20              5.0   \n",
       "4      77.0  28.3                        120             10.0   \n",
       "..      ...   ...                        ...              ...   \n",
       "115    73.0  22.5                         15             10.0   \n",
       "116    62.0  20.9                         15             12.5   \n",
       "117   148.0  50.0                         50             15.0   \n",
       "118    65.0  24.1                         60             30.0   \n",
       "119    57.0  20.4                         20              5.0   \n",
       "\n",
       "     CYC (total dose in grams)  ...  ANF (currently)  Anti-dsDNA (in debut)  \\\n",
       "0                         12.0  ...              320                   48.5   \n",
       "1                        100.0  ...             1280                    8.2   \n",
       "2                         26.0  ...              320                  150.7   \n",
       "3                          0.0  ...              640                   67.0   \n",
       "4                         24.0  ...              320                  232.0   \n",
       "..                         ...  ...              ...                    ...   \n",
       "115                        0.0  ...              640                   21.0   \n",
       "116                        0.0  ...              160                   12.0   \n",
       "117                        1.0  ...                0                   32.0   \n",
       "118                        0.0  ...              160                  305.0   \n",
       "119                        0.0  ...              320                   81.0   \n",
       "\n",
       "     Anti-dsDNA (currently)  IFN-α    IL-18  IL-6  CCI  CiRS (general)  \\\n",
       "0                       4.2   3.16  618.540  0.40    2               7   \n",
       "1                      60.0   5.02  467.830  3.70    3               6   \n",
       "2                     130.0   4.44  114.250  1.40    4               7   \n",
       "3                       0.0   3.19  433.300  0.30    1               3   \n",
       "4                     200.0   2.78  393.836  7.82    1               8   \n",
       "..                      ...    ...      ...   ...  ...             ...   \n",
       "115                    70.0   2.82  333.000  1.54    2               3   \n",
       "116                   189.0   1.16  296.034  1.47    2               7   \n",
       "117                    12.0   0.58   99.182  1.05    1               4   \n",
       "118                    17.7   1.16  987.533  0.77    1               4   \n",
       "119                   105.0   0.07  202.709  1.47    1               3   \n",
       "\n",
       "     CIRS (severity index)  Class  \n",
       "0                     1.75      0  \n",
       "1                     1.50      0  \n",
       "2                     1.17      0  \n",
       "3                     3.00      0  \n",
       "4                     1.60      0  \n",
       "..                     ...    ...  \n",
       "115                   3.00      1  \n",
       "116                   2.33      1  \n",
       "117                   2.00      1  \n",
       "118                   2.00      1  \n",
       "119                   3.00      1  \n",
       "\n",
       "[120 rows x 39 columns]"
      ]
     },
     "execution_count": 4,
     "metadata": {},
     "output_type": "execute_result"
    }
   ],
   "source": [
    "df"
   ]
  },
  {
   "cell_type": "markdown",
   "id": "5e0fe070",
   "metadata": {},
   "source": [
    "## Разделяем наш датасет на 2 отдельные выборки:\n",
    "### df_class0 - пациенты с ювенильной СКВ\n",
    "### df_class1 - пациенты со взрослой СКВ"
   ]
  },
  {
   "cell_type": "code",
   "execution_count": 5,
   "id": "e04fdd2e",
   "metadata": {},
   "outputs": [],
   "source": [
    "# create df for juniors and adults SLE\n",
    "df_class0 = df[df['Class'] == 0]\n",
    "df_class1 = df[df['Class'] == 1]"
   ]
  },
  {
   "cell_type": "markdown",
   "id": "295ee526",
   "metadata": {},
   "source": [
    "## Создаем массивы со значениями IFN-α для каждой выборки"
   ]
  },
  {
   "cell_type": "code",
   "execution_count": 6,
   "id": "71268cbb",
   "metadata": {},
   "outputs": [],
   "source": [
    "# Convert 'IFN' to a np.array\n",
    "IFN_class0 = df_class0['IFN-α'].to_numpy()\n",
    "IFN_class1 = df_class1['IFN-α'].to_numpy()"
   ]
  },
  {
   "cell_type": "markdown",
   "id": "66e39848",
   "metadata": {},
   "source": [
    "### Количество пациентов с ювенильной СКВ"
   ]
  },
  {
   "cell_type": "code",
   "execution_count": 7,
   "id": "cd56249a",
   "metadata": {},
   "outputs": [
    {
     "data": {
      "text/plain": [
       "66"
      ]
     },
     "execution_count": 7,
     "metadata": {},
     "output_type": "execute_result"
    }
   ],
   "source": [
    "len(IFN_class0)"
   ]
  },
  {
   "cell_type": "markdown",
   "id": "b9ce9624",
   "metadata": {},
   "source": [
    "### Количество пациентов со взрослой СКВ"
   ]
  },
  {
   "cell_type": "code",
   "execution_count": 8,
   "id": "3df31587",
   "metadata": {},
   "outputs": [
    {
     "data": {
      "text/plain": [
       "54"
      ]
     },
     "execution_count": 8,
     "metadata": {},
     "output_type": "execute_result"
    }
   ],
   "source": [
    "len(IFN_class1)"
   ]
  },
  {
   "cell_type": "markdown",
   "id": "972d4ebd",
   "metadata": {},
   "source": [
    "## Считаем среднее значение, стандартное отклонение и дисперсию для значений IFN-α для каждой выборки"
   ]
  },
  {
   "cell_type": "markdown",
   "id": "2795d035",
   "metadata": {},
   "source": [
    "### Значения для ювенильной СКВ"
   ]
  },
  {
   "cell_type": "code",
   "execution_count": 9,
   "id": "41090aee",
   "metadata": {},
   "outputs": [
    {
     "name": "stdout",
     "output_type": "stream",
     "text": [
      "Mean: 6.572575757575757\n",
      "std: 8.093147177968579\n",
      "variance: 65.49903124426078\n"
     ]
    }
   ],
   "source": [
    "mean_class0 = np.mean(IFN_class0)\n",
    "print(f\"Mean: {mean_class0}\")\n",
    "  \n",
    "std_class0 = np.std(IFN_class0)\n",
    "print(f\"std: {std_class0}\")\n",
    "  \n",
    "variance_class0 = np.var(IFN_class0)\n",
    "print(f\"variance: {variance_class0}\")"
   ]
  },
  {
   "cell_type": "markdown",
   "id": "74793824",
   "metadata": {},
   "source": [
    "### Значения для взрослой СКВ"
   ]
  },
  {
   "cell_type": "code",
   "execution_count": 10,
   "id": "72fad672",
   "metadata": {},
   "outputs": [
    {
     "name": "stdout",
     "output_type": "stream",
     "text": [
      "Mean: 12.172037037037036\n",
      "std: 15.221251150651867\n",
      "variance: 231.68648659122078\n"
     ]
    }
   ],
   "source": [
    "mean_class1 = np.mean(IFN_class1)\n",
    "print(f\"Mean: {mean_class1}\")\n",
    "  \n",
    "std_class1 = np.std(IFN_class1)\n",
    "print(f\"std: {std_class1}\")\n",
    "  \n",
    "variance_class1 = np.var(IFN_class1)\n",
    "print(f\"variance: {variance_class1}\")"
   ]
  },
  {
   "cell_type": "markdown",
   "id": "7622ed5b",
   "metadata": {},
   "source": [
    "## Для возможности применения t-test соотношение между большой и меньшей  дисперсиями двух выборок должно быть меньше или равно 4"
   ]
  },
  {
   "cell_type": "code",
   "execution_count": 11,
   "id": "2b916a57",
   "metadata": {},
   "outputs": [
    {
     "name": "stdout",
     "output_type": "stream",
     "text": [
      "ratio between variances: 3.54\n"
     ]
    }
   ],
   "source": [
    "print(f\"ratio between variances: {round(variance_class1/variance_class0, 2)}\")"
   ]
  },
  {
   "cell_type": "markdown",
   "id": "b89f4510",
   "metadata": {},
   "source": [
    "### Мы можем применить t-test, но так как соотношение между выборками достаточно близко к 4, мы проведем и Welch t-test, который применим к выборкам к большим различием в дисперсиях"
   ]
  },
  {
   "cell_type": "markdown",
   "id": "ac048133",
   "metadata": {},
   "source": [
    "##  Результаты t-test"
   ]
  },
  {
   "cell_type": "code",
   "execution_count": 12,
   "id": "0960676b",
   "metadata": {},
   "outputs": [
    {
     "name": "stdout",
     "output_type": "stream",
     "text": [
      "t-statistic: -2.55\n",
      "p-value: 0.01\n",
      "Reject H0: There is a significant difference between the groups.\n"
     ]
    }
   ],
   "source": [
    "# Perform independent samples t-test\n",
    "t_statistic, p_value = stats.ttest_ind(IFN_class0, IFN_class1)\n",
    "\n",
    "# Define significance level (alpha)\n",
    "alpha = 0.05\n",
    "\n",
    "# Print results\n",
    "print(f\"t-statistic: {round(t_statistic, 2)}\")\n",
    "print(f\"p-value: {round(p_value, 2)}\")\n",
    "\n",
    "# Compare p-value to significance level\n",
    "if p_value < alpha:\n",
    "    print(\"Reject H0: There is a significant difference between the groups.\")\n",
    "else:\n",
    "    print(\"Fail to reject H0: There is no significant difference between the groups.\")"
   ]
  },
  {
   "cell_type": "markdown",
   "id": "f469709b",
   "metadata": {},
   "source": [
    "##  Результаты Welch's t-test"
   ]
  },
  {
   "cell_type": "code",
   "execution_count": 13,
   "id": "efa84d1e",
   "metadata": {},
   "outputs": [
    {
     "name": "stdout",
     "output_type": "stream",
     "text": [
      "Welch's t-statistic: -2.41\n",
      "Welch's p-value: 0.02\n",
      "Reject the null hypothesis: There is a significant difference between the groups.\n"
     ]
    }
   ],
   "source": [
    "# Perform Welch's t-test\n",
    "t_statistic, p_value = stats.ttest_ind(IFN_class0, IFN_class1, equal_var=False)\n",
    "\n",
    "# Print t-test results\n",
    "print(f\"Welch's t-statistic: {round(t_statistic, 2)}\")\n",
    "print(f\"Welch's p-value: {round(p_value, 2)}\")\n",
    "\n",
    "# Compare p-value to significance level\n",
    "alpha = 0.05\n",
    "if p_value < alpha:\n",
    "    print(\"Reject the null hypothesis: There is a significant difference between the groups.\")\n",
    "else:\n",
    "    print(\"Fail to reject the null hypothesis: There is no significant difference between the groups.\")"
   ]
  },
  {
   "cell_type": "code",
   "execution_count": 14,
   "id": "87916ffb",
   "metadata": {},
   "outputs": [
    {
     "data": {
      "image/png": "[encoded data removed]",
      "text/plain": [
       "<Figure size 432x288 with 1 Axes>"
      ]
     },
     "metadata": {
      "needs_background": "light"
     },
     "output_type": "display_data"
    }
   ],
   "source": [
    "# Create a box plot to compare the distributions\n",
    "plt.boxplot([IFN_class0, IFN_class1], labels=['Juniors', 'Adults'])\n",
    "plt.title('Box Plot of SLE juniors and adults')\n",
    "plt.ylabel('Value')\n",
    "plt.show()\n"
   ]
  },
  {
   "cell_type": "code",
   "execution_count": 56,
   "id": "296a3aa5",
   "metadata": {},
   "outputs": [
    {
     "data": {
      "image/png": "[encoded data removed]",
      "text/plain": [
       "<Figure size 576x432 with 1 Axes>"
      ]
     },
     "metadata": {
      "needs_background": "light"
     },
     "output_type": "display_data"
    }
   ],
   "source": [
    "# Create a box plot with seaborn and pastel green colors\n",
    "plt.figure(figsize=(8, 6))  # Adjust figure size\n",
    "sns.set_palette(\"pastel\")  # Set pastel color palette\n",
    "sns.boxplot(data=IFN_class0, width=0.5, linewidth=1.5, color='lightgreen')\n",
    "plt.title('Box Plot Juniors IFN ', fontsize=16)\n",
    "plt.xlabel('Value', fontsize=14)\n",
    "plt.yticks(fontsize=12)\n",
    "plt.xticks(fontsize=12)\n",
    "\n",
    "# Add grid lines for readability\n",
    "plt.grid(axis='y', linestyle='--', alpha=0.7)\n",
    "\n",
    "plt.show()"
   ]
  },
  {
   "cell_type": "code",
   "execution_count": 58,
   "id": "defcb92e",
   "metadata": {},
   "outputs": [
    {
     "data": {
      "image/png": "[encoded data removed]",
      "text/plain": [
       "<Figure size 576x432 with 1 Axes>"
      ]
     },
     "metadata": {
      "needs_background": "light"
     },
     "output_type": "display_data"
    }
   ],
   "source": [
    "# Create a box plot with seaborn and pastel green colors\n",
    "plt.figure(figsize=(8, 6))  # Adjust figure size\n",
    "sns.set_palette(\"pastel\")  # Set pastel color palette\n",
    "sns.boxplot(data=IFN_class1, width=0.5, linewidth=1.5, color='skyblue')\n",
    "plt.title('Box Plot Adults IFN ', fontsize=16)\n",
    "plt.xlabel('Value', fontsize=14)\n",
    "plt.yticks(fontsize=12)\n",
    "plt.xticks(fontsize=12)\n",
    "\n",
    "# Add grid lines for readability\n",
    "plt.grid(axis='y', linestyle='--', alpha=0.7)\n",
    "\n",
    "plt.show()"
   ]
  },
  {
   "cell_type": "code",
   "execution_count": 16,
   "id": "d2ff858a",
   "metadata": {},
   "outputs": [
    {
     "data": {
      "image/png": "[encoded data removed]",
      "text/plain": [
       "<Figure size 432x288 with 1 Axes>"
      ]
     },
     "metadata": {
      "needs_background": "light"
     },
     "output_type": "display_data"
    }
   ],
   "source": [
    "# Combine the two arrays\n",
    "combined_data = np.concatenate([IFN_class0, IFN_class1])\n",
    "\n",
    "# Create a density plot\n",
    "sns.kdeplot(IFN_class0, label='Juniors')\n",
    "sns.kdeplot(IFN_class1, label='Adults')\n",
    "plt.title('Density Plot of Juniors and Adults SLE patients')\n",
    "plt.xlabel('Value')\n",
    "plt.ylabel('Density')\n",
    "plt.legend()\n",
    "plt.show()"
   ]
  },
  {
   "cell_type": "markdown",
   "id": "11e2ad99",
   "metadata": {},
   "source": [
    "# Повторим анализ для IL-6 "
   ]
  },
  {
   "cell_type": "code",
   "execution_count": 19,
   "id": "5db84975",
   "metadata": {},
   "outputs": [],
   "source": [
    "# Convert 'IL-6' to a np.array\n",
    "IL6_class0 = df_class0['IL-6'].to_numpy()\n",
    "IL6_class1 = df_class1['IL-6'].to_numpy()"
   ]
  },
  {
   "cell_type": "code",
   "execution_count": 71,
   "id": "47fc1e13",
   "metadata": {},
   "outputs": [
    {
     "data": {
      "image/png": "[encoded data removed]",
      "text/plain": [
       "<Figure size 432x288 with 1 Axes>"
      ]
     },
     "metadata": {
      "needs_background": "light"
     },
     "output_type": "display_data"
    }
   ],
   "source": [
    "# Create a box plot to compare the distributions\n",
    "plt.boxplot([IL6_class0, IL6_class1], labels=['Juniors', 'Adults'])\n",
    "plt.title('Box Plot of IL-6 juniors and adults')\n",
    "plt.ylabel('IL-6')\n",
    "plt.show()"
   ]
  },
  {
   "cell_type": "code",
   "execution_count": 70,
   "id": "ff582f49",
   "metadata": {},
   "outputs": [
    {
     "data": {
      "image/png": "[encoded data removed]",
      "text/plain": [
       "<Figure size 432x288 with 1 Axes>"
      ]
     },
     "metadata": {
      "needs_background": "light"
     },
     "output_type": "display_data"
    }
   ],
   "source": [
    "# Create a box plot to compare the distributions\n",
    "plt.boxplot([IL6_class0], labels=['Juniors'])\n",
    "plt.title('Box Plot of IL-6 juniors')\n",
    "plt.ylabel('Value')\n",
    "plt.show()"
   ]
  },
  {
   "cell_type": "code",
   "execution_count": 69,
   "id": "643cb908",
   "metadata": {},
   "outputs": [
    {
     "data": {
      "image/png": "[encoded data removed]",
      "text/plain": [
       "<Figure size 432x288 with 1 Axes>"
      ]
     },
     "metadata": {
      "needs_background": "light"
     },
     "output_type": "display_data"
    }
   ],
   "source": [
    "# Create a box plot to compare the distributions\n",
    "plt.boxplot([IL6_class1], labels=['Adults'])\n",
    "plt.title('Box Plot of IL-6 adults')\n",
    "plt.ylabel('Value')\n",
    "plt.show()"
   ]
  },
  {
   "cell_type": "code",
   "execution_count": 72,
   "id": "0c190b87",
   "metadata": {},
   "outputs": [
    {
     "data": {
      "image/png": "[encoded data removed]",
      "text/plain": [
       "<Figure size 432x288 with 1 Axes>"
      ]
     },
     "metadata": {
      "needs_background": "light"
     },
     "output_type": "display_data"
    }
   ],
   "source": [
    "# Combine the two arrays\n",
    "combined_data = np.concatenate([IL6_class0, IL6_class1])\n",
    "\n",
    "# Create a density plot\n",
    "sns.kdeplot(IL6_class0, label='Juniors')\n",
    "sns.kdeplot(IL6_class1, label='Adults')\n",
    "plt.title('Density Plot of IL-6')\n",
    "plt.xlabel('IL-6')\n",
    "plt.ylabel('Density')\n",
    "plt.legend()\n",
    "plt.show()"
   ]
  },
  {
   "cell_type": "code",
   "execution_count": 39,
   "id": "fcfb6181",
   "metadata": {},
   "outputs": [
    {
     "data": {
      "image/png": "[encoded data removed]",
      "text/plain": [
       "<Figure size 576x432 with 1 Axes>"
      ]
     },
     "metadata": {
      "needs_background": "light"
     },
     "output_type": "display_data"
    }
   ],
   "source": [
    "# Create a histogram\n",
    "# Set a custom color palette for seaborn\n",
    "sns.set_palette(\"pastel\")\n",
    "\n",
    "# Create a histogram with seaborn style\n",
    "plt.figure(figsize=(8, 6))  # Adjust figure size\n",
    "sns.histplot(IL6_class0, bins=10, kde=True, color='skyblue', edgecolor='black')\n",
    "plt.title('Histogram of Juniors IL-6 ', fontsize=16)\n",
    "plt.xlabel('IL-6', fontsize=14)\n",
    "plt.ylabel('Frequency', fontsize=14)\n",
    "plt.xticks(fontsize=12)\n",
    "plt.yticks(fontsize=12)\n",
    "\n",
    "# Add a grid for readability\n",
    "plt.grid(axis='y', linestyle='--', alpha=0.7)\n",
    "\n",
    "# Add a legend for the kernel density estimate (KDE)\n",
    "plt.legend(['IL-6 Juniors', 'KDE'], fontsize=12)\n",
    "plt.show()"
   ]
  },
  {
   "cell_type": "code",
   "execution_count": 46,
   "id": "7315a8e3",
   "metadata": {},
   "outputs": [
    {
     "data": {
      "image/png": "[encoded data removed]",
      "text/plain": [
       "<Figure size 576x432 with 1 Axes>"
      ]
     },
     "metadata": {
      "needs_background": "light"
     },
     "output_type": "display_data"
    }
   ],
   "source": [
    "# Create a histogram\n",
    "# Set a custom color palette for seaborn\n",
    "sns.set_palette(\"pastel\")\n",
    "\n",
    "# Create a histogram with seaborn style\n",
    "plt.figure(figsize=(8, 6))  # Adjust figure size\n",
    "sns.histplot(IL6_class1, bins=10, kde=True, color='skyblue', edgecolor='black')\n",
    "plt.title('Histogram of Adults IL-6 ', fontsize=16)\n",
    "plt.xlabel('IL-6', fontsize=14)\n",
    "plt.ylabel('Frequency', fontsize=14)\n",
    "plt.xticks(fontsize=12)\n",
    "plt.yticks(fontsize=12)\n",
    "\n",
    "# Add a grid for readability\n",
    "plt.grid(axis='y', linestyle='--', alpha=0.7)\n",
    "\n",
    "# Add a legend for the kernel density estimate (KDE)\n",
    "plt.legend(['IL-6 Adults', 'KDE'], fontsize=12)\n",
    "plt.show()"
   ]
  },
  {
   "cell_type": "code",
   "execution_count": 81,
   "id": "749204da",
   "metadata": {},
   "outputs": [
    {
     "data": {
      "image/png": "[encoded data removed]",
      "text/plain": [
       "<Figure size 576x432 with 1 Axes>"
      ]
     },
     "metadata": {
      "needs_background": "light"
     },
     "output_type": "display_data"
    }
   ],
   "source": [
    "# Delete the value 300 from the array\n",
    "IL6_class1_without_300 = np.delete(IL6_class1, np.where(IL6_class1 == 300))\n",
    "\n",
    "# Create a histogram\n",
    "# Set a custom color palette for seaborn\n",
    "sns.set_palette(\"pastel\")\n",
    "\n",
    "# Create a histogram with seaborn style\n",
    "plt.figure(figsize=(8, 6))  # Adjust figure size\n",
    "sns.histplot(IL6_class1_without_300, bins=10, kde=True, color='darkblue', edgecolor='black')\n",
    "plt.title('Histogram of Adults IL-6 (remove value = 300) ', fontsize=16)\n",
    "plt.xlabel('IL-6', fontsize=14)\n",
    "plt.ylabel('Frequency', fontsize=14)\n",
    "plt.xticks(fontsize=12)\n",
    "plt.yticks(fontsize=12)\n",
    "\n",
    "# Add a grid for readability\n",
    "plt.grid(axis='y', linestyle='--', alpha=0.7)\n",
    "\n",
    "# Add a legend for the kernel density estimate (KDE)\n",
    "plt.legend(['IL-6 Adults', 'KDE'], fontsize=12)\n",
    "plt.show()"
   ]
  },
  {
   "cell_type": "code",
   "execution_count": 35,
   "id": "db734fd3",
   "metadata": {},
   "outputs": [
    {
     "data": {
      "text/html": [
       "<svg  width=\"550\" height=\"55\"><rect x=\"0\" y=\"0\" width=\"55\" height=\"55\" style=\"fill:#a1c9f4;stroke-width:2;stroke:rgb(255,255,255)\"/><rect x=\"55\" y=\"0\" width=\"55\" height=\"55\" style=\"fill:#ffb482;stroke-width:2;stroke:rgb(255,255,255)\"/><rect x=\"110\" y=\"0\" width=\"55\" height=\"55\" style=\"fill:#8de5a1;stroke-width:2;stroke:rgb(255,255,255)\"/><rect x=\"165\" y=\"0\" width=\"55\" height=\"55\" style=\"fill:#ff9f9b;stroke-width:2;stroke:rgb(255,255,255)\"/><rect x=\"220\" y=\"0\" width=\"55\" height=\"55\" style=\"fill:#d0bbff;stroke-width:2;stroke:rgb(255,255,255)\"/><rect x=\"275\" y=\"0\" width=\"55\" height=\"55\" style=\"fill:#debb9b;stroke-width:2;stroke:rgb(255,255,255)\"/><rect x=\"330\" y=\"0\" width=\"55\" height=\"55\" style=\"fill:#fab0e4;stroke-width:2;stroke:rgb(255,255,255)\"/><rect x=\"385\" y=\"0\" width=\"55\" height=\"55\" style=\"fill:#cfcfcf;stroke-width:2;stroke:rgb(255,255,255)\"/><rect x=\"440\" y=\"0\" width=\"55\" height=\"55\" style=\"fill:#fffea3;stroke-width:2;stroke:rgb(255,255,255)\"/><rect x=\"495\" y=\"0\" width=\"55\" height=\"55\" style=\"fill:#b9f2f0;stroke-width:2;stroke:rgb(255,255,255)\"/></svg>"
      ],
      "text/plain": [
       "[(0.6313725490196078, 0.788235294117647, 0.9568627450980393),\n",
       " (1.0, 0.7058823529411765, 0.5098039215686274),\n",
       " (0.5529411764705883, 0.8980392156862745, 0.6313725490196078),\n",
       " (1.0, 0.6235294117647059, 0.6078431372549019),\n",
       " (0.8156862745098039, 0.7333333333333333, 1.0),\n",
       " (0.8705882352941177, 0.7333333333333333, 0.6078431372549019),\n",
       " (0.9803921568627451, 0.6901960784313725, 0.8941176470588236),\n",
       " (0.8117647058823529, 0.8117647058823529, 0.8117647058823529),\n",
       " (1.0, 0.996078431372549, 0.6392156862745098),\n",
       " (0.7254901960784313, 0.9490196078431372, 0.9411764705882353)]"
      ]
     },
     "execution_count": 35,
     "metadata": {},
     "output_type": "execute_result"
    }
   ],
   "source": [
    "sns.color_palette(\"pastel\")"
   ]
  },
  {
   "cell_type": "markdown",
   "id": "0d1008e7",
   "metadata": {},
   "source": [
    "## Считаем среднее значение, стандартное отклонение и дисперсию для значений IL-6 для каждой выборки"
   ]
  },
  {
   "cell_type": "markdown",
   "id": "66d4f02f",
   "metadata": {},
   "source": [
    "### Значения для ювенильной СКВ"
   ]
  },
  {
   "cell_type": "code",
   "execution_count": 26,
   "id": "defdeea8",
   "metadata": {},
   "outputs": [
    {
     "name": "stdout",
     "output_type": "stream",
     "text": [
      "Min: 0.072413793\n",
      "Max: 19.093\n",
      "Mean: 2.9756792058484853\n",
      "std: 3.725761031790181\n",
      "variance: 13.881295266006235\n"
     ]
    }
   ],
   "source": [
    "min_class0_IL6 = np.min(IL6_class0)\n",
    "print(f\"Min: {min_class0_IL6}\")\n",
    "\n",
    "max_class0_IL6 = np.max(IL6_class0)\n",
    "print(f\"Max: {max_class0_IL6}\")\n",
    "\n",
    "mean_class0_IL6 = np.mean(IL6_class0)\n",
    "print(f\"Mean: {mean_class0_IL6}\")\n",
    "  \n",
    "std_class0_IL6 = np.std(IL6_class0)\n",
    "print(f\"std: {std_class0_IL6}\")\n",
    "  \n",
    "variance_class0_IL6 = np.var(IL6_class0)\n",
    "print(f\"variance: {variance_class0_IL6}\")"
   ]
  },
  {
   "cell_type": "markdown",
   "id": "6868225a",
   "metadata": {},
   "source": [
    "### Значения для взрослой СКВ"
   ]
  },
  {
   "cell_type": "code",
   "execution_count": 27,
   "id": "0c381991",
   "metadata": {},
   "outputs": [
    {
     "name": "stdout",
     "output_type": "stream",
     "text": [
      "Min: 0.081818182\n",
      "Max: 300.0\n",
      "Mean: 9.16188552188889\n",
      "std: 40.528284618673744\n",
      "variance: 1642.5418541322267\n"
     ]
    }
   ],
   "source": [
    "min_class1_IL6 = np.min(IL6_class1)\n",
    "print(f\"Min: {min_class1_IL6}\")\n",
    "\n",
    "max_class1_IL6 = np.max(IL6_class1)\n",
    "print(f\"Max: {max_class1_IL6}\")\n",
    "\n",
    "mean_class1_IL6 = np.mean(IL6_class1)\n",
    "print(f\"Mean: {mean_class1_IL6}\")\n",
    "  \n",
    "std_class1_IL6 = np.std(IL6_class1)\n",
    "print(f\"std: {std_class1_IL6}\")\n",
    "  \n",
    "variance_class1_IL6 = np.var(IL6_class1)\n",
    "print(f\"variance: {variance_class1_IL6}\")"
   ]
  },
  {
   "cell_type": "code",
   "execution_count": 49,
   "id": "a31f0242",
   "metadata": {},
   "outputs": [
    {
     "name": "stdout",
     "output_type": "stream",
     "text": [
      "Min: 0.081818182\n",
      "Max: 43.819\n",
      "Mean: 3.674373927962264\n",
      "std: 6.887880749744299\n",
      "variance: 47.442901222698076\n"
     ]
    }
   ],
   "source": [
    "min_class1_IL6 = np.min(IL6_class1_without_300)\n",
    "print(f\"Min: {min_class1_IL6}\")\n",
    "\n",
    "max_class1_IL6 = np.max(IL6_class1_without_300)\n",
    "print(f\"Max: {max_class1_IL6}\")\n",
    "\n",
    "mean_class1_IL6 = np.mean(IL6_class1_without_300)\n",
    "print(f\"Mean: {mean_class1_IL6}\")\n",
    "  \n",
    "std_class1_IL6 = np.std(IL6_class1_without_300)\n",
    "print(f\"std: {std_class1_IL6}\")\n",
    "  \n",
    "variance_class1_IL6 = np.var(IL6_class1_without_300)\n",
    "print(f\"variance: {variance_class1_IL6}\")"
   ]
  },
  {
   "cell_type": "markdown",
   "id": "506266b6",
   "metadata": {},
   "source": [
    "##  Результаты Welch's t-test для IL-6"
   ]
  },
  {
   "cell_type": "code",
   "execution_count": 52,
   "id": "954badc5",
   "metadata": {},
   "outputs": [
    {
     "name": "stdout",
     "output_type": "stream",
     "text": [
      "Welch's t-statistic: -0.66\n",
      "Welch's p-value: 0.51\n",
      "Fail to reject the null hypothesis: There is no significant difference between the groups.\n"
     ]
    }
   ],
   "source": [
    "# Perform Welch's t-test\n",
    "t_statistic, p_value = stats.ttest_ind(IL6_class0, IL6_class1_without_300, equal_var=False)\n",
    "\n",
    "# Print t-test results\n",
    "print(f\"Welch's t-statistic: {round(t_statistic, 2)}\")\n",
    "print(f\"Welch's p-value: {round(p_value, 2)}\")\n",
    "\n",
    "# Compare p-value to significance level\n",
    "alpha = 0.05\n",
    "if p_value < alpha:\n",
    "    print(\"Reject the null hypothesis: There is a significant difference between the groups.\")\n",
    "else:\n",
    "    print(\"Fail to reject the null hypothesis: There is no significant difference between the groups.\")"
   ]
  },
  {
   "cell_type": "markdown",
   "id": "6a88ed27",
   "metadata": {},
   "source": [
    "## Повторим анализ для IL-18"
   ]
  },
  {
   "cell_type": "code",
   "execution_count": 59,
   "id": "d0e284b7",
   "metadata": {},
   "outputs": [],
   "source": [
    "# Convert 'IL-6' to a np.array\n",
    "IL18_class0 = df_class0['IL-18'].to_numpy()\n",
    "IL18_class1 = df_class1['IL-18'].to_numpy()"
   ]
  },
  {
   "cell_type": "code",
   "execution_count": 67,
   "id": "9f1dd1a8",
   "metadata": {},
   "outputs": [
    {
     "data": {
      "image/png": "[encoded data removed]",
      "text/plain": [
       "<Figure size 432x288 with 1 Axes>"
      ]
     },
     "metadata": {
      "needs_background": "light"
     },
     "output_type": "display_data"
    }
   ],
   "source": [
    "# Create a box plot to compare the distributions\n",
    "plt.boxplot([IL18_class0, IL18_class1], labels=['Juniors', 'Adults'])\n",
    "plt.title('Box Plot of IL-18')\n",
    "plt.ylabel('Value')\n",
    "plt.show()"
   ]
  },
  {
   "cell_type": "code",
   "execution_count": 66,
   "id": "12fa5ee1",
   "metadata": {},
   "outputs": [
    {
     "data": {
      "image/png": "[encoded data removed]",
      "text/plain": [
       "<Figure size 432x288 with 1 Axes>"
      ]
     },
     "metadata": {
      "needs_background": "light"
     },
     "output_type": "display_data"
    }
   ],
   "source": [
    "# Create a density plot\n",
    "sns.kdeplot(IL18_class0, label='Juniors')\n",
    "sns.kdeplot(IL18_class1, label='Adults')\n",
    "plt.title('Density Plot IL-18')\n",
    "plt.xlabel('IL-18')\n",
    "plt.ylabel('Density')\n",
    "plt.legend()\n",
    "plt.show()"
   ]
  },
  {
   "cell_type": "code",
   "execution_count": 74,
   "id": "5f43bce4",
   "metadata": {},
   "outputs": [
    {
     "data": {
      "image/png": "[encoded data removed]",
      "text/plain": [
       "<Figure size 576x432 with 1 Axes>"
      ]
     },
     "metadata": {
      "needs_background": "light"
     },
     "output_type": "display_data"
    }
   ],
   "source": [
    "# Create a histogram \n",
    "plt.figure(figsize=(8, 6))  # Adjust figure size\n",
    "sns.histplot(IL18_class0, bins=10, kde=True, color='blue', edgecolor='black')\n",
    "plt.title('Histogram of Juniors IL-18 ', fontsize=16)\n",
    "plt.xlabel('IL-18', fontsize=14)\n",
    "plt.ylabel('Frequency', fontsize=14)\n",
    "plt.xticks(fontsize=12)\n",
    "plt.yticks(fontsize=12)\n",
    "\n",
    "# Add a grid for readability\n",
    "plt.grid(axis='y', linestyle='--', alpha=0.7)\n",
    "\n",
    "# Add a legend for the kernel density estimate (KDE)\n",
    "plt.legend(['IL-18 Juniors', 'KDE'], fontsize=12)\n",
    "plt.show()"
   ]
  },
  {
   "cell_type": "code",
   "execution_count": 76,
   "id": "514c74b2",
   "metadata": {},
   "outputs": [
    {
     "data": {
      "image/png": "[encoded data removed]",
      "text/plain": [
       "<Figure size 576x432 with 1 Axes>"
      ]
     },
     "metadata": {
      "needs_background": "light"
     },
     "output_type": "display_data"
    }
   ],
   "source": [
    "# Create a histogram \n",
    "plt.figure(figsize=(8, 6))  # Adjust figure size\n",
    "sns.histplot(IL18_class1, bins=10, kde=True, color='orange', edgecolor='black')\n",
    "plt.title('Histogram of Adults IL-18 ', fontsize=16)\n",
    "plt.xlabel('IL-18', fontsize=14)\n",
    "plt.ylabel('Frequency', fontsize=14)\n",
    "plt.xticks(fontsize=12)\n",
    "plt.yticks(fontsize=12)\n",
    "\n",
    "# Add a grid for readability\n",
    "plt.grid(axis='y', linestyle='--', alpha=0.7)\n",
    "\n",
    "# Add a legend for the kernel density estimate (KDE)\n",
    "plt.legend(['IL-18 Adults', 'KDE'], fontsize=12)\n",
    "plt.show()"
   ]
  },
  {
   "cell_type": "markdown",
   "id": "b018505d",
   "metadata": {},
   "source": [
    "## Считаем среднее значение, стандартное отклонение и дисперсию для значений IL-18 для каждой выборки"
   ]
  },
  {
   "cell_type": "markdown",
   "id": "6d65c90c",
   "metadata": {},
   "source": [
    "### Значения для ювенильной СКВ"
   ]
  },
  {
   "cell_type": "code",
   "execution_count": 78,
   "id": "49558293",
   "metadata": {},
   "outputs": [
    {
     "name": "stdout",
     "output_type": "stream",
     "text": [
      "Min: 2.153\n",
      "Max: 971.5\n",
      "Mean: 340.2502575757576\n",
      "std: 194.81542670764586\n",
      "variance: 37953.05048328214\n"
     ]
    }
   ],
   "source": [
    "min_class0_IL18 = np.min(IL18_class0)\n",
    "print(f\"Min: {min_class0_IL18}\")\n",
    "\n",
    "max_class0_IL18 = np.max(IL18_class0)\n",
    "print(f\"Max: {max_class0_IL18}\")\n",
    "\n",
    "mean_class0_IL18 = np.mean(IL18_class0)\n",
    "print(f\"Mean: {mean_class0_IL18}\")\n",
    "  \n",
    "std_class0_IL18 = np.std(IL18_class0)\n",
    "print(f\"std: {std_class0_IL18}\")\n",
    "  \n",
    "variance_class0_IL18 = np.var(IL18_class0)\n",
    "print(f\"variance: {variance_class0_IL18}\")"
   ]
  },
  {
   "cell_type": "markdown",
   "id": "a806385f",
   "metadata": {},
   "source": [
    "### Значения для взрослой СКВ"
   ]
  },
  {
   "cell_type": "code",
   "execution_count": 79,
   "id": "f755f0ef",
   "metadata": {},
   "outputs": [
    {
     "name": "stdout",
     "output_type": "stream",
     "text": [
      "Min: 68.6\n",
      "Max: 987.533\n",
      "Mean: 297.2923888888889\n",
      "std: 176.5663725599481\n",
      "variance: 31175.683918978393\n"
     ]
    }
   ],
   "source": [
    "min_class1_IL18 = np.min(IL18_class1)\n",
    "print(f\"Min: {min_class1_IL18}\")\n",
    "\n",
    "max_class1_IL18 = np.max(IL18_class1)\n",
    "print(f\"Max: {max_class1_IL18}\")\n",
    "\n",
    "mean_class1_IL18 = np.mean(IL18_class1)\n",
    "print(f\"Mean: {mean_class1_IL18}\")\n",
    "  \n",
    "std_class1_IL18 = np.std(IL18_class1)\n",
    "print(f\"std: {std_class1_IL18}\")\n",
    "  \n",
    "variance_class1_IL18 = np.var(IL18_class1)\n",
    "print(f\"variance: {variance_class1_IL18}\")"
   ]
  },
  {
   "cell_type": "code",
   "execution_count": 80,
   "id": "e222642b",
   "metadata": {},
   "outputs": [
    {
     "name": "stdout",
     "output_type": "stream",
     "text": [
      "t-statistic: 1.24\n",
      "p-value: 0.22\n",
      "Fail to reject H0: There is no significant difference between the groups.\n"
     ]
    }
   ],
   "source": [
    "# Perform independent samples t-test\n",
    "t_statistic, p_value = stats.ttest_ind(IL18_class0, IL18_class1)\n",
    "\n",
    "# Define significance level (alpha)\n",
    "alpha = 0.05\n",
    "\n",
    "# Print results\n",
    "print(f\"t-statistic: {round(t_statistic, 2)}\")\n",
    "print(f\"p-value: {round(p_value, 2)}\")\n",
    "\n",
    "# Compare p-value to significance level\n",
    "if p_value < alpha:\n",
    "    print(\"Reject H0: There is a significant difference between the groups.\")\n",
    "else:\n",
    "    print(\"Fail to reject H0: There is no significant difference between the groups.\")"
   ]
  },
  {
   "cell_type": "code",
   "execution_count": null,
   "id": "4fb165fb",
   "metadata": {},
   "outputs": [],
   "source": []
  }
 ],
 "metadata": {
  "kernelspec": {
   "display_name": "Python 3",
   "language": "python",
   "name": "python3"
  },
  "language_info": {
   "codemirror_mode": {
    "name": "ipython",
    "version": 3
   },
   "file_extension": ".py",
   "mimetype": "text/x-python",
   "name": "python",
   "nbconvert_exporter": "python",
   "pygments_lexer": "ipython3",
   "version": "3.8.8"
  }
 },
 "nbformat": 4,
 "nbformat_minor": 5
}
