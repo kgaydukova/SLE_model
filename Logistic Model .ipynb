{
 "cells": [
  {
   "cell_type": "code",
   "execution_count": 1,
   "id": "3a6de18a",
   "metadata": {},
   "outputs": [],
   "source": [
    "import pandas as pd"
   ]
  },
  {
   "cell_type": "code",
   "execution_count": 3,
   "id": "74ce112a",
   "metadata": {},
   "outputs": [
    {
     "data": {
      "text/html": [
       "<div>\n",
       "<style scoped>\n",
       "    .dataframe tbody tr th:only-of-type {\n",
       "        vertical-align: middle;\n",
       "    }\n",
       "\n",
       "    .dataframe tbody tr th {\n",
       "        vertical-align: top;\n",
       "    }\n",
       "\n",
       "    .dataframe thead th {\n",
       "        text-align: right;\n",
       "    }\n",
       "</style>\n",
       "<table border=\"1\" class=\"dataframe\">\n",
       "  <thead>\n",
       "    <tr style=\"text-align: right;\">\n",
       "      <th></th>\n",
       "      <th>Age</th>\n",
       "      <th>Age of SLE debut</th>\n",
       "      <th>Age at diagnosis</th>\n",
       "      <th>Disease duration</th>\n",
       "      <th>Height</th>\n",
       "      <th>Weight</th>\n",
       "      <th>BMI</th>\n",
       "      <th>PRE (in the debut of SLE)</th>\n",
       "      <th>PRE (currently)</th>\n",
       "      <th>CYC (total dose in grams)</th>\n",
       "      <th>...</th>\n",
       "      <th>Complement c3 (g/l)</th>\n",
       "      <th>Complement C4 (g/l)</th>\n",
       "      <th>ANF (in debut)</th>\n",
       "      <th>ANF (currently)</th>\n",
       "      <th>Anti-dsDNA (in debut)</th>\n",
       "      <th>Anti-dsDNA (currently)</th>\n",
       "      <th>CCI</th>\n",
       "      <th>CiRS (general)</th>\n",
       "      <th>CIRS (severity index)</th>\n",
       "      <th>Class</th>\n",
       "    </tr>\n",
       "  </thead>\n",
       "  <tbody>\n",
       "    <tr>\n",
       "      <th>0</th>\n",
       "      <td>46</td>\n",
       "      <td>9</td>\n",
       "      <td>32</td>\n",
       "      <td>14</td>\n",
       "      <td>152.0</td>\n",
       "      <td>62.0</td>\n",
       "      <td>26.8</td>\n",
       "      <td>15</td>\n",
       "      <td>10.0</td>\n",
       "      <td>12.0</td>\n",
       "      <td>...</td>\n",
       "      <td>2.01</td>\n",
       "      <td>0.30</td>\n",
       "      <td>10240</td>\n",
       "      <td>320</td>\n",
       "      <td>48.5</td>\n",
       "      <td>4.2</td>\n",
       "      <td>2</td>\n",
       "      <td>7</td>\n",
       "      <td>1.75</td>\n",
       "      <td>0</td>\n",
       "    </tr>\n",
       "    <tr>\n",
       "      <th>1</th>\n",
       "      <td>51</td>\n",
       "      <td>12</td>\n",
       "      <td>28</td>\n",
       "      <td>23</td>\n",
       "      <td>162.0</td>\n",
       "      <td>78.0</td>\n",
       "      <td>29.7</td>\n",
       "      <td>30</td>\n",
       "      <td>20.0</td>\n",
       "      <td>100.0</td>\n",
       "      <td>...</td>\n",
       "      <td>1.03</td>\n",
       "      <td>0.19</td>\n",
       "      <td>1280</td>\n",
       "      <td>1280</td>\n",
       "      <td>8.2</td>\n",
       "      <td>60.0</td>\n",
       "      <td>3</td>\n",
       "      <td>6</td>\n",
       "      <td>1.50</td>\n",
       "      <td>0</td>\n",
       "    </tr>\n",
       "    <tr>\n",
       "      <th>2</th>\n",
       "      <td>40</td>\n",
       "      <td>7</td>\n",
       "      <td>20</td>\n",
       "      <td>20</td>\n",
       "      <td>158.0</td>\n",
       "      <td>80.0</td>\n",
       "      <td>32.0</td>\n",
       "      <td>60</td>\n",
       "      <td>10.0</td>\n",
       "      <td>26.0</td>\n",
       "      <td>...</td>\n",
       "      <td>0.94</td>\n",
       "      <td>0.11</td>\n",
       "      <td>1280</td>\n",
       "      <td>320</td>\n",
       "      <td>150.7</td>\n",
       "      <td>130.0</td>\n",
       "      <td>4</td>\n",
       "      <td>7</td>\n",
       "      <td>1.17</td>\n",
       "      <td>0</td>\n",
       "    </tr>\n",
       "    <tr>\n",
       "      <th>3</th>\n",
       "      <td>36</td>\n",
       "      <td>15</td>\n",
       "      <td>16</td>\n",
       "      <td>20</td>\n",
       "      <td>159.0</td>\n",
       "      <td>58.0</td>\n",
       "      <td>22.9</td>\n",
       "      <td>20</td>\n",
       "      <td>5.0</td>\n",
       "      <td>0.0</td>\n",
       "      <td>...</td>\n",
       "      <td>0.57</td>\n",
       "      <td>0.04</td>\n",
       "      <td>2560</td>\n",
       "      <td>640</td>\n",
       "      <td>67.0</td>\n",
       "      <td>0.0</td>\n",
       "      <td>1</td>\n",
       "      <td>3</td>\n",
       "      <td>3.00</td>\n",
       "      <td>0</td>\n",
       "    </tr>\n",
       "    <tr>\n",
       "      <th>4</th>\n",
       "      <td>34</td>\n",
       "      <td>14</td>\n",
       "      <td>14</td>\n",
       "      <td>20</td>\n",
       "      <td>164.0</td>\n",
       "      <td>62.0</td>\n",
       "      <td>23.0</td>\n",
       "      <td>55</td>\n",
       "      <td>5.0</td>\n",
       "      <td>3.0</td>\n",
       "      <td>...</td>\n",
       "      <td>0.86</td>\n",
       "      <td>0.20</td>\n",
       "      <td>640</td>\n",
       "      <td>1280</td>\n",
       "      <td>44.0</td>\n",
       "      <td>10.4</td>\n",
       "      <td>1</td>\n",
       "      <td>5</td>\n",
       "      <td>2.50</td>\n",
       "      <td>0</td>\n",
       "    </tr>\n",
       "    <tr>\n",
       "      <th>...</th>\n",
       "      <td>...</td>\n",
       "      <td>...</td>\n",
       "      <td>...</td>\n",
       "      <td>...</td>\n",
       "      <td>...</td>\n",
       "      <td>...</td>\n",
       "      <td>...</td>\n",
       "      <td>...</td>\n",
       "      <td>...</td>\n",
       "      <td>...</td>\n",
       "      <td>...</td>\n",
       "      <td>...</td>\n",
       "      <td>...</td>\n",
       "      <td>...</td>\n",
       "      <td>...</td>\n",
       "      <td>...</td>\n",
       "      <td>...</td>\n",
       "      <td>...</td>\n",
       "      <td>...</td>\n",
       "      <td>...</td>\n",
       "      <td>...</td>\n",
       "    </tr>\n",
       "    <tr>\n",
       "      <th>124</th>\n",
       "      <td>41</td>\n",
       "      <td>39</td>\n",
       "      <td>40</td>\n",
       "      <td>1</td>\n",
       "      <td>180.0</td>\n",
       "      <td>73.0</td>\n",
       "      <td>22.5</td>\n",
       "      <td>15</td>\n",
       "      <td>10.0</td>\n",
       "      <td>0.0</td>\n",
       "      <td>...</td>\n",
       "      <td>0.81</td>\n",
       "      <td>0.14</td>\n",
       "      <td>1280</td>\n",
       "      <td>640</td>\n",
       "      <td>21.0</td>\n",
       "      <td>70.0</td>\n",
       "      <td>2</td>\n",
       "      <td>3</td>\n",
       "      <td>3.00</td>\n",
       "      <td>1</td>\n",
       "    </tr>\n",
       "    <tr>\n",
       "      <th>125</th>\n",
       "      <td>49</td>\n",
       "      <td>20</td>\n",
       "      <td>47</td>\n",
       "      <td>2</td>\n",
       "      <td>172.0</td>\n",
       "      <td>62.0</td>\n",
       "      <td>20.9</td>\n",
       "      <td>15</td>\n",
       "      <td>12.5</td>\n",
       "      <td>0.0</td>\n",
       "      <td>...</td>\n",
       "      <td>0.88</td>\n",
       "      <td>0.11</td>\n",
       "      <td>1280</td>\n",
       "      <td>160</td>\n",
       "      <td>12.0</td>\n",
       "      <td>189.0</td>\n",
       "      <td>2</td>\n",
       "      <td>7</td>\n",
       "      <td>2.33</td>\n",
       "      <td>1</td>\n",
       "    </tr>\n",
       "    <tr>\n",
       "      <th>126</th>\n",
       "      <td>38</td>\n",
       "      <td>29</td>\n",
       "      <td>34</td>\n",
       "      <td>4</td>\n",
       "      <td>172.0</td>\n",
       "      <td>148.0</td>\n",
       "      <td>50.0</td>\n",
       "      <td>50</td>\n",
       "      <td>15.0</td>\n",
       "      <td>1.0</td>\n",
       "      <td>...</td>\n",
       "      <td>0.98</td>\n",
       "      <td>0.12</td>\n",
       "      <td>320</td>\n",
       "      <td>0</td>\n",
       "      <td>32.0</td>\n",
       "      <td>12.0</td>\n",
       "      <td>1</td>\n",
       "      <td>4</td>\n",
       "      <td>2.00</td>\n",
       "      <td>1</td>\n",
       "    </tr>\n",
       "    <tr>\n",
       "      <th>127</th>\n",
       "      <td>35</td>\n",
       "      <td>34</td>\n",
       "      <td>34</td>\n",
       "      <td>1</td>\n",
       "      <td>164.0</td>\n",
       "      <td>65.0</td>\n",
       "      <td>24.1</td>\n",
       "      <td>60</td>\n",
       "      <td>30.0</td>\n",
       "      <td>0.0</td>\n",
       "      <td>...</td>\n",
       "      <td>1.11</td>\n",
       "      <td>0.16</td>\n",
       "      <td>1280</td>\n",
       "      <td>160</td>\n",
       "      <td>305.0</td>\n",
       "      <td>17.7</td>\n",
       "      <td>1</td>\n",
       "      <td>4</td>\n",
       "      <td>2.00</td>\n",
       "      <td>1</td>\n",
       "    </tr>\n",
       "    <tr>\n",
       "      <th>128</th>\n",
       "      <td>34</td>\n",
       "      <td>32</td>\n",
       "      <td>32</td>\n",
       "      <td>2</td>\n",
       "      <td>167.0</td>\n",
       "      <td>57.0</td>\n",
       "      <td>20.4</td>\n",
       "      <td>20</td>\n",
       "      <td>5.0</td>\n",
       "      <td>0.0</td>\n",
       "      <td>...</td>\n",
       "      <td>0.69</td>\n",
       "      <td>0.15</td>\n",
       "      <td>1280</td>\n",
       "      <td>320</td>\n",
       "      <td>81.0</td>\n",
       "      <td>105.0</td>\n",
       "      <td>1</td>\n",
       "      <td>3</td>\n",
       "      <td>3.00</td>\n",
       "      <td>1</td>\n",
       "    </tr>\n",
       "  </tbody>\n",
       "</table>\n",
       "<p>129 rows × 36 columns</p>\n",
       "</div>"
      ],
      "text/plain": [
       "     Age  Age of SLE debut  Age at diagnosis  Disease duration  Height  \\\n",
       "0     46                 9                32                14   152.0   \n",
       "1     51                12                28                23   162.0   \n",
       "2     40                 7                20                20   158.0   \n",
       "3     36                15                16                20   159.0   \n",
       "4     34                14                14                20   164.0   \n",
       "..   ...               ...               ...               ...     ...   \n",
       "124   41                39                40                 1   180.0   \n",
       "125   49                20                47                 2   172.0   \n",
       "126   38                29                34                 4   172.0   \n",
       "127   35                34                34                 1   164.0   \n",
       "128   34                32                32                 2   167.0   \n",
       "\n",
       "     Weight   BMI  PRE (in the debut of SLE)  PRE (currently)  \\\n",
       "0      62.0  26.8                         15             10.0   \n",
       "1      78.0  29.7                         30             20.0   \n",
       "2      80.0  32.0                         60             10.0   \n",
       "3      58.0  22.9                         20              5.0   \n",
       "4      62.0  23.0                         55              5.0   \n",
       "..      ...   ...                        ...              ...   \n",
       "124    73.0  22.5                         15             10.0   \n",
       "125    62.0  20.9                         15             12.5   \n",
       "126   148.0  50.0                         50             15.0   \n",
       "127    65.0  24.1                         60             30.0   \n",
       "128    57.0  20.4                         20              5.0   \n",
       "\n",
       "     CYC (total dose in grams)  ...  Complement c3 (g/l)  Complement C4 (g/l)  \\\n",
       "0                         12.0  ...                 2.01                 0.30   \n",
       "1                        100.0  ...                 1.03                 0.19   \n",
       "2                         26.0  ...                 0.94                 0.11   \n",
       "3                          0.0  ...                 0.57                 0.04   \n",
       "4                          3.0  ...                 0.86                 0.20   \n",
       "..                         ...  ...                  ...                  ...   \n",
       "124                        0.0  ...                 0.81                 0.14   \n",
       "125                        0.0  ...                 0.88                 0.11   \n",
       "126                        1.0  ...                 0.98                 0.12   \n",
       "127                        0.0  ...                 1.11                 0.16   \n",
       "128                        0.0  ...                 0.69                 0.15   \n",
       "\n",
       "     ANF (in debut)  ANF (currently)  Anti-dsDNA (in debut)  \\\n",
       "0             10240              320                   48.5   \n",
       "1              1280             1280                    8.2   \n",
       "2              1280              320                  150.7   \n",
       "3              2560              640                   67.0   \n",
       "4               640             1280                   44.0   \n",
       "..              ...              ...                    ...   \n",
       "124            1280              640                   21.0   \n",
       "125            1280              160                   12.0   \n",
       "126             320                0                   32.0   \n",
       "127            1280              160                  305.0   \n",
       "128            1280              320                   81.0   \n",
       "\n",
       "     Anti-dsDNA (currently)  CCI  CiRS (general)  CIRS (severity index)  Class  \n",
       "0                       4.2    2               7                   1.75      0  \n",
       "1                      60.0    3               6                   1.50      0  \n",
       "2                     130.0    4               7                   1.17      0  \n",
       "3                       0.0    1               3                   3.00      0  \n",
       "4                      10.4    1               5                   2.50      0  \n",
       "..                      ...  ...             ...                    ...    ...  \n",
       "124                    70.0    2               3                   3.00      1  \n",
       "125                   189.0    2               7                   2.33      1  \n",
       "126                    12.0    1               4                   2.00      1  \n",
       "127                    17.7    1               4                   2.00      1  \n",
       "128                   105.0    1               3                   3.00      1  \n",
       "\n",
       "[129 rows x 36 columns]"
      ]
     },
     "execution_count": 3,
     "metadata": {},
     "output_type": "execute_result"
    }
   ],
   "source": [
    "# Load data\n",
    "df = pd.read_csv('sle_many_values.csv', sep = ';')\n",
    "df"
   ]
  },
  {
   "cell_type": "code",
   "execution_count": 12,
   "id": "e2805ffe",
   "metadata": {},
   "outputs": [
    {
     "name": "stdout",
     "output_type": "stream",
     "text": [
      "Age at diagnosis \n",
      "\n",
      "count    129.000000\n",
      "mean      27.310078\n",
      "std        9.610215\n",
      "min        7.000000\n",
      "25%       19.000000\n",
      "50%       27.000000\n",
      "75%       34.000000\n",
      "max       47.000000\n",
      "Name: Age at diagnosis, dtype: float64\n",
      "\n",
      "\n",
      "SLEDAI-2K \n",
      "\n",
      "count    129.000000\n",
      "mean       5.147287\n",
      "std        4.006052\n",
      "min        0.000000\n",
      "25%        2.000000\n",
      "50%        4.000000\n",
      "75%        7.000000\n",
      "max       17.000000\n",
      "Name: SLEDAI-2K, dtype: float64\n",
      "\n",
      "\n",
      "Anti-dsDNA (currently) \n",
      "\n",
      "count    129.000000\n",
      "mean      93.716279\n",
      "std       87.342240\n",
      "min        0.000000\n",
      "25%       12.200000\n",
      "50%       59.000000\n",
      "75%      200.000000\n",
      "max      400.000000\n",
      "Name: Anti-dsDNA (currently), dtype: float64\n",
      "\n",
      "\n",
      "ANF (currently) \n",
      "\n",
      "count       129.000000\n",
      "mean       7321.550388\n",
      "std       20862.068691\n",
      "min           0.000000\n",
      "25%         160.000000\n",
      "50%         640.000000\n",
      "75%        2560.000000\n",
      "max      163840.000000\n",
      "Name: ANF (currently), dtype: float64\n",
      "\n",
      "\n",
      "PRE (currently) \n",
      "\n",
      "count    129.000000\n",
      "mean      13.139535\n",
      "std       10.651525\n",
      "min        0.000000\n",
      "25%        7.500000\n",
      "50%       10.000000\n",
      "75%       20.000000\n",
      "max       60.000000\n",
      "Name: PRE (currently), dtype: float64\n",
      "\n",
      "\n"
     ]
    }
   ],
   "source": [
    "for column in df.columns:\n",
    "    print (column, '\\n')\n",
    "    print (df[column].describe())\n",
    "    print ('\\n')"
   ]
  },
  {
   "cell_type": "code",
   "execution_count": null,
   "id": "6b7169e2",
   "metadata": {},
   "outputs": [],
   "source": []
  },
  {
   "cell_type": "code",
   "execution_count": 6,
   "id": "fac471ad",
   "metadata": {},
   "outputs": [],
   "source": [
    "columns_for_new_df = ['Age at diagnosis', 'SLEDAI-2K', 'Anti-dsDNA (currently)', 'ANF (currently)', 'PRE (currently)']"
   ]
  },
  {
   "cell_type": "code",
   "execution_count": 7,
   "id": "0955106f",
   "metadata": {},
   "outputs": [],
   "source": [
    "df = df[columns_for_new_df]"
   ]
  },
  {
   "cell_type": "code",
   "execution_count": 8,
   "id": "b2d7f874",
   "metadata": {},
   "outputs": [
    {
     "data": {
      "text/html": [
       "<div>\n",
       "<style scoped>\n",
       "    .dataframe tbody tr th:only-of-type {\n",
       "        vertical-align: middle;\n",
       "    }\n",
       "\n",
       "    .dataframe tbody tr th {\n",
       "        vertical-align: top;\n",
       "    }\n",
       "\n",
       "    .dataframe thead th {\n",
       "        text-align: right;\n",
       "    }\n",
       "</style>\n",
       "<table border=\"1\" class=\"dataframe\">\n",
       "  <thead>\n",
       "    <tr style=\"text-align: right;\">\n",
       "      <th></th>\n",
       "      <th>Age at diagnosis</th>\n",
       "      <th>SLEDAI-2K</th>\n",
       "      <th>Anti-dsDNA (currently)</th>\n",
       "      <th>ANF (currently)</th>\n",
       "      <th>PRE (currently)</th>\n",
       "    </tr>\n",
       "  </thead>\n",
       "  <tbody>\n",
       "    <tr>\n",
       "      <th>0</th>\n",
       "      <td>32</td>\n",
       "      <td>0</td>\n",
       "      <td>4.2</td>\n",
       "      <td>320</td>\n",
       "      <td>10.0</td>\n",
       "    </tr>\n",
       "    <tr>\n",
       "      <th>1</th>\n",
       "      <td>28</td>\n",
       "      <td>6</td>\n",
       "      <td>60.0</td>\n",
       "      <td>1280</td>\n",
       "      <td>20.0</td>\n",
       "    </tr>\n",
       "    <tr>\n",
       "      <th>2</th>\n",
       "      <td>20</td>\n",
       "      <td>10</td>\n",
       "      <td>130.0</td>\n",
       "      <td>320</td>\n",
       "      <td>10.0</td>\n",
       "    </tr>\n",
       "    <tr>\n",
       "      <th>3</th>\n",
       "      <td>16</td>\n",
       "      <td>2</td>\n",
       "      <td>0.0</td>\n",
       "      <td>640</td>\n",
       "      <td>5.0</td>\n",
       "    </tr>\n",
       "    <tr>\n",
       "      <th>4</th>\n",
       "      <td>14</td>\n",
       "      <td>2</td>\n",
       "      <td>10.4</td>\n",
       "      <td>1280</td>\n",
       "      <td>5.0</td>\n",
       "    </tr>\n",
       "    <tr>\n",
       "      <th>...</th>\n",
       "      <td>...</td>\n",
       "      <td>...</td>\n",
       "      <td>...</td>\n",
       "      <td>...</td>\n",
       "      <td>...</td>\n",
       "    </tr>\n",
       "    <tr>\n",
       "      <th>124</th>\n",
       "      <td>40</td>\n",
       "      <td>7</td>\n",
       "      <td>70.0</td>\n",
       "      <td>640</td>\n",
       "      <td>10.0</td>\n",
       "    </tr>\n",
       "    <tr>\n",
       "      <th>125</th>\n",
       "      <td>47</td>\n",
       "      <td>4</td>\n",
       "      <td>189.0</td>\n",
       "      <td>160</td>\n",
       "      <td>12.5</td>\n",
       "    </tr>\n",
       "    <tr>\n",
       "      <th>126</th>\n",
       "      <td>34</td>\n",
       "      <td>2</td>\n",
       "      <td>12.0</td>\n",
       "      <td>0</td>\n",
       "      <td>15.0</td>\n",
       "    </tr>\n",
       "    <tr>\n",
       "      <th>127</th>\n",
       "      <td>34</td>\n",
       "      <td>12</td>\n",
       "      <td>17.7</td>\n",
       "      <td>160</td>\n",
       "      <td>30.0</td>\n",
       "    </tr>\n",
       "    <tr>\n",
       "      <th>128</th>\n",
       "      <td>32</td>\n",
       "      <td>4</td>\n",
       "      <td>105.0</td>\n",
       "      <td>320</td>\n",
       "      <td>5.0</td>\n",
       "    </tr>\n",
       "  </tbody>\n",
       "</table>\n",
       "<p>129 rows × 5 columns</p>\n",
       "</div>"
      ],
      "text/plain": [
       "     Age at diagnosis  SLEDAI-2K  Anti-dsDNA (currently)  ANF (currently)  \\\n",
       "0                  32          0                     4.2              320   \n",
       "1                  28          6                    60.0             1280   \n",
       "2                  20         10                   130.0              320   \n",
       "3                  16          2                     0.0              640   \n",
       "4                  14          2                    10.4             1280   \n",
       "..                ...        ...                     ...              ...   \n",
       "124                40          7                    70.0              640   \n",
       "125                47          4                   189.0              160   \n",
       "126                34          2                    12.0                0   \n",
       "127                34         12                    17.7              160   \n",
       "128                32          4                   105.0              320   \n",
       "\n",
       "     PRE (currently)  \n",
       "0               10.0  \n",
       "1               20.0  \n",
       "2               10.0  \n",
       "3                5.0  \n",
       "4                5.0  \n",
       "..               ...  \n",
       "124             10.0  \n",
       "125             12.5  \n",
       "126             15.0  \n",
       "127             30.0  \n",
       "128              5.0  \n",
       "\n",
       "[129 rows x 5 columns]"
      ]
     },
     "execution_count": 8,
     "metadata": {},
     "output_type": "execute_result"
    }
   ],
   "source": [
    "df"
   ]
  },
  {
   "cell_type": "code",
   "execution_count": 463,
   "id": "2f9accc3",
   "metadata": {},
   "outputs": [
    {
     "data": {
      "text/plain": [
       "count       129.000000\n",
       "mean       7321.550388\n",
       "std       20862.068691\n",
       "min           0.000000\n",
       "25%         160.000000\n",
       "50%         640.000000\n",
       "75%        2560.000000\n",
       "max      163840.000000\n",
       "Name: ANF (currently), dtype: float64"
      ]
     },
     "execution_count": 463,
     "metadata": {},
     "output_type": "execute_result"
    }
   ],
   "source": [
    "df['ANF (currently)'].describe()"
   ]
  },
  {
   "cell_type": "code",
   "execution_count": 405,
   "id": "a2982743",
   "metadata": {},
   "outputs": [
    {
     "name": "stderr",
     "output_type": "stream",
     "text": [
      "<ipython-input-405-70f665a74973>:1: SettingWithCopyWarning: \n",
      "A value is trying to be set on a copy of a slice from a DataFrame.\n",
      "Try using .loc[row_indexer,col_indexer] = value instead\n",
      "\n",
      "See the caveats in the documentation: https://pandas.pydata.org/pandas-docs/stable/user_guide/indexing.html#returning-a-view-versus-a-copy\n",
      "  df['ANF (currently)'] = df['ANF (currently)'] / 160\n"
     ]
    }
   ],
   "source": [
    "df['ANF (currently)'] = df['ANF (currently)'] / 160"
   ]
  },
  {
   "cell_type": "code",
   "execution_count": 343,
   "id": "b85a474c",
   "metadata": {},
   "outputs": [
    {
     "data": {
      "text/plain": [
       "Age at diagnosis    20\n",
       "SLEDAI-2K           20\n",
       "ANF (currently)     20\n",
       "PRE (currently)     20\n",
       "dtype: int64"
      ]
     },
     "execution_count": 343,
     "metadata": {},
     "output_type": "execute_result"
    }
   ],
   "source": [
    "df.loc[df['ANF (currently)'] >35].count()"
   ]
  },
  {
   "cell_type": "code",
   "execution_count": 344,
   "id": "0850d19b",
   "metadata": {},
   "outputs": [
    {
     "name": "stderr",
     "output_type": "stream",
     "text": [
      "/opt/anaconda3/lib/python3.8/site-packages/pandas/core/indexing.py:1720: SettingWithCopyWarning: \n",
      "A value is trying to be set on a copy of a slice from a DataFrame.\n",
      "Try using .loc[row_indexer,col_indexer] = value instead\n",
      "\n",
      "See the caveats in the documentation: https://pandas.pydata.org/pandas-docs/stable/user_guide/indexing.html#returning-a-view-versus-a-copy\n",
      "  self._setitem_single_column(loc, value, pi)\n"
     ]
    }
   ],
   "source": [
    "df.loc[df['ANF (currently)'] > 35, 'ANF (currently)'] = 35"
   ]
  },
  {
   "cell_type": "code",
   "execution_count": 13,
   "id": "027a6827",
   "metadata": {},
   "outputs": [
    {
     "name": "stderr",
     "output_type": "stream",
     "text": [
      "/opt/anaconda3/lib/python3.8/site-packages/pandas/core/indexing.py:1597: SettingWithCopyWarning: \n",
      "A value is trying to be set on a copy of a slice from a DataFrame.\n",
      "Try using .loc[row_indexer,col_indexer] = value instead\n",
      "\n",
      "See the caveats in the documentation: https://pandas.pydata.org/pandas-docs/stable/user_guide/indexing.html#returning-a-view-versus-a-copy\n",
      "  self.obj[key] = value\n",
      "/opt/anaconda3/lib/python3.8/site-packages/pandas/core/indexing.py:1676: SettingWithCopyWarning: \n",
      "A value is trying to be set on a copy of a slice from a DataFrame.\n",
      "Try using .loc[row_indexer,col_indexer] = value instead\n",
      "\n",
      "See the caveats in the documentation: https://pandas.pydata.org/pandas-docs/stable/user_guide/indexing.html#returning-a-view-versus-a-copy\n",
      "  self._setitem_single_column(ilocs[0], value, pi)\n"
     ]
    }
   ],
   "source": [
    "df.loc[:, 'Class'] = df['PRE (currently)'].apply(lambda x: 0 if x <= 7.5 else 1)"
   ]
  },
  {
   "cell_type": "code",
   "execution_count": 14,
   "id": "08159e95",
   "metadata": {},
   "outputs": [],
   "source": [
    "df.loc[:, 'ANF (currently)'] = df['ANF (currently)'].apply(lambda x: 0 if x <= 640 else 1)"
   ]
  },
  {
   "cell_type": "code",
   "execution_count": 15,
   "id": "38aa053d",
   "metadata": {},
   "outputs": [],
   "source": [
    "df = df.drop(columns = 'PRE (currently)')"
   ]
  },
  {
   "cell_type": "code",
   "execution_count": 16,
   "id": "82332246",
   "metadata": {},
   "outputs": [
    {
     "data": {
      "text/html": [
       "<div>\n",
       "<style scoped>\n",
       "    .dataframe tbody tr th:only-of-type {\n",
       "        vertical-align: middle;\n",
       "    }\n",
       "\n",
       "    .dataframe tbody tr th {\n",
       "        vertical-align: top;\n",
       "    }\n",
       "\n",
       "    .dataframe thead th {\n",
       "        text-align: right;\n",
       "    }\n",
       "</style>\n",
       "<table border=\"1\" class=\"dataframe\">\n",
       "  <thead>\n",
       "    <tr style=\"text-align: right;\">\n",
       "      <th></th>\n",
       "      <th>Age at diagnosis</th>\n",
       "      <th>SLEDAI-2K</th>\n",
       "      <th>Anti-dsDNA (currently)</th>\n",
       "      <th>ANF (currently)</th>\n",
       "    </tr>\n",
       "  </thead>\n",
       "  <tbody>\n",
       "    <tr>\n",
       "      <th>0</th>\n",
       "      <td>32</td>\n",
       "      <td>0</td>\n",
       "      <td>4.2</td>\n",
       "      <td>0</td>\n",
       "    </tr>\n",
       "    <tr>\n",
       "      <th>1</th>\n",
       "      <td>28</td>\n",
       "      <td>6</td>\n",
       "      <td>60.0</td>\n",
       "      <td>1</td>\n",
       "    </tr>\n",
       "    <tr>\n",
       "      <th>2</th>\n",
       "      <td>20</td>\n",
       "      <td>10</td>\n",
       "      <td>130.0</td>\n",
       "      <td>0</td>\n",
       "    </tr>\n",
       "    <tr>\n",
       "      <th>3</th>\n",
       "      <td>16</td>\n",
       "      <td>2</td>\n",
       "      <td>0.0</td>\n",
       "      <td>0</td>\n",
       "    </tr>\n",
       "    <tr>\n",
       "      <th>4</th>\n",
       "      <td>14</td>\n",
       "      <td>2</td>\n",
       "      <td>10.4</td>\n",
       "      <td>1</td>\n",
       "    </tr>\n",
       "    <tr>\n",
       "      <th>...</th>\n",
       "      <td>...</td>\n",
       "      <td>...</td>\n",
       "      <td>...</td>\n",
       "      <td>...</td>\n",
       "    </tr>\n",
       "    <tr>\n",
       "      <th>124</th>\n",
       "      <td>40</td>\n",
       "      <td>7</td>\n",
       "      <td>70.0</td>\n",
       "      <td>0</td>\n",
       "    </tr>\n",
       "    <tr>\n",
       "      <th>125</th>\n",
       "      <td>47</td>\n",
       "      <td>4</td>\n",
       "      <td>189.0</td>\n",
       "      <td>0</td>\n",
       "    </tr>\n",
       "    <tr>\n",
       "      <th>126</th>\n",
       "      <td>34</td>\n",
       "      <td>2</td>\n",
       "      <td>12.0</td>\n",
       "      <td>0</td>\n",
       "    </tr>\n",
       "    <tr>\n",
       "      <th>127</th>\n",
       "      <td>34</td>\n",
       "      <td>12</td>\n",
       "      <td>17.7</td>\n",
       "      <td>0</td>\n",
       "    </tr>\n",
       "    <tr>\n",
       "      <th>128</th>\n",
       "      <td>32</td>\n",
       "      <td>4</td>\n",
       "      <td>105.0</td>\n",
       "      <td>0</td>\n",
       "    </tr>\n",
       "  </tbody>\n",
       "</table>\n",
       "<p>129 rows × 4 columns</p>\n",
       "</div>"
      ],
      "text/plain": [
       "     Age at diagnosis  SLEDAI-2K  Anti-dsDNA (currently)  ANF (currently)\n",
       "0                  32          0                     4.2                0\n",
       "1                  28          6                    60.0                1\n",
       "2                  20         10                   130.0                0\n",
       "3                  16          2                     0.0                0\n",
       "4                  14          2                    10.4                1\n",
       "..                ...        ...                     ...              ...\n",
       "124                40          7                    70.0                0\n",
       "125                47          4                   189.0                0\n",
       "126                34          2                    12.0                0\n",
       "127                34         12                    17.7                0\n",
       "128                32          4                   105.0                0\n",
       "\n",
       "[129 rows x 4 columns]"
      ]
     },
     "execution_count": 16,
     "metadata": {},
     "output_type": "execute_result"
    }
   ],
   "source": [
    "X = df.drop(columns = 'Class')\n",
    "X"
   ]
  },
  {
   "cell_type": "code",
   "execution_count": 468,
   "id": "255078c5",
   "metadata": {},
   "outputs": [
    {
     "data": {
      "text/plain": [
       "Age at diagnosis    61\n",
       "SLEDAI-2K           61\n",
       "Er (in debut)       61\n",
       "ANF (currently)     61\n",
       "Class               61\n",
       "dtype: int64"
      ]
     },
     "execution_count": 468,
     "metadata": {},
     "output_type": "execute_result"
    }
   ],
   "source": [
    "df.loc[df['ANF (currently)'] == 1].count()"
   ]
  },
  {
   "cell_type": "code",
   "execution_count": 17,
   "id": "b90155f0",
   "metadata": {},
   "outputs": [
    {
     "data": {
      "text/plain": [
       "0      1\n",
       "1      1\n",
       "2      1\n",
       "3      0\n",
       "4      0\n",
       "      ..\n",
       "124    1\n",
       "125    1\n",
       "126    1\n",
       "127    1\n",
       "128    0\n",
       "Name: Class, Length: 129, dtype: int64"
      ]
     },
     "execution_count": 17,
     "metadata": {},
     "output_type": "execute_result"
    }
   ],
   "source": [
    "y = df['Class']\n",
    "y"
   ]
  },
  {
   "cell_type": "code",
   "execution_count": 18,
   "id": "de6b88e3",
   "metadata": {},
   "outputs": [
    {
     "data": {
      "text/plain": [
       "1    84\n",
       "0    45\n",
       "Name: Class, dtype: int64"
      ]
     },
     "execution_count": 18,
     "metadata": {},
     "output_type": "execute_result"
    }
   ],
   "source": [
    "y.value_counts()"
   ]
  },
  {
   "cell_type": "code",
   "execution_count": 19,
   "id": "f8698a4e",
   "metadata": {},
   "outputs": [],
   "source": [
    "from sklearn.model_selection import train_test_split"
   ]
  },
  {
   "cell_type": "code",
   "execution_count": 482,
   "id": "73ef3d0b",
   "metadata": {},
   "outputs": [],
   "source": [
    "X_train, X_test, y_train, y_test = train_test_split(X, y, test_size = 0.35, random_state = 21)"
   ]
  },
  {
   "cell_type": "code",
   "execution_count": 483,
   "id": "199889b6",
   "metadata": {},
   "outputs": [
    {
     "name": "stdout",
     "output_type": "stream",
     "text": [
      "<class 'pandas.core.frame.DataFrame'>\n",
      "Int64Index: 46 entries, 19 to 34\n",
      "Data columns (total 4 columns):\n",
      " #   Column            Non-Null Count  Dtype  \n",
      "---  ------            --------------  -----  \n",
      " 0   Age at diagnosis  46 non-null     int64  \n",
      " 1   SLEDAI-2K         46 non-null     int64  \n",
      " 2   Er (in debut)     46 non-null     float64\n",
      " 3   ANF (currently)   46 non-null     int64  \n",
      "dtypes: float64(1), int64(3)\n",
      "memory usage: 1.8 KB\n"
     ]
    }
   ],
   "source": [
    "X_test.info()"
   ]
  },
  {
   "cell_type": "code",
   "execution_count": 29,
   "id": "16a458ff",
   "metadata": {},
   "outputs": [],
   "source": [
    "from sklearn.preprocessing import StandardScaler"
   ]
  },
  {
   "cell_type": "code",
   "execution_count": 484,
   "id": "a941380e",
   "metadata": {},
   "outputs": [],
   "source": [
    "scaler = StandardScaler()"
   ]
  },
  {
   "cell_type": "code",
   "execution_count": 485,
   "id": "de4352ed",
   "metadata": {},
   "outputs": [],
   "source": [
    "X_train_scaled = scaler.fit_transform(X_train)"
   ]
  },
  {
   "cell_type": "code",
   "execution_count": 486,
   "id": "d296409e",
   "metadata": {},
   "outputs": [],
   "source": [
    "X_test_scaled = scaler.transform(X_test)"
   ]
  },
  {
   "cell_type": "code",
   "execution_count": 30,
   "id": "59d3f560",
   "metadata": {},
   "outputs": [],
   "source": [
    "from sklearn.linear_model import LogisticRegression"
   ]
  },
  {
   "cell_type": "code",
   "execution_count": 487,
   "id": "b053143c",
   "metadata": {},
   "outputs": [],
   "source": [
    "log_reg = LogisticRegression(random_state = 0).fit(X_train_scaled, y_train)"
   ]
  },
  {
   "cell_type": "code",
   "execution_count": 488,
   "id": "2ab54899",
   "metadata": {},
   "outputs": [
    {
     "data": {
      "text/plain": [
       "array([1, 1, 1, 1, 1, 1, 1, 1, 0, 1, 1, 1, 1, 0, 1, 1, 0, 0, 1, 0, 1, 1,\n",
       "       1, 1, 1, 1, 1, 1, 1, 1, 1, 1, 1, 0, 0, 0, 1, 0, 1, 0, 1, 1, 1, 1,\n",
       "       1, 1, 1, 1, 1, 0, 1, 1, 1, 0, 1, 1, 1, 0, 1, 1, 1, 0, 1, 1, 1, 1,\n",
       "       1, 0, 1, 1, 1, 1, 0, 1, 1, 1, 1, 0, 1, 1, 0, 0, 0])"
      ]
     },
     "execution_count": 488,
     "metadata": {},
     "output_type": "execute_result"
    }
   ],
   "source": [
    "log_reg.predict(X_train_scaled)"
   ]
  },
  {
   "cell_type": "code",
   "execution_count": 489,
   "id": "252fe679",
   "metadata": {},
   "outputs": [
    {
     "data": {
      "text/plain": [
       "0.7710843373493976"
      ]
     },
     "execution_count": 489,
     "metadata": {},
     "output_type": "execute_result"
    }
   ],
   "source": [
    "log_reg.score(X_train_scaled, y_train)"
   ]
  },
  {
   "cell_type": "code",
   "execution_count": 490,
   "id": "e664c6f9",
   "metadata": {},
   "outputs": [
    {
     "data": {
      "text/plain": [
       "0.8043478260869565"
      ]
     },
     "execution_count": 490,
     "metadata": {},
     "output_type": "execute_result"
    }
   ],
   "source": [
    "log_reg.score(X_test_scaled, y_test)"
   ]
  },
  {
   "cell_type": "code",
   "execution_count": 505,
   "id": "87caa77c",
   "metadata": {},
   "outputs": [
    {
     "name": "stdout",
     "output_type": "stream",
     "text": [
      "Precision: 0.8\n"
     ]
    }
   ],
   "source": [
    "from sklearn.metrics import precision_score\n",
    "\n",
    "# Make predictions on the test set\n",
    "y_pred = log_reg.predict(X_test_scaled)\n",
    "\n",
    "# Calculate precision\n",
    "precision = precision_score(y_test, y_pred)\n",
    "\n",
    "# Print the precision\n",
    "print(\"Precision:\", precision)"
   ]
  },
  {
   "cell_type": "code",
   "execution_count": 516,
   "id": "b6aba09c",
   "metadata": {},
   "outputs": [
    {
     "name": "stdout",
     "output_type": "stream",
     "text": [
      "Recall: 0.9333333333333333\n"
     ]
    }
   ],
   "source": [
    "from sklearn.metrics import recall_score\n",
    "\n",
    "# Assuming log_reg is your trained LogisticRegression model\n",
    "# Assuming X_test and y_test are your test data\n",
    "\n",
    "# Make predictions on the test set\n",
    "y_pred = log_reg.predict(X_test_scaled)\n",
    "\n",
    "# Calculate recall\n",
    "recall = recall_score(y_test, y_pred)\n",
    "\n",
    "# Print the recall\n",
    "print(\"Recall:\", recall)"
   ]
  },
  {
   "cell_type": "code",
   "execution_count": 517,
   "id": "373d9658",
   "metadata": {},
   "outputs": [
    {
     "name": "stdout",
     "output_type": "stream",
     "text": [
      "F1-score: 0.8615384615384616\n"
     ]
    }
   ],
   "source": [
    "from sklearn.metrics import f1_score\n",
    "\n",
    "# Assuming log_reg is your trained LogisticRegression model\n",
    "# Assuming X_test and y_test are your test data\n",
    "\n",
    "# Make predictions on the test set\n",
    "y_pred = log_reg.predict(X_test_scaled)\n",
    "\n",
    "# Calculate F1-score\n",
    "f1 = f1_score(y_test, y_pred)\n",
    "\n",
    "# Print the F1-score\n",
    "print(\"F1-score:\", f1)"
   ]
  },
  {
   "cell_type": "code",
   "execution_count": 518,
   "id": "ef649972",
   "metadata": {},
   "outputs": [
    {
     "name": "stdout",
     "output_type": "stream",
     "text": [
      "AUC-ROC: 0.8145833333333333\n"
     ]
    }
   ],
   "source": [
    "from sklearn.metrics import roc_auc_score\n",
    "\n",
    "# Assuming log_reg is your trained LogisticRegression model\n",
    "# Assuming X_test and y_test are your test data\n",
    "\n",
    "# Make predictions on the test set probabilities\n",
    "y_pred_prob = log_reg.predict_proba(X_test_scaled)[:, 1]\n",
    "\n",
    "# Calculate AUC-ROC\n",
    "auc_roc = roc_auc_score(y_test, y_pred_prob)\n",
    "\n",
    "# Print the AUC-ROC score\n",
    "print(\"AUC-ROC:\", auc_roc)"
   ]
  },
  {
   "cell_type": "code",
   "execution_count": 519,
   "id": "dea5f336",
   "metadata": {},
   "outputs": [
    {
     "name": "stdout",
     "output_type": "stream",
     "text": [
      "Log Loss: 0.48589060090623426\n"
     ]
    }
   ],
   "source": [
    "from sklearn.metrics import log_loss\n",
    "\n",
    "# Assuming log_reg is your trained LogisticRegression model\n",
    "# Assuming X_test and y_test are your test data\n",
    "\n",
    "# Make predictions on the test set probabilities\n",
    "y_pred_prob = log_reg.predict_proba(X_test_scaled)\n",
    "\n",
    "# Calculate log loss\n",
    "logloss = log_loss(y_test, y_pred_prob)\n",
    "\n",
    "# Print the log loss\n",
    "print(\"Log Loss:\", logloss)"
   ]
  },
  {
   "cell_type": "code",
   "execution_count": 520,
   "id": "d5c410ce",
   "metadata": {},
   "outputs": [
    {
     "name": "stdout",
     "output_type": "stream",
     "text": [
      "Specificity: 0.5625\n"
     ]
    }
   ],
   "source": [
    "from sklearn.metrics import confusion_matrix\n",
    "\n",
    "# Assuming log_reg is your trained LogisticRegression model\n",
    "# Assuming X_test and y_test are your test data\n",
    "\n",
    "# Make predictions on the test set\n",
    "y_pred = log_reg.predict(X_test_scaled)\n",
    "\n",
    "# Create a confusion matrix\n",
    "tn, fp, fn, tp = confusion_matrix(y_test, y_pred).ravel()\n",
    "\n",
    "# Calculate specificity\n",
    "specificity = tn / (tn + fp)\n",
    "\n",
    "# Print the specificity\n",
    "print(\"Specificity:\", specificity)"
   ]
  },
  {
   "cell_type": "code",
   "execution_count": 521,
   "id": "e6f7ffbe",
   "metadata": {},
   "outputs": [
    {
     "name": "stdout",
     "output_type": "stream",
     "text": [
      "Confusion Matrix:\n",
      "[[ 9  7]\n",
      " [ 2 28]]\n"
     ]
    }
   ],
   "source": [
    "# Create a confusion matrix\n",
    "conf_matrix = confusion_matrix(y_test, y_pred)\n",
    "\n",
    "# Print the confusion matrix\n",
    "print(\"Confusion Matrix:\")\n",
    "print(conf_matrix)"
   ]
  },
  {
   "cell_type": "code",
   "execution_count": 522,
   "id": "25806da1",
   "metadata": {},
   "outputs": [
    {
     "name": "stdout",
     "output_type": "stream",
     "text": [
      "9 7 2 28\n"
     ]
    }
   ],
   "source": [
    "tn, fp, fn, tp = conf_matrix.ravel()\n",
    "print (tn, fp, fn, tp)"
   ]
  },
  {
   "cell_type": "code",
   "execution_count": 513,
   "id": "3c66eeee",
   "metadata": {},
   "outputs": [],
   "source": [
    "log_reg1 = LogisticRegression(random_state = 0,\n",
    "                              C = 0.9,\n",
    "                              fit_intercept = True,\n",
    "                             ).fit(X_train_scaled, y_train)"
   ]
  },
  {
   "cell_type": "code",
   "execution_count": 514,
   "id": "d18ba9b3",
   "metadata": {},
   "outputs": [
    {
     "data": {
      "text/plain": [
       "0.7710843373493976"
      ]
     },
     "execution_count": 514,
     "metadata": {},
     "output_type": "execute_result"
    }
   ],
   "source": [
    "log_reg1.score(X_train_scaled, y_train)"
   ]
  },
  {
   "cell_type": "code",
   "execution_count": 515,
   "id": "184e5e4a",
   "metadata": {},
   "outputs": [
    {
     "data": {
      "text/plain": [
       "0.8043478260869565"
      ]
     },
     "execution_count": 515,
     "metadata": {},
     "output_type": "execute_result"
    }
   ],
   "source": [
    "log_reg1.score(X_test_scaled, y_test)"
   ]
  },
  {
   "cell_type": "code",
   "execution_count": 494,
   "id": "ffe62d90",
   "metadata": {},
   "outputs": [
    {
     "name": "stdout",
     "output_type": "stream",
     "text": [
      "Coefficients: [[ 0.63333382  1.17920952 -0.40638572  0.26400549]]\n",
      "Intercepts: [0.92755501]\n"
     ]
    }
   ],
   "source": [
    "# Retrieve parameters\n",
    "coefficients = log_reg.coef_\n",
    "intercepts = log_reg.intercept_\n",
    "\n",
    "# Print the parameters\n",
    "print(\"Coefficients:\", coefficients)\n",
    "print(\"Intercepts:\", intercepts)"
   ]
  },
  {
   "cell_type": "markdown",
   "id": "2d4cbe40",
   "metadata": {},
   "source": [
    "# Undersample for class 1"
   ]
  },
  {
   "cell_type": "code",
   "execution_count": 46,
   "id": "897b3122",
   "metadata": {},
   "outputs": [
    {
     "name": "stdout",
     "output_type": "stream",
     "text": [
      "1    84\n",
      "0    64\n",
      "Name: Class, dtype: int64\n"
     ]
    }
   ],
   "source": [
    "from sklearn.utils import resample\n",
    "\n",
    "# Assuming df is your DataFrame with binary classes\n",
    "\n",
    "# Separate the majority class and minority class\n",
    "majority_class = df[df['Class'] == 1]\n",
    "minority_class = df[df['Class'] == 0]\n",
    "\n",
    "# Oversample the minority class\n",
    "oversampled_minority = resample(minority_class,\n",
    "                                replace=True,  # With replacement\n",
    "                                n_samples=len(majority_class) - 20,  # Match majority class size\n",
    "                                random_state=42)  # Set random state for reproducibility\n",
    "\n",
    "# Combine the oversampled minority class and the majority class\n",
    "oversampled_df = pd.concat([oversampled_minority, majority_class])\n",
    "\n",
    "# Print the count of each class in the oversampled DataFrame\n",
    "print(oversampled_df['Class'].value_counts())"
   ]
  },
  {
   "cell_type": "code",
   "execution_count": 47,
   "id": "5633dec2",
   "metadata": {},
   "outputs": [],
   "source": [
    "df1 = oversampled_df"
   ]
  },
  {
   "cell_type": "code",
   "execution_count": 68,
   "id": "36ca2d36",
   "metadata": {},
   "outputs": [],
   "source": [
    "X = df1.drop(columns = 'Class')"
   ]
  },
  {
   "cell_type": "code",
   "execution_count": 69,
   "id": "3ce9ec7f",
   "metadata": {},
   "outputs": [],
   "source": [
    "y = df1['Class']"
   ]
  },
  {
   "cell_type": "code",
   "execution_count": 50,
   "id": "39c4b124",
   "metadata": {},
   "outputs": [
    {
     "name": "stdout",
     "output_type": "stream",
     "text": [
      "<class 'pandas.core.frame.DataFrame'>\n",
      "Int64Index: 45 entries, 51 to 117\n",
      "Data columns (total 4 columns):\n",
      " #   Column                  Non-Null Count  Dtype  \n",
      "---  ------                  --------------  -----  \n",
      " 0   Age at diagnosis        45 non-null     int64  \n",
      " 1   SLEDAI-2K               45 non-null     int64  \n",
      " 2   Anti-dsDNA (currently)  45 non-null     float64\n",
      " 3   ANF (currently)         45 non-null     int64  \n",
      "dtypes: float64(1), int64(3)\n",
      "memory usage: 1.8 KB\n"
     ]
    }
   ],
   "source": [
    "X_train, X_test, y_train, y_test = train_test_split(X, y, test_size = 0.3, random_state = 21)\n",
    "X_test.info()"
   ]
  },
  {
   "cell_type": "code",
   "execution_count": 51,
   "id": "982618de",
   "metadata": {},
   "outputs": [
    {
     "data": {
      "text/plain": [
       "1    28\n",
       "0    17\n",
       "Name: Class, dtype: int64"
      ]
     },
     "execution_count": 51,
     "metadata": {},
     "output_type": "execute_result"
    }
   ],
   "source": [
    "y_test.value_counts()"
   ]
  },
  {
   "cell_type": "code",
   "execution_count": 52,
   "id": "e47115ef",
   "metadata": {},
   "outputs": [
    {
     "data": {
      "text/plain": [
       "1    56\n",
       "0    47\n",
       "Name: Class, dtype: int64"
      ]
     },
     "execution_count": 52,
     "metadata": {},
     "output_type": "execute_result"
    }
   ],
   "source": [
    "y_train.value_counts()"
   ]
  },
  {
   "cell_type": "code",
   "execution_count": 53,
   "id": "6a990d17",
   "metadata": {},
   "outputs": [],
   "source": [
    "scaler = StandardScaler()\n",
    "X_train_scaled = scaler.fit_transform(X_train)\n",
    "X_test_scaled = scaler.transform(X_test)\n",
    "log_reg = LogisticRegression(random_state = 0).fit(X_train_scaled, y_train)"
   ]
  },
  {
   "cell_type": "code",
   "execution_count": 54,
   "id": "c1119bd5",
   "metadata": {},
   "outputs": [
    {
     "data": {
      "text/plain": [
       "array([1, 1, 1, 1, 0, 1, 0, 1, 0, 0, 1, 0, 0, 1, 0, 0, 0, 0, 0, 0, 1, 0,\n",
       "       1, 0, 0, 0, 0, 1, 0, 1, 1, 1, 0, 1, 1, 0, 1, 1, 0, 0, 1, 1, 0, 0,\n",
       "       0, 1, 1, 0, 1, 1, 0, 1, 1, 0, 0, 1, 1, 0, 1, 0, 1, 1, 1, 0, 0, 1,\n",
       "       1, 0, 0, 1, 1, 0, 0, 0, 1, 1, 0, 1, 1, 1, 0, 1, 0, 0, 0, 1, 1, 0,\n",
       "       0, 0, 1, 1, 1, 1, 0, 0, 1, 0, 1, 1, 1, 1, 1])"
      ]
     },
     "execution_count": 54,
     "metadata": {},
     "output_type": "execute_result"
    }
   ],
   "source": [
    "log_reg.predict(X_train_scaled)"
   ]
  },
  {
   "cell_type": "code",
   "execution_count": 55,
   "id": "a4c21d6e",
   "metadata": {},
   "outputs": [
    {
     "data": {
      "text/plain": [
       "0.7475728155339806"
      ]
     },
     "execution_count": 55,
     "metadata": {},
     "output_type": "execute_result"
    }
   ],
   "source": [
    "log_reg.score(X_train_scaled, y_train)"
   ]
  },
  {
   "cell_type": "code",
   "execution_count": 56,
   "id": "506adc15",
   "metadata": {},
   "outputs": [
    {
     "data": {
      "text/plain": [
       "0.8888888888888888"
      ]
     },
     "execution_count": 56,
     "metadata": {},
     "output_type": "execute_result"
    }
   ],
   "source": [
    "log_reg.score(X_test_scaled, y_test)"
   ]
  },
  {
   "cell_type": "code",
   "execution_count": 57,
   "id": "0c985c58",
   "metadata": {},
   "outputs": [
    {
     "name": "stdout",
     "output_type": "stream",
     "text": [
      "Precision: 0.896551724137931\n"
     ]
    }
   ],
   "source": [
    "from sklearn.metrics import precision_score\n",
    "\n",
    "# Make predictions on the test set\n",
    "y_pred = log_reg.predict(X_test_scaled)\n",
    "\n",
    "# Calculate precision\n",
    "precision = precision_score(y_test, y_pred)\n",
    "\n",
    "# Print the precision\n",
    "print(\"Precision:\", precision)"
   ]
  },
  {
   "cell_type": "code",
   "execution_count": 58,
   "id": "443b93f4",
   "metadata": {},
   "outputs": [
    {
     "name": "stdout",
     "output_type": "stream",
     "text": [
      "F1-score: 0.912280701754386\n"
     ]
    }
   ],
   "source": [
    "from sklearn.metrics import f1_score\n",
    "\n",
    "# Make predictions on the test set\n",
    "y_pred = log_reg.predict(X_test_scaled)\n",
    "\n",
    "# Calculate F1-score\n",
    "f1 = f1_score(y_test, y_pred)\n",
    "\n",
    "# Print the F1-score\n",
    "print(\"F1-score:\", f1)"
   ]
  },
  {
   "cell_type": "code",
   "execution_count": 59,
   "id": "03b7b2a3",
   "metadata": {},
   "outputs": [
    {
     "name": "stdout",
     "output_type": "stream",
     "text": [
      "Recall: 0.9285714285714286\n"
     ]
    }
   ],
   "source": [
    "from sklearn.metrics import recall_score\n",
    "\n",
    "# Make predictions on the test set\n",
    "y_pred = log_reg.predict(X_test_scaled)\n",
    "\n",
    "# Calculate recall\n",
    "recall = recall_score(y_test, y_pred)\n",
    "\n",
    "# Print the recall\n",
    "print(\"Recall:\", recall)"
   ]
  },
  {
   "cell_type": "code",
   "execution_count": 60,
   "id": "f9b73df7",
   "metadata": {},
   "outputs": [
    {
     "name": "stdout",
     "output_type": "stream",
     "text": [
      "Specificity: 0.8235294117647058\n"
     ]
    }
   ],
   "source": [
    "from sklearn.metrics import confusion_matrix\n",
    "\n",
    "# Make predictions on the test set\n",
    "y_pred = log_reg.predict(X_test_scaled)\n",
    "\n",
    "# Create a confusion matrix\n",
    "tn, fp, fn, tp = confusion_matrix(y_test, y_pred).ravel()\n",
    "\n",
    "# Calculate specificity\n",
    "specificity = tn / (tn + fp)\n",
    "\n",
    "# Print the specificity\n",
    "print(\"Specificity:\", specificity)"
   ]
  },
  {
   "cell_type": "code",
   "execution_count": 61,
   "id": "f8e477de",
   "metadata": {},
   "outputs": [
    {
     "name": "stdout",
     "output_type": "stream",
     "text": [
      "AUC-ROC: 0.8970588235294117\n"
     ]
    }
   ],
   "source": [
    "from sklearn.metrics import roc_auc_score\n",
    "\n",
    "# Make predictions on the test set probabilities\n",
    "y_pred_prob = log_reg.predict_proba(X_test_scaled)[:, 1]\n",
    "\n",
    "# Calculate AUC-ROC\n",
    "auc_roc = roc_auc_score(y_test, y_pred_prob)\n",
    "\n",
    "# Print the AUC-ROC score\n",
    "print(\"AUC-ROC:\", auc_roc)"
   ]
  },
  {
   "cell_type": "code",
   "execution_count": 62,
   "id": "a8bca49d",
   "metadata": {},
   "outputs": [
    {
     "name": "stdout",
     "output_type": "stream",
     "text": [
      "Log Loss: 0.4450081903627312\n"
     ]
    }
   ],
   "source": [
    "from sklearn.metrics import log_loss\n",
    "\n",
    "# Make predictions on the test set probabilities\n",
    "y_pred_prob = log_reg.predict_proba(X_test_scaled)\n",
    "\n",
    "# Calculate log loss\n",
    "logloss = log_loss(y_test, y_pred_prob)\n",
    "\n",
    "# Print the log loss\n",
    "print(\"Log Loss:\", logloss)"
   ]
  },
  {
   "cell_type": "code",
   "execution_count": 74,
   "id": "7203afa4",
   "metadata": {},
   "outputs": [
    {
     "name": "stdout",
     "output_type": "stream",
     "text": [
      "Confusion Matrix:\n",
      "[[14  3]\n",
      " [ 2 26]]\n"
     ]
    }
   ],
   "source": [
    "# Make predictions on the test set\n",
    "y_pred = log_reg.predict(X_test_scaled)\n",
    "\n",
    "# Create a confusion matrix\n",
    "conf_matrix = confusion_matrix(y_test, y_pred)\n",
    "\n",
    "\n",
    "# Print the confusion matrix\n",
    "print(\"Confusion Matrix:\")\n",
    "print(conf_matrix)"
   ]
  },
  {
   "cell_type": "code",
   "execution_count": 72,
   "id": "634014f6",
   "metadata": {},
   "outputs": [],
   "source": [
    "import seaborn as sns\n",
    "import matplotlib.pyplot as plt"
   ]
  },
  {
   "cell_type": "code",
   "execution_count": 75,
   "id": "2bd93fe6",
   "metadata": {},
   "outputs": [
    {
     "data": {
      "image/png": "[encoded data removed]",
      "text/plain": [
       "<Figure size 576x432 with 1 Axes>"
      ]
     },
     "metadata": {},
     "output_type": "display_data"
    }
   ],
   "source": [
    "# Plot the confusion matrix using seaborn and matplotlib\n",
    "plt.figure(figsize=(8, 6))\n",
    "sns.set(font_scale=1.2)\n",
    "sns.heatmap(conf_matrix, annot=True, fmt=\"d\", cmap=\"Blues\", cbar=False,\n",
    "            xticklabels=[\"Class 0\", \"Class 1\"], yticklabels=[\"Class 0\", \"Class 1\"])\n",
    "plt.xlabel(\"Predicted\")\n",
    "plt.ylabel(\"Actual\")\n",
    "plt.title(\"Confusion Matrix\")\n",
    "plt.show()"
   ]
  },
  {
   "cell_type": "code",
   "execution_count": 64,
   "id": "d1d4ecdd",
   "metadata": {},
   "outputs": [
    {
     "name": "stdout",
     "output_type": "stream",
     "text": [
      "Coefficients: [[0.51491513 0.78037869 0.26949064 0.36336054]]\n",
      "Intercepts: [0.26440086]\n"
     ]
    }
   ],
   "source": [
    "# Retrieve parameters\n",
    "coefficients = log_reg.coef_\n",
    "intercepts = log_reg.intercept_\n",
    "\n",
    "# Print the parameters\n",
    "print(\"Coefficients:\", coefficients)\n",
    "print(\"Intercepts:\", intercepts)"
   ]
  },
  {
   "cell_type": "code",
   "execution_count": 65,
   "id": "ec8751ed",
   "metadata": {},
   "outputs": [
    {
     "data": {
      "text/html": [
       "<div>\n",
       "<style scoped>\n",
       "    .dataframe tbody tr th:only-of-type {\n",
       "        vertical-align: middle;\n",
       "    }\n",
       "\n",
       "    .dataframe tbody tr th {\n",
       "        vertical-align: top;\n",
       "    }\n",
       "\n",
       "    .dataframe thead th {\n",
       "        text-align: right;\n",
       "    }\n",
       "</style>\n",
       "<table border=\"1\" class=\"dataframe\">\n",
       "  <thead>\n",
       "    <tr style=\"text-align: right;\">\n",
       "      <th></th>\n",
       "      <th>Age at diagnosis</th>\n",
       "      <th>SLEDAI-2K</th>\n",
       "      <th>Anti-dsDNA (currently)</th>\n",
       "      <th>ANF (currently)</th>\n",
       "    </tr>\n",
       "  </thead>\n",
       "  <tbody>\n",
       "    <tr>\n",
       "      <th>95</th>\n",
       "      <td>35</td>\n",
       "      <td>2</td>\n",
       "      <td>124.0</td>\n",
       "      <td>0</td>\n",
       "    </tr>\n",
       "    <tr>\n",
       "      <th>72</th>\n",
       "      <td>27</td>\n",
       "      <td>2</td>\n",
       "      <td>200.0</td>\n",
       "      <td>0</td>\n",
       "    </tr>\n",
       "    <tr>\n",
       "      <th>32</th>\n",
       "      <td>24</td>\n",
       "      <td>2</td>\n",
       "      <td>7.8</td>\n",
       "      <td>1</td>\n",
       "    </tr>\n",
       "    <tr>\n",
       "      <th>121</th>\n",
       "      <td>21</td>\n",
       "      <td>0</td>\n",
       "      <td>4.2</td>\n",
       "      <td>0</td>\n",
       "    </tr>\n",
       "    <tr>\n",
       "      <th>19</th>\n",
       "      <td>22</td>\n",
       "      <td>5</td>\n",
       "      <td>62.0</td>\n",
       "      <td>1</td>\n",
       "    </tr>\n",
       "    <tr>\n",
       "      <th>...</th>\n",
       "      <td>...</td>\n",
       "      <td>...</td>\n",
       "      <td>...</td>\n",
       "      <td>...</td>\n",
       "    </tr>\n",
       "    <tr>\n",
       "      <th>122</th>\n",
       "      <td>46</td>\n",
       "      <td>6</td>\n",
       "      <td>200.0</td>\n",
       "      <td>1</td>\n",
       "    </tr>\n",
       "    <tr>\n",
       "      <th>124</th>\n",
       "      <td>40</td>\n",
       "      <td>7</td>\n",
       "      <td>70.0</td>\n",
       "      <td>0</td>\n",
       "    </tr>\n",
       "    <tr>\n",
       "      <th>125</th>\n",
       "      <td>47</td>\n",
       "      <td>4</td>\n",
       "      <td>189.0</td>\n",
       "      <td>0</td>\n",
       "    </tr>\n",
       "    <tr>\n",
       "      <th>126</th>\n",
       "      <td>34</td>\n",
       "      <td>2</td>\n",
       "      <td>12.0</td>\n",
       "      <td>0</td>\n",
       "    </tr>\n",
       "    <tr>\n",
       "      <th>127</th>\n",
       "      <td>34</td>\n",
       "      <td>12</td>\n",
       "      <td>17.7</td>\n",
       "      <td>0</td>\n",
       "    </tr>\n",
       "  </tbody>\n",
       "</table>\n",
       "<p>148 rows × 4 columns</p>\n",
       "</div>"
      ],
      "text/plain": [
       "     Age at diagnosis  SLEDAI-2K  Anti-dsDNA (currently)  ANF (currently)\n",
       "95                 35          2                   124.0                0\n",
       "72                 27          2                   200.0                0\n",
       "32                 24          2                     7.8                1\n",
       "121                21          0                     4.2                0\n",
       "19                 22          5                    62.0                1\n",
       "..                ...        ...                     ...              ...\n",
       "122                46          6                   200.0                1\n",
       "124                40          7                    70.0                0\n",
       "125                47          4                   189.0                0\n",
       "126                34          2                    12.0                0\n",
       "127                34         12                    17.7                0\n",
       "\n",
       "[148 rows x 4 columns]"
      ]
     },
     "execution_count": 65,
     "metadata": {},
     "output_type": "execute_result"
    }
   ],
   "source": [
    "x_check = X\n",
    "x_check"
   ]
  },
  {
   "cell_type": "code",
   "execution_count": 66,
   "id": "5d8c5efd",
   "metadata": {},
   "outputs": [],
   "source": [
    "x_check_scaled = scaler.transform(x_check)"
   ]
  },
  {
   "cell_type": "code",
   "execution_count": 67,
   "id": "eb216104",
   "metadata": {},
   "outputs": [
    {
     "name": "stdout",
     "output_type": "stream",
     "text": [
      "Confusion Matrix:\n",
      "[[49 15]\n",
      " [16 68]]\n"
     ]
    }
   ],
   "source": [
    "# Make predictions on the test set\n",
    "y_pred = log_reg.predict(x_check_scaled)\n",
    "\n",
    "# Create a confusion matrix\n",
    "conf_matrix = confusion_matrix(y, y_pred)\n",
    "\n",
    "# Print the confusion matrix\n",
    "print(\"Confusion Matrix:\")\n",
    "print(conf_matrix)"
   ]
  },
  {
   "cell_type": "code",
   "execution_count": 705,
   "id": "b9d60588",
   "metadata": {},
   "outputs": [],
   "source": [
    "log_reg1 = LogisticRegression(random_state = 0,\n",
    "                              C = 0.3,\n",
    "                              fit_intercept = True,\n",
    "                             ).fit(X_train_scaled, y_train)"
   ]
  },
  {
   "cell_type": "code",
   "execution_count": 701,
   "id": "f769af24",
   "metadata": {},
   "outputs": [
    {
     "data": {
      "text/plain": [
       "0.7087378640776699"
      ]
     },
     "execution_count": 701,
     "metadata": {},
     "output_type": "execute_result"
    }
   ],
   "source": [
    "log_reg1.score(X_train_scaled, y_train)"
   ]
  },
  {
   "cell_type": "code",
   "execution_count": 702,
   "id": "21965959",
   "metadata": {},
   "outputs": [
    {
     "data": {
      "text/plain": [
       "0.8666666666666667"
      ]
     },
     "execution_count": 702,
     "metadata": {},
     "output_type": "execute_result"
    }
   ],
   "source": [
    "log_reg1.score(X_test_scaled, y_test)"
   ]
  },
  {
   "cell_type": "code",
   "execution_count": 630,
   "id": "c9f275ff",
   "metadata": {},
   "outputs": [
    {
     "name": "stdout",
     "output_type": "stream",
     "text": [
      "Confusion Matrix:\n",
      "[[23 14]\n",
      " [ 5 26]]\n"
     ]
    }
   ],
   "source": [
    "# Make predictions on the test set\n",
    "y_pred = log_reg1.predict(X_test_scaled)\n",
    "\n",
    "# Create a confusion matrix\n",
    "conf_matrix = confusion_matrix(y_test, y_pred)\n",
    "\n",
    "# Print the confusion matrix\n",
    "print(\"Confusion Matrix:\")\n",
    "print(conf_matrix)"
   ]
  },
  {
   "cell_type": "code",
   "execution_count": null,
   "id": "d5d3f802",
   "metadata": {},
   "outputs": [],
   "source": []
  },
  {
   "cell_type": "code",
   "execution_count": 77,
   "id": "9ac6803e",
   "metadata": {},
   "outputs": [],
   "source": [
    "import numpy as np\n",
    "\n",
    "# Save the mean and standard deviation to variables\n",
    "mean_values = scaler.mean_\n",
    "std_values = np.sqrt(scaler.var_)\n",
    "\n",
    "# Save the mean and standard deviation to a file (you can use any preferred format)\n",
    "with open(\"normalization_params.txt\", \"w\") as f:\n",
    "    for mean, std in zip(mean_values, std_values):\n",
    "        f.write(f\"{mean},{std}\\n\")\n"
   ]
  },
  {
   "cell_type": "code",
   "execution_count": null,
   "id": "6a096a3c",
   "metadata": {},
   "outputs": [],
   "source": [
    "# During prediction in another program:\n",
    "# Load the mean and standard deviation from the file\n",
    "mean_values_loaded = []\n",
    "std_values_loaded = []\n",
    "\n",
    "with open(\"normalization_params.txt\", \"r\") as f:\n",
    "    for line in f:\n",
    "        mean, std = line.strip().split(\",\")\n",
    "        mean_values_loaded.append(float(mean))\n",
    "        std_values_loaded.append(float(std))\n",
    "\n",
    "mean_values_loaded = np.array(mean_values_loaded)\n",
    "std_values_loaded = np.array(std_values_loaded)\n",
    "\n",
    "# Normalize the new example (assuming it's in X_new, a 1D array with shape [num_features])\n",
    "X_new_normalized = (X_new - mean_values_loaded) / std_values_loaded\n",
    "\n",
    "# Use your logistic model to predict the binary class for the new example based on X_new_normalized."
   ]
  },
  {
   "cell_type": "markdown",
   "id": "a1d3c4df",
   "metadata": {},
   "source": [
    "# Predict for new examples "
   ]
  },
  {
   "cell_type": "code",
   "execution_count": 86,
   "id": "cfba9e34",
   "metadata": {},
   "outputs": [
    {
     "name": "stdout",
     "output_type": "stream",
     "text": [
      "1\n"
     ]
    }
   ],
   "source": [
    "import numpy as np\n",
    "\n",
    "# Coefficients and intercept\n",
    "coefficients = np.array([0.51491513, 0.78037869, 0.26949064, 0.36336054])\n",
    "intercept = np.array([0.26440086])\n",
    "\n",
    "# Normalization parameters\n",
    "mean_values = np.array([27.223300970873787, 4.650485436893204, 83.80388349514566, 0.42718446601941745])\n",
    "std_values = np.array([9.942487078078907, 3.69126162520489, 86.01066531555992, 0.4946694836060969])\n",
    "\n",
    "# New examples (replace with your actual values)\n",
    "new_examples = np.array([\n",
    "    [14, 6, 100.4, 1]  # Replace with your actual values\n",
    "    # ... add more new examples if needed\n",
    "])\n",
    "\n",
    "# Normalize the new examples using the provided normalization parameters\n",
    "normalized_new_examples = (new_examples - mean_values) / std_values\n",
    "\n",
    "# Calculate the linear combination of features and coefficients\n",
    "linear_combination = np.dot(normalized_new_examples, coefficients) + intercept\n",
    "\n",
    "# Apply the logistic function to get the predicted probabilities\n",
    "predicted_probabilities = 1 / (1 + np.exp(-linear_combination))\n",
    "\n",
    "# Convert predicted probabilities to predicted classes (0 or 1)\n",
    "predicted_classes = np.round(predicted_probabilities)\n",
    "\n",
    "print(int(predicted_classes))\n"
   ]
  },
  {
   "cell_type": "code",
   "execution_count": 82,
   "id": "188234a5",
   "metadata": {},
   "outputs": [
    {
     "data": {
      "text/html": [
       "<div>\n",
       "<style scoped>\n",
       "    .dataframe tbody tr th:only-of-type {\n",
       "        vertical-align: middle;\n",
       "    }\n",
       "\n",
       "    .dataframe tbody tr th {\n",
       "        vertical-align: top;\n",
       "    }\n",
       "\n",
       "    .dataframe thead th {\n",
       "        text-align: right;\n",
       "    }\n",
       "</style>\n",
       "<table border=\"1\" class=\"dataframe\">\n",
       "  <thead>\n",
       "    <tr style=\"text-align: right;\">\n",
       "      <th></th>\n",
       "      <th>Age at diagnosis</th>\n",
       "      <th>SLEDAI-2K</th>\n",
       "      <th>Anti-dsDNA (currently)</th>\n",
       "      <th>ANF (currently)</th>\n",
       "      <th>Class</th>\n",
       "    </tr>\n",
       "  </thead>\n",
       "  <tbody>\n",
       "    <tr>\n",
       "      <th>0</th>\n",
       "      <td>32</td>\n",
       "      <td>0</td>\n",
       "      <td>4.2</td>\n",
       "      <td>0</td>\n",
       "      <td>1</td>\n",
       "    </tr>\n",
       "    <tr>\n",
       "      <th>1</th>\n",
       "      <td>28</td>\n",
       "      <td>6</td>\n",
       "      <td>60.0</td>\n",
       "      <td>1</td>\n",
       "      <td>1</td>\n",
       "    </tr>\n",
       "    <tr>\n",
       "      <th>2</th>\n",
       "      <td>20</td>\n",
       "      <td>10</td>\n",
       "      <td>130.0</td>\n",
       "      <td>0</td>\n",
       "      <td>1</td>\n",
       "    </tr>\n",
       "    <tr>\n",
       "      <th>3</th>\n",
       "      <td>16</td>\n",
       "      <td>2</td>\n",
       "      <td>0.0</td>\n",
       "      <td>0</td>\n",
       "      <td>0</td>\n",
       "    </tr>\n",
       "    <tr>\n",
       "      <th>4</th>\n",
       "      <td>14</td>\n",
       "      <td>2</td>\n",
       "      <td>10.4</td>\n",
       "      <td>1</td>\n",
       "      <td>0</td>\n",
       "    </tr>\n",
       "    <tr>\n",
       "      <th>...</th>\n",
       "      <td>...</td>\n",
       "      <td>...</td>\n",
       "      <td>...</td>\n",
       "      <td>...</td>\n",
       "      <td>...</td>\n",
       "    </tr>\n",
       "    <tr>\n",
       "      <th>124</th>\n",
       "      <td>40</td>\n",
       "      <td>7</td>\n",
       "      <td>70.0</td>\n",
       "      <td>0</td>\n",
       "      <td>1</td>\n",
       "    </tr>\n",
       "    <tr>\n",
       "      <th>125</th>\n",
       "      <td>47</td>\n",
       "      <td>4</td>\n",
       "      <td>189.0</td>\n",
       "      <td>0</td>\n",
       "      <td>1</td>\n",
       "    </tr>\n",
       "    <tr>\n",
       "      <th>126</th>\n",
       "      <td>34</td>\n",
       "      <td>2</td>\n",
       "      <td>12.0</td>\n",
       "      <td>0</td>\n",
       "      <td>1</td>\n",
       "    </tr>\n",
       "    <tr>\n",
       "      <th>127</th>\n",
       "      <td>34</td>\n",
       "      <td>12</td>\n",
       "      <td>17.7</td>\n",
       "      <td>0</td>\n",
       "      <td>1</td>\n",
       "    </tr>\n",
       "    <tr>\n",
       "      <th>128</th>\n",
       "      <td>32</td>\n",
       "      <td>4</td>\n",
       "      <td>105.0</td>\n",
       "      <td>0</td>\n",
       "      <td>0</td>\n",
       "    </tr>\n",
       "  </tbody>\n",
       "</table>\n",
       "<p>129 rows × 5 columns</p>\n",
       "</div>"
      ],
      "text/plain": [
       "     Age at diagnosis  SLEDAI-2K  Anti-dsDNA (currently)  ANF (currently)  \\\n",
       "0                  32          0                     4.2                0   \n",
       "1                  28          6                    60.0                1   \n",
       "2                  20         10                   130.0                0   \n",
       "3                  16          2                     0.0                0   \n",
       "4                  14          2                    10.4                1   \n",
       "..                ...        ...                     ...              ...   \n",
       "124                40          7                    70.0                0   \n",
       "125                47          4                   189.0                0   \n",
       "126                34          2                    12.0                0   \n",
       "127                34         12                    17.7                0   \n",
       "128                32          4                   105.0                0   \n",
       "\n",
       "     Class  \n",
       "0        1  \n",
       "1        1  \n",
       "2        1  \n",
       "3        0  \n",
       "4        0  \n",
       "..     ...  \n",
       "124      1  \n",
       "125      1  \n",
       "126      1  \n",
       "127      1  \n",
       "128      0  \n",
       "\n",
       "[129 rows x 5 columns]"
      ]
     },
     "execution_count": 82,
     "metadata": {},
     "output_type": "execute_result"
    }
   ],
   "source": [
    "df"
   ]
  },
  {
   "cell_type": "code",
   "execution_count": null,
   "id": "95cfc535",
   "metadata": {},
   "outputs": [],
   "source": []
  }
 ],
 "metadata": {
  "kernelspec": {
   "display_name": "Python 3",
   "language": "python",
   "name": "python3"
  },
  "language_info": {
   "codemirror_mode": {
    "name": "ipython",
    "version": 3
   },
   "file_extension": ".py",
   "mimetype": "text/x-python",
   "name": "python",
   "nbconvert_exporter": "python",
   "pygments_lexer": "ipython3",
   "version": "3.8.8"
  }
 },
 "nbformat": 4,
 "nbformat_minor": 5
}
